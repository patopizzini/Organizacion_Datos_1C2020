{
 "cells": [
  {
   "cell_type": "code",
   "execution_count": 3,
   "metadata": {
    "colab": {
     "base_uri": "https://localhost:8080/",
     "height": 263
    },
    "colab_type": "code",
    "id": "DOTP3-6aBwhS",
    "outputId": "78737a67-b7b0-4bae-fc65-7ad08600a718"
   },
   "outputs": [],
   "source": [
    "import pandas as pd\n",
    "from numpy import isnan\n",
    "import seaborn as sns\n",
    "import os\n",
    " \n",
    "# Credenciales aqui:\n",
    "os.environ['KAGGLE_USERNAME'] = \"juanmg0511\" #BORRAR CUANDO SE TERMINE DE USAR!!!\n",
    "os.environ['KAGGLE_KEY'] = \"*\" #BORRAR CUANDO SE TERMINE DE USAR!!!"
   ]
  },
  {
   "cell_type": "code",
   "execution_count": 4,
   "metadata": {
    "colab": {},
    "colab_type": "code",
    "id": "TeNUwDScVxW8"
   },
   "outputs": [],
   "source": [
    "sns.set(rc = {'figure.figsize':(20,5)})"
   ]
  },
  {
   "cell_type": "markdown",
   "metadata": {
    "colab_type": "text",
    "id": "gSVR9WnjEthT"
   },
   "source": [
    "# Aca podes subir al colab o usar tus credenciales arriba para cargar la data"
   ]
  },
  {
   "cell_type": "code",
   "execution_count": 5,
   "metadata": {
    "colab": {},
    "colab_type": "code",
    "id": "3ygRJ47TU_lk"
   },
   "outputs": [
    {
     "name": "stdout",
     "output_type": "stream",
     "text": [
      "Downloading nlp-getting-started.zip to /Users/juan0511/Temporary/75.06/TP/Organizacion_Datos_1C2020\n",
      "100%|███████████████████████████████████████| 58.2k/58.2k [00:00<00:00, 567kB/s]\n",
      "100%|███████████████████████████████████████| 58.2k/58.2k [00:00<00:00, 564kB/s]\n",
      "Archive:  nlp-getting-started.zip\n",
      "  inflating: leaderboard/nlp-getting-started-publicleaderboard.csv  \n"
     ]
    }
   ],
   "source": [
    "# OPCION CARGAR LA DATA DESDE KAGGLE PONIENDO CREDENCIALES (no olvidarse de quitarlas antes de irse)\n",
    "\n",
    "!kaggle competitions leaderboard --download nlp-getting-started\n",
    "!unzip nlp-getting-started.zip -d leaderboard\n",
    "leaderboard = pd.read_csv(\"leaderboard/nlp-getting-started-publicleaderboard.csv\")"
   ]
  },
  {
   "cell_type": "markdown",
   "metadata": {
    "colab_type": "text",
    "id": "XBzVh_yOdct0"
   },
   "source": [
    "# AGREGA TU NOMBRE DE GRUPO ACA (si queres)"
   ]
  },
  {
   "cell_type": "code",
   "execution_count": 6,
   "metadata": {
    "colab": {},
    "colab_type": "code",
    "id": "qji58hKVIQD5"
   },
   "outputs": [],
   "source": [
    "# En nombre_en_kaggle se agregan los grupos que no pudieron ser encontrados en piazza\n",
    "# y que a ojo se encontraron en kaggle\n",
    "\n",
    "nombre_en_kaggle = [\n",
    "    'COVIDATOS' ,\n",
    "    'fiuba_barros_gomez', \n",
    "    'Data Science Monsters',\n",
    "]"
   ]
  },
  {
   "cell_type": "code",
   "execution_count": 7,
   "metadata": {
    "colab": {},
    "colab_type": "code",
    "id": "ulggygd2Hbb0"
   },
   "outputs": [],
   "source": [
    "piazza = [\n",
    " 'King Data',\n",
    " 'How i met your data',\n",
    " 'Datavid-19',\n",
    " 'Coronapandas',\n",
    " 'El tío del marido de Pampita',\n",
    " 'El cuarteto imperial',\n",
    " 'Equipo Cloud',\n",
    " 'Superficial Intelligence',\n",
    " 'DataDevs',\n",
    " 'The Datalorian',\n",
    " 'Corona2',\n",
    " 'Les chiques super poderoses',\n",
    " 'CuarenData 2.0',\n",
    " 'Pyrañas',\n",
    " 'Grupo Phyton Fiuba',\n",
    " 'Grupo rosa',\n",
    " 'DATAVID-20',\n",
    " 'Grupo con barbijo',\n",
    " 'Grupo 13',\n",
    " 'AlphaZero',\n",
    " 'undefined',\n",
    " 'Barbijo De Uranio',\n",
    " 'COVIgData -19',\n",
    " 'ChocoTeam',\n",
    " 'El Cuarteto del Code',\n",
    " 'DatUs',\n",
    " 'covidatos',\n",
    " 'Grupo Orga Datos',\n",
    " 'DataSOS',\n",
    " 'DataTravellers',\n",
    " 'CoronaDatos',\n",
    " 'Data hunters',\n",
    " 'DTS: DaTa Science',\n",
    " 'Rest Driven Development',\n",
    " 'Unidos por los datos',\n",
    " 'Here we go again',\n",
    " 'Undefined',\n",
    " 'Los últimos',\n",
    " 'Team_Undav',\n",
    " 'DelLejanoOeste',\n",
    " 'Kung Fu Panda',\n",
    " 'Grupo - AVV',\n",
    " 'El Jabalí Salvaje',\n",
    " 'Oyentes en cuarentena 2020.',\n",
    " 'Los Oyentes 700',\n",
    " 'Oh La La, Data',\n",
    " 'Belu +3',\n",
    " 'Grupo Random',\n",
    " 'DATA',\n",
    " 'El gato de Turing',\n",
    " 'ECONOSDATA',\n",
    " 'marte',\n",
    " 'Los aprendices de Oogway',\n",
    " 'GMC',\n",
    " 'Zumba',\n",
    " 'Datos al alcance',\n",
    " 'Reykjavik',\n",
    " 'Reinventadas',\n",
    " '3Sigma',\n",
    " 'Grupo Rocket Cósmico',\n",
    " 'NameError',\n",
    " 'Daiana Vega']"
   ]
  },
  {
   "cell_type": "markdown",
   "metadata": {
    "colab_type": "text",
    "id": "cj2WjzuABwho"
   },
   "source": [
    "# Funciones"
   ]
  },
  {
   "cell_type": "code",
   "execution_count": 8,
   "metadata": {
    "colab": {},
    "colab_type": "code",
    "id": "flD-NKiDBwhp"
   },
   "outputs": [],
   "source": [
    "def seParecen(g,l,threshold):\n",
    "    \n",
    "    l = str(l)\n",
    "    g = str(g)\n",
    "    \n",
    "    if len(g) > len(l):\n",
    "        smaller = l\n",
    "        larger = g\n",
    "    else:\n",
    "        smaller = g\n",
    "        larger = l\n",
    "        \n",
    "    count = 0\n",
    "    for i in range(len(smaller)):\n",
    "        if g[i] == l[i]:\n",
    "            count += 1\n",
    "    \n",
    "    return count/len(larger) >= threshold or smaller in larger"
   ]
  },
  {
   "cell_type": "markdown",
   "metadata": {
    "colab_type": "text",
    "id": "20e5a-yzBwhw"
   },
   "source": [
    "# Encontrando grupos que tienen un nombre parecido en kaggle a los de piazza\n",
    "\n",
    "    Esto se podria comentar por completo si tenemos el nombre exacto de cada grupo. De ser ese el caso se podria solucionar facil el filtrado con un simple merge"
   ]
  },
  {
   "cell_type": "code",
   "execution_count": 9,
   "metadata": {
    "colab": {},
    "colab_type": "code",
    "id": "vN3j7lZFBwhw"
   },
   "outputs": [],
   "source": [
    "g_id = { g:i for i,g in enumerate(piazza)}\n",
    "l_id = { l:i for i,l in enumerate(leaderboard['TeamName'].values)}\n",
    "\n",
    "parecidos = {}\n",
    "asignados = {}\n",
    "for g in piazza:\n",
    "    for l in list(leaderboard['TeamName'].values):\n",
    "        \n",
    "        if not (type(g) == type('') and type(l) == type('')):\n",
    "            continue\n",
    "            \n",
    "        if seParecen(g,l,0.7):\n",
    "            if not l in asignados:\n",
    "                asignados[l] = g\n",
    "                parecidos[g] = l\n",
    "            \n",
    "fuera = []\n",
    "for g in g_id:\n",
    "    if not g in parecidos:\n",
    "        fuera.append(g)\n",
    "        \n",
    "for g in fuera:\n",
    "    for l in list(leaderboard['TeamName'].values):\n",
    "        \n",
    "        if not (type(g) == type('') and type(l) == type('')):\n",
    "            continue\n",
    "            \n",
    "        if seParecen(g,l,0.5):\n",
    "            if not l in asignados:\n",
    "                asignados[l] = g\n",
    "                parecidos[g] = l\n",
    "            \n",
    "fuera = []\n",
    "for g in g_id:\n",
    "    if not g in parecidos:\n",
    "        fuera.append(g)"
   ]
  },
  {
   "cell_type": "markdown",
   "metadata": {
    "colab_type": "text",
    "id": "EzZWotAdBwh3"
   },
   "source": [
    "# Filtrando"
   ]
  },
  {
   "cell_type": "code",
   "execution_count": 10,
   "metadata": {
    "colab": {},
    "colab_type": "code",
    "id": "qbMdox-oBwh4"
   },
   "outputs": [],
   "source": [
    "cross = leaderboard[leaderboard['TeamName'].isin(list(parecidos.values()) + piazza + nombre_en_kaggle)]"
   ]
  },
  {
   "cell_type": "markdown",
   "metadata": {
    "colab_type": "text",
    "id": "Rj8g3IKhBwh-"
   },
   "source": [
    "# Leaderboard Orga de Datos"
   ]
  },
  {
   "cell_type": "code",
   "execution_count": 11,
   "metadata": {
    "colab": {
     "base_uri": "https://localhost:8080/",
     "height": 896
    },
    "colab_type": "code",
    "id": "zDXbNi5BBwh_",
    "outputId": "6b02a033-0e09-4ac0-e440-4d11a007f8bd"
   },
   "outputs": [
    {
     "data": {
      "text/html": [
       "<div>\n",
       "<style scoped>\n",
       "    .dataframe tbody tr th:only-of-type {\n",
       "        vertical-align: middle;\n",
       "    }\n",
       "\n",
       "    .dataframe tbody tr th {\n",
       "        vertical-align: top;\n",
       "    }\n",
       "\n",
       "    .dataframe thead th {\n",
       "        text-align: right;\n",
       "    }\n",
       "</style>\n",
       "<table border=\"1\" class=\"dataframe\">\n",
       "  <thead>\n",
       "    <tr style=\"text-align: right;\">\n",
       "      <th></th>\n",
       "      <th>TeamName</th>\n",
       "      <th>Score</th>\n",
       "      <th>relative</th>\n",
       "    </tr>\n",
       "  </thead>\n",
       "  <tbody>\n",
       "    <tr>\n",
       "      <th>0</th>\n",
       "      <td>Superficial Intelligence</td>\n",
       "      <td>0.84216</td>\n",
       "      <td>5.026</td>\n",
       "    </tr>\n",
       "    <tr>\n",
       "      <th>1</th>\n",
       "      <td>marbel</td>\n",
       "      <td>0.83971</td>\n",
       "      <td>4.781</td>\n",
       "    </tr>\n",
       "    <tr>\n",
       "      <th>2</th>\n",
       "      <td>COVIgData-19</td>\n",
       "      <td>0.83879</td>\n",
       "      <td>4.689</td>\n",
       "    </tr>\n",
       "    <tr>\n",
       "      <th>3</th>\n",
       "      <td>Grupo python fiuba</td>\n",
       "      <td>0.83879</td>\n",
       "      <td>4.689</td>\n",
       "    </tr>\n",
       "    <tr>\n",
       "      <th>4</th>\n",
       "      <td>Corona2</td>\n",
       "      <td>0.83604</td>\n",
       "      <td>4.414</td>\n",
       "    </tr>\n",
       "    <tr>\n",
       "      <th>5</th>\n",
       "      <td>DatUs</td>\n",
       "      <td>0.83113</td>\n",
       "      <td>3.923</td>\n",
       "    </tr>\n",
       "    <tr>\n",
       "      <th>6</th>\n",
       "      <td>El Cuarteto Imperial</td>\n",
       "      <td>0.82868</td>\n",
       "      <td>3.678</td>\n",
       "    </tr>\n",
       "    <tr>\n",
       "      <th>7</th>\n",
       "      <td>COVIDATOS</td>\n",
       "      <td>0.82715</td>\n",
       "      <td>3.525</td>\n",
       "    </tr>\n",
       "    <tr>\n",
       "      <th>8</th>\n",
       "      <td>El tio del marido de Pampita</td>\n",
       "      <td>0.82562</td>\n",
       "      <td>3.372</td>\n",
       "    </tr>\n",
       "    <tr>\n",
       "      <th>9</th>\n",
       "      <td>Grupo Orga Datos</td>\n",
       "      <td>0.82562</td>\n",
       "      <td>3.372</td>\n",
       "    </tr>\n",
       "    <tr>\n",
       "      <th>10</th>\n",
       "      <td>Unidos por los datos</td>\n",
       "      <td>0.82470</td>\n",
       "      <td>3.280</td>\n",
       "    </tr>\n",
       "    <tr>\n",
       "      <th>11</th>\n",
       "      <td>Grupo 13</td>\n",
       "      <td>0.81673</td>\n",
       "      <td>2.483</td>\n",
       "    </tr>\n",
       "    <tr>\n",
       "      <th>12</th>\n",
       "      <td>DataSOS</td>\n",
       "      <td>0.81274</td>\n",
       "      <td>2.084</td>\n",
       "    </tr>\n",
       "    <tr>\n",
       "      <th>13</th>\n",
       "      <td>fiuba_barros_gomez</td>\n",
       "      <td>0.81213</td>\n",
       "      <td>2.023</td>\n",
       "    </tr>\n",
       "    <tr>\n",
       "      <th>14</th>\n",
       "      <td>How I Met Your Data</td>\n",
       "      <td>0.80815</td>\n",
       "      <td>1.625</td>\n",
       "    </tr>\n",
       "    <tr>\n",
       "      <th>15</th>\n",
       "      <td>The Datalorian</td>\n",
       "      <td>0.80784</td>\n",
       "      <td>1.594</td>\n",
       "    </tr>\n",
       "    <tr>\n",
       "      <th>16</th>\n",
       "      <td>Data Science Monsters</td>\n",
       "      <td>0.80661</td>\n",
       "      <td>1.471</td>\n",
       "    </tr>\n",
       "    <tr>\n",
       "      <th>17</th>\n",
       "      <td>Grupo Rosa</td>\n",
       "      <td>0.80600</td>\n",
       "      <td>1.410</td>\n",
       "    </tr>\n",
       "    <tr>\n",
       "      <th>18</th>\n",
       "      <td>Grupo 1 - King Data</td>\n",
       "      <td>0.80539</td>\n",
       "      <td>1.349</td>\n",
       "    </tr>\n",
       "    <tr>\n",
       "      <th>19</th>\n",
       "      <td>Barbijo de Uranio</td>\n",
       "      <td>0.80202</td>\n",
       "      <td>1.012</td>\n",
       "    </tr>\n",
       "    <tr>\n",
       "      <th>20</th>\n",
       "      <td>Kung Fu Panda</td>\n",
       "      <td>0.80171</td>\n",
       "      <td>0.981</td>\n",
       "    </tr>\n",
       "    <tr>\n",
       "      <th>21</th>\n",
       "      <td>Equipo Cloud</td>\n",
       "      <td>0.79865</td>\n",
       "      <td>0.675</td>\n",
       "    </tr>\n",
       "    <tr>\n",
       "      <th>22</th>\n",
       "      <td>Mayank Desai</td>\n",
       "      <td>0.79589</td>\n",
       "      <td>0.399</td>\n",
       "    </tr>\n",
       "    <tr>\n",
       "      <th>23</th>\n",
       "      <td>Undefined</td>\n",
       "      <td>0.79558</td>\n",
       "      <td>0.368</td>\n",
       "    </tr>\n",
       "    <tr>\n",
       "      <th>24</th>\n",
       "      <td>El Cuarteto del Code</td>\n",
       "      <td>0.79497</td>\n",
       "      <td>0.307</td>\n",
       "    </tr>\n",
       "    <tr>\n",
       "      <th>25</th>\n",
       "      <td>Datastic</td>\n",
       "      <td>0.79466</td>\n",
       "      <td>0.276</td>\n",
       "    </tr>\n",
       "    <tr>\n",
       "      <th>26</th>\n",
       "      <td>Datavid-19</td>\n",
       "      <td>0.79374</td>\n",
       "      <td>0.184</td>\n",
       "    </tr>\n",
       "    <tr>\n",
       "      <th>27</th>\n",
       "      <td>CoronaDatos</td>\n",
       "      <td>0.79252</td>\n",
       "      <td>0.062</td>\n",
       "    </tr>\n",
       "    <tr>\n",
       "      <th>28</th>\n",
       "      <td>Grupo 33 - DataTravellers</td>\n",
       "      <td>0.79190</td>\n",
       "      <td>0.000</td>\n",
       "    </tr>\n",
       "    <tr>\n",
       "      <th>29</th>\n",
       "      <td>Alpha Zero</td>\n",
       "      <td>0.79160</td>\n",
       "      <td>-0.030</td>\n",
       "    </tr>\n",
       "    <tr>\n",
       "      <th>30</th>\n",
       "      <td>ChocoTeam</td>\n",
       "      <td>0.79129</td>\n",
       "      <td>-0.061</td>\n",
       "    </tr>\n",
       "    <tr>\n",
       "      <th>31</th>\n",
       "      <td>Pyrañas</td>\n",
       "      <td>0.79037</td>\n",
       "      <td>-0.153</td>\n",
       "    </tr>\n",
       "    <tr>\n",
       "      <th>32</th>\n",
       "      <td>Data Hunters</td>\n",
       "      <td>0.69904</td>\n",
       "      <td>-9.286</td>\n",
       "    </tr>\n",
       "  </tbody>\n",
       "</table>\n",
       "</div>"
      ],
      "text/plain": [
       "                        TeamName    Score  relative\n",
       "0       Superficial Intelligence  0.84216     5.026\n",
       "1                         marbel  0.83971     4.781\n",
       "2                   COVIgData-19  0.83879     4.689\n",
       "3             Grupo python fiuba  0.83879     4.689\n",
       "4                        Corona2  0.83604     4.414\n",
       "5                          DatUs  0.83113     3.923\n",
       "6           El Cuarteto Imperial  0.82868     3.678\n",
       "7                      COVIDATOS  0.82715     3.525\n",
       "8   El tio del marido de Pampita  0.82562     3.372\n",
       "9               Grupo Orga Datos  0.82562     3.372\n",
       "10          Unidos por los datos  0.82470     3.280\n",
       "11                      Grupo 13  0.81673     2.483\n",
       "12                       DataSOS  0.81274     2.084\n",
       "13            fiuba_barros_gomez  0.81213     2.023\n",
       "14           How I Met Your Data  0.80815     1.625\n",
       "15                The Datalorian  0.80784     1.594\n",
       "16         Data Science Monsters  0.80661     1.471\n",
       "17                    Grupo Rosa  0.80600     1.410\n",
       "18           Grupo 1 - King Data  0.80539     1.349\n",
       "19             Barbijo de Uranio  0.80202     1.012\n",
       "20                 Kung Fu Panda  0.80171     0.981\n",
       "21                  Equipo Cloud  0.79865     0.675\n",
       "22                  Mayank Desai  0.79589     0.399\n",
       "23                     Undefined  0.79558     0.368\n",
       "24          El Cuarteto del Code  0.79497     0.307\n",
       "25                      Datastic  0.79466     0.276\n",
       "26                    Datavid-19  0.79374     0.184\n",
       "27                   CoronaDatos  0.79252     0.062\n",
       "28     Grupo 33 - DataTravellers  0.79190     0.000\n",
       "29                    Alpha Zero  0.79160    -0.030\n",
       "30                     ChocoTeam  0.79129    -0.061\n",
       "31                       Pyrañas  0.79037    -0.153\n",
       "32                  Data Hunters  0.69904    -9.286"
      ]
     },
     "execution_count": 11,
     "metadata": {},
     "output_type": "execute_result"
    }
   ],
   "source": [
    "datos_leaderboard = cross.groupby('TeamName')['SubmissionDate'].max().to_frame().merge(cross, on = 'SubmissionDate')\\\n",
    "    .sort_values('Score', ascending = False).reset_index()[['TeamName','Score']]\n",
    "\n",
    "teamName = 'Grupo 33 - DataTravellers' #pone tu grupo\n",
    "\n",
    "your_team_score = datos_leaderboard[datos_leaderboard['TeamName'] == teamName]['Score'].values[0]\n",
    "datos_leaderboard['relative'] = (datos_leaderboard['Score'] - your_team_score) * 100\n",
    "\n",
    "datos_leaderboard"
   ]
  },
  {
   "cell_type": "markdown",
   "metadata": {
    "colab_type": "text",
    "id": "y2EcoHSdBwiG"
   },
   "source": [
    "# Podes ver el progreso de el team que quieras"
   ]
  },
  {
   "cell_type": "code",
   "execution_count": 12,
   "metadata": {
    "colab": {
     "base_uri": "https://localhost:8080/",
     "height": 316
    },
    "colab_type": "code",
    "id": "_LDqxWBHBwiH",
    "outputId": "c1a8bcd2-3008-45cd-96fc-87b8065f4841"
   },
   "outputs": [
    {
     "data": {
      "image/png": "[encoded data removed]",
      "text/plain": [
       "<Figure size 1440x360 with 1 Axes>"
      ]
     },
     "metadata": {},
     "output_type": "display_data"
    }
   ],
   "source": [
    "teamName = 'Grupo 33 - DataTravellers' #pone tu grupo\n",
    "\n",
    "v = sns.barplot(x = 'SubmissionDate', y = 'Score', data = leaderboard[ leaderboard['TeamName'] == teamName ], palette = 'icefire')\n",
    "v.set(ylim=(0.5, datos_leaderboard['Score'].max()))\n",
    "for item in v.get_xticklabels():\n",
    "        item.set_rotation(45)"
   ]
  },
  {
   "cell_type": "markdown",
   "metadata": {
    "colab_type": "text",
    "id": "X1u7_WPsBwiL"
   },
   "source": [
    "# Cantidad de sumbits que significaron un nuevo record"
   ]
  },
  {
   "cell_type": "code",
   "execution_count": 13,
   "metadata": {
    "colab": {
     "base_uri": "https://localhost:8080/",
     "height": 521
    },
    "colab_type": "code",
    "id": "z9tRyEG1BwiN",
    "outputId": "5e6abf99-baa2-4ba9-e815-41ce0c1a46c1"
   },
   "outputs": [
    {
     "data": {
      "text/plain": [
       "TeamName\n",
       "DatUs                           23\n",
       "Unidos por los datos            18\n",
       "The Datalorian                  16\n",
       "El Cuarteto Imperial            15\n",
       "Superficial Intelligence        12\n",
       "Grupo 1 - King Data             12\n",
       "El Cuarteto del Code            11\n",
       "Grupo Orga Datos                10\n",
       "El tio del marido de Pampita     9\n",
       "Grupo 33 - DataTravellers        9\n",
       "COVIgData-19                     8\n",
       "Corona2                          8\n",
       "Grupo 13                         8\n",
       "COVIDATOS                        8\n",
       "Barbijo de Uranio                8\n",
       "Datastic                         8\n",
       "Alpha Zero                       8\n",
       "Datavid-19                       7\n",
       "Grupo python fiuba               6\n",
       "Grupo Rosa                       6\n",
       "fiuba_barros_gomez               6\n",
       "DataSOS                          5\n",
       "Mayank Desai                     4\n",
       "Pyrañas                          4\n",
       "ChocoTeam                        4\n",
       "Data Hunters                     4\n",
       "marbel                           3\n",
       "Data Science Monsters            3\n",
       "Kung Fu Panda                    3\n",
       "Equipo Cloud                     3\n",
       "CoronaDatos                      2\n",
       "How I Met Your Data              2\n",
       "Undefined                        1\n",
       "Name: SubmissionDate, dtype: int64"
      ]
     },
     "execution_count": 13,
     "metadata": {},
     "output_type": "execute_result"
    }
   ],
   "source": [
    "cross.groupby('TeamName')['SubmissionDate'].count().sort_values(ascending = False)"
   ]
  },
  {
   "cell_type": "code",
   "execution_count": null,
   "metadata": {
    "colab": {},
    "colab_type": "code",
    "id": "fhCNIOKrBwiR"
   },
   "outputs": [],
   "source": []
  },
  {
   "cell_type": "code",
   "execution_count": null,
   "metadata": {},
   "outputs": [],
   "source": []
  }
 ],
 "metadata": {
  "colab": {
   "collapsed_sections": [],
   "name": "leaderboard.ipynb",
   "provenance": []
  },
  "kernelspec": {
   "display_name": "Python 3",
   "language": "python",
   "name": "python3"
  },
  "language_info": {
   "codemirror_mode": {
    "name": "ipython",
    "version": 3
   },
   "file_extension": ".py",
   "mimetype": "text/x-python",
   "name": "python",
   "nbconvert_exporter": "python",
   "pygments_lexer": "ipython3",
   "version": "3.7.6"
  }
 },
 "nbformat": 4,
 "nbformat_minor": 4
}
