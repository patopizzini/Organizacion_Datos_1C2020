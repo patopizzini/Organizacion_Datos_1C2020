{
 "cells": [
  {
   "cell_type": "code",
   "execution_count": 1,
   "metadata": {},
   "outputs": [
    {
     "name": "stderr",
     "output_type": "stream",
     "text": [
      "[nltk_data] Downloading package punkt to\n",
      "[nltk_data]     C:\\Users\\Pato\\AppData\\Roaming\\nltk_data...\n",
      "[nltk_data]   Package punkt is already up-to-date!\n",
      "[nltk_data] Downloading package wordnet to\n",
      "[nltk_data]     C:\\Users\\Pato\\AppData\\Roaming\\nltk_data...\n",
      "[nltk_data]   Package wordnet is already up-to-date!\n",
      "[nltk_data] Downloading package stopwords to\n",
      "[nltk_data]     C:\\Users\\Pato\\AppData\\Roaming\\nltk_data...\n",
      "[nltk_data]   Package stopwords is already up-to-date!\n",
      "[nltk_data] Downloading package averaged_perceptron_tagger to\n",
      "[nltk_data]     C:\\Users\\Pato\\AppData\\Roaming\\nltk_data...\n",
      "[nltk_data]   Package averaged_perceptron_tagger is already up-to-\n",
      "[nltk_data]       date!\n"
     ]
    }
   ],
   "source": [
    "# 75.06 - 1C202 - TP2 \n",
    "# Competencia de Machine learning\n",
    "#\n",
    "# https://www.kaggle.com/c/nlp-getting-started/overview\n",
    "#\n",
    "# Fuentes:\n",
    "# https://realpython.com/python-keras-text-classification/\n",
    "# https://towardsdatascience.com/data-augmentation-in-nlp-2801a34dfc28\n",
    "\n",
    "# Importacion de librerias necesarias\n",
    "import re, string, random\n",
    "import warnings\n",
    "import pandas as pd\n",
    "import numpy as np\n",
    "import matplotlib.pyplot as plt\n",
    "\n",
    "# NLTK\n",
    "# https://www.nltk.org\n",
    "import nltk\n",
    "nltk.download('punkt')\n",
    "nltk.download('wordnet')\n",
    "nltk.download('stopwords')\n",
    "nltk.download('averaged_perceptron_tagger')\n",
    "\n",
    "from nltk.tokenize import TweetTokenizer\n",
    "from nltk.probability import FreqDist\n",
    "from nltk.corpus import stopwords\n",
    "from nltk.corpus import wordnet\n",
    "from nltk.stem.wordnet import WordNetLemmatizer\n",
    "from nltk.stem import PorterStemmer \n",
    "\n",
    "# NLPAUG\n",
    "# https://github.com/makcedward/nlpaug\n",
    "import nlpaug.augmenter.char as nac\n",
    "import nlpaug.augmenter.word as naw\n",
    "import nlpaug.augmenter.sentence as nas\n",
    "import nlpaug.flow as nafc\n",
    "\n",
    "from nlpaug.util import Action\n",
    "\n",
    "# Split y K-Fold \n",
    "from sklearn.model_selection import train_test_split\n",
    "from sklearn.model_selection import KFold\n",
    "\n",
    "# Importacion de Keras\n",
    "# https://keras.io\n",
    "from keras.models import Sequential, save_model, load_model\n",
    "from keras import layers\n",
    "from keras.preprocessing.text import Tokenizer\n",
    "from keras.preprocessing.sequence import pad_sequences\n",
    "\n",
    "#Configuracion general\n",
    "plt.style.use('ggplot')\n",
    "warnings.filterwarnings('ignore')"
   ]
  },
  {
   "cell_type": "code",
   "execution_count": 2,
   "metadata": {},
   "outputs": [],
   "source": [
    "# Seccion de CONFIGURACION\n",
    "\n",
    "# Path de entrada\n",
    "train_path = 'data/train.csv'\n",
    "test_path = 'data/test.csv'\n",
    "\n",
    "# Configuracion del modelo\n",
    "maxlen = 100\n",
    "num_filters = 32\n",
    "kernel_size = 8\n",
    "embedding_dim = 200\n",
    "embeddings_path = 'embeddings/glove.twitter.27B.200d.txt'\n",
    "# Embeddings disponibles en:\n",
    "# https://worksheets.codalab.org/bundles/0x4090ba96b8a444c2a44b2c47884c25f2\n",
    "\n",
    "# Configuracion de entrenamiento\n",
    "num_folds = 3\n",
    "epochs = 1\n",
    "verbose = False\n",
    "batch_size = 4\n",
    "\n",
    "# Path de para guardar los modelos\n",
    "model_path = 'models/TP2.Keras.Conv1D.Iter.'\n",
    "\n",
    "# Path de salida para el submission\n",
    "#submission_path = 'data/submits/submission_01_20200730.csv'"
   ]
  },
  {
   "cell_type": "code",
   "execution_count": 3,
   "metadata": {},
   "outputs": [],
   "source": [
    "# Funciones AUXILIARES\n",
    "\n",
    "# Pasa un texto a lowercase\n",
    "def lowercase_text(text):\n",
    "    return text.lower()\n",
    "\n",
    "# Limpia los datos, mediante el uso de expresiones regulares\n",
    "def remove_noise(text):\n",
    "    text = re.sub('\\[.*?\\]', '', text)\n",
    "    text = re.sub('https?://\\S+|www\\.\\S+', '', text)\n",
    "    text = re.sub('<.*?>+', '', text)\n",
    "    text = re.sub('[%s]' % re.escape(string.punctuation), '', text)\n",
    "    text = re.sub('\\n', '', text)\n",
    "    text = re.sub('\\w*\\d\\w*', '', text)\n",
    "    return text\n",
    "\n",
    "# Grafica para un modelo los resultados del entrenamiento\n",
    "def plot_history(history):\n",
    "    acc = history.history['accuracy']\n",
    "    val_acc = history.history['val_accuracy']\n",
    "    loss = history.history['loss']\n",
    "    val_loss = history.history['val_loss']\n",
    "    x = range(1, len(acc) + 1)\n",
    "\n",
    "    plt.figure(figsize=(12, 5))\n",
    "    plt.subplot(1, 2, 1)\n",
    "    plt.plot(x, acc, 'b', label='Entrenamiento')\n",
    "    plt.plot(x, val_acc, 'r', label='Validación')\n",
    "    plt.title('Accuracy: validación y entrenamiento')\n",
    "    plt.legend()\n",
    "    plt.subplot(1, 2, 2)\n",
    "    plt.plot(x, loss, 'b', label='Entrenamiento')\n",
    "    plt.plot(x, val_loss, 'r', label='Validación')\n",
    "    plt.title('Loss: validación y entrenamiento')\n",
    "    plt.legend()\n",
    "    plt.show()\n",
    "\n",
    "# Genera la matriz de embeddings\n",
    "def create_embedding_matrix(filepath, word_index, embedding_dim):\n",
    "    vocab_size = len(word_index) + 1  # 0 es un indice reservado, sumamos 1\n",
    "    embedding_matrix = np.zeros((vocab_size, embedding_dim))\n",
    "\n",
    "    with open(filepath, encoding='utf-8') as f:\n",
    "        for line in f:\n",
    "            word, *vector = line.split()\n",
    "            if word in word_index:\n",
    "                idx = word_index[word] \n",
    "                embedding_matrix[idx] = np.array(\n",
    "                    vector, dtype=np.float32)[:embedding_dim]\n",
    "\n",
    "    return embedding_matrix\n",
    "\n",
    "# Define el modelo a utilizar, con Conv1D\n",
    "def create_model(num_filters, kernel_size, vocab_size, embedding_dim, maxlen):\n",
    "    model = Sequential()\n",
    "    model.add(layers.Embedding(vocab_size, embedding_dim, input_length=maxlen))\n",
    "    model.add(layers.Conv1D(num_filters, kernel_size, activation='relu'))\n",
    "    model.add(layers.GlobalMaxPooling1D())\n",
    "    model.add(layers.Dense(10, activation='relu'))\n",
    "    model.add(layers.Dense(1, activation='sigmoid'))\n",
    "    model.compile(optimizer='adam',\n",
    "                  loss='binary_crossentropy',\n",
    "                  metrics=['accuracy'])\n",
    "    return model"
   ]
  },
  {
   "cell_type": "code",
   "execution_count": 19,
   "metadata": {},
   "outputs": [
    {
     "name": "stdout",
     "output_type": "stream",
     "text": [
      "(7613, 4)\n",
      "(3263, 3)\n"
     ]
    }
   ],
   "source": [
    "# Carga de los archivos del set de datos\n",
    "\n",
    "# Set de train: carga, descarte de columnas no utilizadas y limpieza de los textos\n",
    "df_twitter_train = pd.read_csv(train_path, sep=',')\n",
    "#Sumo los keywords al text\n",
    "df_twitter_train['keyword'].fillna(' ', inplace=True)\n",
    "df_twitter_train['text'] = (df_twitter_train['text'] + ' ' + df_twitter_train['keyword'])\n",
    "df_twitter_train.drop('location', axis=1, inplace=True)\n",
    "df_twitter_train['text'] = df_twitter_train['text'].apply(lambda x: lowercase_text(x))\n",
    "#df_twitter_train['text'] = df_twitter_train['text'].apply(lambda x: remove_noise(x))\n",
    "\n",
    "\n",
    "# Set de test: carga, descarte de columnas no utilizadas y limpieza de los textos\n",
    "df_twitter_test = pd.read_csv(test_path, sep=',')\n",
    "#Sumo los keywords al text\n",
    "df_twitter_test['keyword'].fillna(' ', inplace=True)\n",
    "df_twitter_test['text'] = (df_twitter_test['text'] + ' ' + df_twitter_test['keyword'])\n",
    "df_twitter_test.drop('location', axis=1, inplace=True)\n",
    "df_twitter_test['text'] = df_twitter_test['text'].apply(lambda x: lowercase_text(x))\n",
    "#df_twitter_test['text'] = df_twitter_test['text'].apply(lambda x: remove_noise(x))\n",
    "\n",
    "# Vemos el tamaño de ambos sets\n",
    "print(df_twitter_train.shape)\n",
    "print(df_twitter_test.shape)"
   ]
  },
  {
   "cell_type": "code",
   "execution_count": 20,
   "metadata": {},
   "outputs": [
    {
     "data": {
      "text/html": [
       "<div>\n",
       "<style scoped>\n",
       "    .dataframe tbody tr th:only-of-type {\n",
       "        vertical-align: middle;\n",
       "    }\n",
       "\n",
       "    .dataframe tbody tr th {\n",
       "        vertical-align: top;\n",
       "    }\n",
       "\n",
       "    .dataframe thead th {\n",
       "        text-align: right;\n",
       "    }\n",
       "</style>\n",
       "<table border=\"1\" class=\"dataframe\">\n",
       "  <thead>\n",
       "    <tr style=\"text-align: right;\">\n",
       "      <th></th>\n",
       "      <th>id</th>\n",
       "      <th>keyword</th>\n",
       "      <th>text</th>\n",
       "      <th>target</th>\n",
       "    </tr>\n",
       "  </thead>\n",
       "  <tbody>\n",
       "    <tr>\n",
       "      <th>0</th>\n",
       "      <td>1</td>\n",
       "      <td></td>\n",
       "      <td>our deeds are the reason of this #earthquake m...</td>\n",
       "      <td>1</td>\n",
       "    </tr>\n",
       "    <tr>\n",
       "      <th>1</th>\n",
       "      <td>4</td>\n",
       "      <td></td>\n",
       "      <td>forest fire near la ronge sask. canada</td>\n",
       "      <td>1</td>\n",
       "    </tr>\n",
       "    <tr>\n",
       "      <th>2</th>\n",
       "      <td>5</td>\n",
       "      <td></td>\n",
       "      <td>all residents asked to 'shelter in place' are ...</td>\n",
       "      <td>1</td>\n",
       "    </tr>\n",
       "    <tr>\n",
       "      <th>3</th>\n",
       "      <td>6</td>\n",
       "      <td></td>\n",
       "      <td>13,000 people receive #wildfires evacuation or...</td>\n",
       "      <td>1</td>\n",
       "    </tr>\n",
       "    <tr>\n",
       "      <th>4</th>\n",
       "      <td>7</td>\n",
       "      <td></td>\n",
       "      <td>just got sent this photo from ruby #alaska as ...</td>\n",
       "      <td>1</td>\n",
       "    </tr>\n",
       "  </tbody>\n",
       "</table>\n",
       "</div>"
      ],
      "text/plain": [
       "   id keyword                                               text  target\n",
       "0   1          our deeds are the reason of this #earthquake m...       1\n",
       "1   4                   forest fire near la ronge sask. canada         1\n",
       "2   5          all residents asked to 'shelter in place' are ...       1\n",
       "3   6          13,000 people receive #wildfires evacuation or...       1\n",
       "4   7          just got sent this photo from ruby #alaska as ...       1"
      ]
     },
     "execution_count": 20,
     "metadata": {},
     "output_type": "execute_result"
    }
   ],
   "source": [
    "df_twitter_train.head()"
   ]
  },
  {
   "cell_type": "code",
   "execution_count": 21,
   "metadata": {},
   "outputs": [
    {
     "name": "stdout",
     "output_type": "stream",
     "text": [
      "<class 'pandas.core.frame.DataFrame'>\n",
      "RangeIndex: 7613 entries, 0 to 7612\n",
      "Data columns (total 4 columns):\n",
      " #   Column   Non-Null Count  Dtype \n",
      "---  ------   --------------  ----- \n",
      " 0   id       7613 non-null   int64 \n",
      " 1   keyword  7613 non-null   object\n",
      " 2   text     7613 non-null   object\n",
      " 3   target   7613 non-null   int64 \n",
      "dtypes: int64(2), object(2)\n",
      "memory usage: 238.0+ KB\n"
     ]
    }
   ],
   "source": [
    "df_twitter_train.info()"
   ]
  },
  {
   "cell_type": "code",
   "execution_count": 22,
   "metadata": {},
   "outputs": [
    {
     "name": "stdout",
     "output_type": "stream",
     "text": [
      "(7613, 4)\n"
     ]
    }
   ],
   "source": [
    "# Tratamiento del set con nltk y nlpaug\n",
    "# NLTK\n",
    "# Sabiendo que todos los tweets son en idioma ingles, quitamos las stopwords\n",
    "stop_words = set(stopwords.words('english'))\n",
    "df_twitter_train['text'] =  df_twitter_train['text'].apply(lambda x: ' '.join([word for word in x.split() if word not in (stop_words)]))\n",
    "df_twitter_test['text'] =  df_twitter_test['text'].apply(lambda x: ' '.join([word for word in x.split() if word not in (stop_words)]))\n",
    "\n",
    "\n",
    "# NLPAUG\n",
    "# Tratamiento del set de train con nlpaug\n",
    "# Aumentamos el tamaño de nuestro set para mejorar los resultados de la prediccion\n",
    "\n",
    "# Creamos un nuevo dataframe para trabajar\n",
    "df_twitter_train_aug = pd.DataFrame(df_twitter_train)\n",
    "\n",
    "# Reemplazamos una palabra del tweet con un sinonimo tomado de WordNet\n",
    "aug_syn = naw.SynonymAug(aug_src='wordnet')\n",
    "# Intercambiamos una palabra random por otra en el tweet\n",
    "aug_swp = naw.RandomWordAug(action=\"swap\")\n",
    "\n",
    "# Usamos las 2 opciones\n",
    "#df_twitter_train_aug['text'] = df_twitter_train_aug['text'].apply(lambda x: aug_syn.augment(x))\n",
    "#df_twitter_train_aug['text'] = df_twitter_train_aug['text'].apply(lambda x: aug_swp.augment(x))\n",
    "\n",
    "# Unimos los 2 dataframes\n",
    "#df_twitter_train_aug = pd.concat([df_twitter_train, df_twitter_train_aug])\n",
    "\n",
    "# Stemmizamos los textos de los tweets\n",
    "#ps = PorterStemmer()\n",
    "#df_twitter_train_aug['text'] =  df_twitter_train_aug['text'].apply(lambda x: ' '.join([ps.stem(word) for word in x.split()]))\n",
    "#df_twitter_test['text'] =  df_twitter_test['text'].apply(lambda x: ' '.join([ps.stem(word) for word in x.split()]))\n",
    "\n",
    "# Lematizamos los textos de los tweets\n",
    "lem = WordNetLemmatizer()\n",
    "df_twitter_train['text'] =  df_twitter_train['text'].apply(lambda x: ' '.join([lem.lemmatize(word,\"v\") for word in x.split()]))\n",
    "df_twitter_test['text'] =  df_twitter_test['text'].apply(lambda x: ' '.join([lem.lemmatize(word,\"v\") for word in x.split()]))\n",
    "\n",
    "\n",
    "# Vemos el tamaño final del set de train\n",
    "print(df_twitter_train_aug.shape)"
   ]
  },
  {
   "cell_type": "code",
   "execution_count": 23,
   "metadata": {},
   "outputs": [
    {
     "data": {
      "text/html": [
       "<div>\n",
       "<style scoped>\n",
       "    .dataframe tbody tr th:only-of-type {\n",
       "        vertical-align: middle;\n",
       "    }\n",
       "\n",
       "    .dataframe tbody tr th {\n",
       "        vertical-align: top;\n",
       "    }\n",
       "\n",
       "    .dataframe thead th {\n",
       "        text-align: right;\n",
       "    }\n",
       "</style>\n",
       "<table border=\"1\" class=\"dataframe\">\n",
       "  <thead>\n",
       "    <tr style=\"text-align: right;\">\n",
       "      <th></th>\n",
       "      <th>id</th>\n",
       "      <th>keyword</th>\n",
       "      <th>text</th>\n",
       "      <th>target</th>\n",
       "    </tr>\n",
       "  </thead>\n",
       "  <tbody>\n",
       "    <tr>\n",
       "      <th>0</th>\n",
       "      <td>1</td>\n",
       "      <td></td>\n",
       "      <td>deeds reason #earthquake may allah forgive us</td>\n",
       "      <td>1</td>\n",
       "    </tr>\n",
       "    <tr>\n",
       "      <th>1</th>\n",
       "      <td>4</td>\n",
       "      <td></td>\n",
       "      <td>forest fire near la ronge sask. canada</td>\n",
       "      <td>1</td>\n",
       "    </tr>\n",
       "    <tr>\n",
       "      <th>2</th>\n",
       "      <td>5</td>\n",
       "      <td></td>\n",
       "      <td>residents ask 'shelter place' notify officers....</td>\n",
       "      <td>1</td>\n",
       "    </tr>\n",
       "    <tr>\n",
       "      <th>3</th>\n",
       "      <td>6</td>\n",
       "      <td></td>\n",
       "      <td>13,000 people receive #wildfires evacuation or...</td>\n",
       "      <td>1</td>\n",
       "    </tr>\n",
       "    <tr>\n",
       "      <th>4</th>\n",
       "      <td>7</td>\n",
       "      <td></td>\n",
       "      <td>get send photo ruby #alaska smoke #wildfires p...</td>\n",
       "      <td>1</td>\n",
       "    </tr>\n",
       "  </tbody>\n",
       "</table>\n",
       "</div>"
      ],
      "text/plain": [
       "   id keyword                                               text  target\n",
       "0   1              deeds reason #earthquake may allah forgive us       1\n",
       "1   4                     forest fire near la ronge sask. canada       1\n",
       "2   5          residents ask 'shelter place' notify officers....       1\n",
       "3   6          13,000 people receive #wildfires evacuation or...       1\n",
       "4   7          get send photo ruby #alaska smoke #wildfires p...       1"
      ]
     },
     "execution_count": 23,
     "metadata": {},
     "output_type": "execute_result"
    }
   ],
   "source": [
    "# Vemos como quedo el set de train\n",
    "df_twitter_train_aug.head()"
   ]
  },
  {
   "cell_type": "code",
   "execution_count": 24,
   "metadata": {},
   "outputs": [
    {
     "data": {
      "text/html": [
       "<div>\n",
       "<style scoped>\n",
       "    .dataframe tbody tr th:only-of-type {\n",
       "        vertical-align: middle;\n",
       "    }\n",
       "\n",
       "    .dataframe tbody tr th {\n",
       "        vertical-align: top;\n",
       "    }\n",
       "\n",
       "    .dataframe thead th {\n",
       "        text-align: right;\n",
       "    }\n",
       "</style>\n",
       "<table border=\"1\" class=\"dataframe\">\n",
       "  <thead>\n",
       "    <tr style=\"text-align: right;\">\n",
       "      <th></th>\n",
       "      <th>id</th>\n",
       "      <th>keyword</th>\n",
       "      <th>text</th>\n",
       "    </tr>\n",
       "  </thead>\n",
       "  <tbody>\n",
       "    <tr>\n",
       "      <th>0</th>\n",
       "      <td>0</td>\n",
       "      <td></td>\n",
       "      <td>happen terrible car crash</td>\n",
       "    </tr>\n",
       "    <tr>\n",
       "      <th>1</th>\n",
       "      <td>2</td>\n",
       "      <td></td>\n",
       "      <td>hear #earthquake different cities, stay safe e...</td>\n",
       "    </tr>\n",
       "    <tr>\n",
       "      <th>2</th>\n",
       "      <td>3</td>\n",
       "      <td></td>\n",
       "      <td>forest fire spot pond, geese flee across stree...</td>\n",
       "    </tr>\n",
       "    <tr>\n",
       "      <th>3</th>\n",
       "      <td>9</td>\n",
       "      <td></td>\n",
       "      <td>apocalypse lighting. #spokane #wildfires</td>\n",
       "    </tr>\n",
       "    <tr>\n",
       "      <th>4</th>\n",
       "      <td>11</td>\n",
       "      <td></td>\n",
       "      <td>typhoon soudelor kill 28 china taiwan</td>\n",
       "    </tr>\n",
       "  </tbody>\n",
       "</table>\n",
       "</div>"
      ],
      "text/plain": [
       "   id keyword                                               text\n",
       "0   0                                  happen terrible car crash\n",
       "1   2          hear #earthquake different cities, stay safe e...\n",
       "2   3          forest fire spot pond, geese flee across stree...\n",
       "3   9                   apocalypse lighting. #spokane #wildfires\n",
       "4  11                      typhoon soudelor kill 28 china taiwan"
      ]
     },
     "execution_count": 24,
     "metadata": {},
     "output_type": "execute_result"
    }
   ],
   "source": [
    "# Vemos como quedo el set de test\n",
    "df_twitter_test.head()"
   ]
  },
  {
   "cell_type": "code",
   "execution_count": 25,
   "metadata": {},
   "outputs": [],
   "source": [
    "# Nos quedamos con X e y para entrenar\n",
    "tweets = df_twitter_train_aug['text'].values\n",
    "y = df_twitter_train_aug['target'].values\n",
    "\n",
    "# Separamos X para el set de test\n",
    "tweets_predict = df_twitter_test['text'].values\n",
    "keyword_predict = df_twitter_test['keyword'].values"
   ]
  },
  {
   "cell_type": "code",
   "execution_count": 26,
   "metadata": {},
   "outputs": [],
   "source": [
    "# Tokenizamos los textos\n",
    "tokenizer = Tokenizer(num_words=5000)\n",
    "tokenizer.fit_on_texts(tweets)\n",
    "\n",
    "# Convertimos a secuencias\n",
    "X = tokenizer.texts_to_sequences(tweets)\n",
    "X_predict = tokenizer.texts_to_sequences(tweets_predict)\n",
    "\n",
    "# Calculamos el tamaño\n",
    "vocab_size = len(tokenizer.word_index) + 1  # 0 es un indice reservado, sumamos 1\n",
    "\n",
    "#PROBAR CON EL TOKENIZADOR DE NTK DE TWITTER"
   ]
  },
  {
   "cell_type": "code",
   "execution_count": 27,
   "metadata": {},
   "outputs": [],
   "source": [
    "# Paddeamos a maxlen\n",
    "X = pad_sequences(X, padding='post', maxlen=maxlen)\n",
    "X_predict = pad_sequences(X_predict, padding='post', maxlen=maxlen)"
   ]
  },
  {
   "cell_type": "code",
   "execution_count": 28,
   "metadata": {},
   "outputs": [
    {
     "name": "stdout",
     "output_type": "stream",
     "text": [
      "Cobertura de vocabulario: 0.5232057640123514\n"
     ]
    }
   ],
   "source": [
    "# Generacion de la matriz de embeddings\n",
    "embedding_matrix = create_embedding_matrix(embeddings_path,tokenizer.word_index, embedding_dim)\n",
    "\n",
    "# Vemos que cobertura tenemos con los embeddings utilizados\n",
    "nonzero_elements = np.count_nonzero(np.count_nonzero(embedding_matrix, axis=1))\n",
    "print('Cobertura de vocabulario: ' + str(nonzero_elements / vocab_size))"
   ]
  },
  {
   "cell_type": "code",
   "execution_count": 29,
   "metadata": {
    "scrolled": false
   },
   "outputs": [
    {
     "name": "stdout",
     "output_type": "stream",
     "text": [
      "------------------------------------------------------------------------\n",
      "Entrenando, fold 1...\n",
      "Puntaje de entrenamiento para el fold 1: loss de 0.2965248227119446; accuracy de 89.33990001678467%\n",
      "Puntaje de validación para el fold 1: loss de 0.4517189860343933; accuracy de 79.6690285205841%\n"
     ]
    },
    {
     "data": {
      "image/png": "[encoded data removed]",
      "text/plain": [
       "<Figure size 864x360 with 2 Axes>"
      ]
     },
     "metadata": {},
     "output_type": "display_data"
    },
    {
     "name": "stdout",
     "output_type": "stream",
     "text": [
      "------------------------------------------------------------------------\n",
      "Entrenando, fold 2...\n",
      "Puntaje de entrenamiento para el fold 2: loss de 0.2894456088542938; accuracy de 89.55665230751038%\n",
      "Puntaje de validación para el fold 2: loss de 0.46342411637306213; accuracy de 78.84160876274109%\n"
     ]
    },
    {
     "data": {
      "image/png": "[encoded data removed]",
      "text/plain": [
       "<Figure size 864x360 with 2 Axes>"
      ]
     },
     "metadata": {},
     "output_type": "display_data"
    },
    {
     "name": "stdout",
     "output_type": "stream",
     "text": [
      "------------------------------------------------------------------------\n",
      "Entrenando, fold 3...\n",
      "Puntaje de entrenamiento para el fold 3: loss de 0.29737019538879395; accuracy de 89.02679085731506%\n",
      "Puntaje de validación para el fold 3: loss de 0.4411669075489044; accuracy de 80.40993213653564%\n"
     ]
    },
    {
     "data": {
      "image/png": "[encoded data removed]",
      "text/plain": [
       "<Figure size 864x360 with 2 Axes>"
      ]
     },
     "metadata": {},
     "output_type": "display_data"
    },
    {
     "name": "stdout",
     "output_type": "stream",
     "text": [
      "\n",
      "\n",
      "Puntaje promedio de entrenamiendo, para todos los folds:\n",
      "> Accuracy: 89.3077810605367 (+- 0.2175040376845358)\n",
      "> Loss: 0.29444687565167743\n",
      "\n",
      "\n",
      "Puntaje promedio de validación, para todos los folds:\n",
      "> Accuracy: 79.64018980662028 (+- 0.6405899909536)\n",
      "> Loss: 0.45210333665211994\n",
      "------------------------------------------------------------------------\n"
     ]
    }
   ],
   "source": [
    "submission_path = 'data/submits/submission_02_20200730.csv'\n",
    "# Definimos y entrenamos el modelo\n",
    "# K-Fold Cross Validation\n",
    "\n",
    "# Definimos los arrays para guardar los resultados\n",
    "# Train\n",
    "acc_per_fold_train = []\n",
    "loss_per_fold_train = []\n",
    "# Validacion\n",
    "acc_per_fold_validation = []\n",
    "loss_per_fold_validation = []\n",
    "\n",
    "# Definomos el K-fold Cross Validator a usar\n",
    "kfold = KFold(n_splits=num_folds, shuffle=True)\n",
    "\n",
    "# Hacemos el bucle para la cantidad de folds definidos\n",
    "fold_no = 1\n",
    "for train, validation in kfold.split(X, y):\n",
    "\n",
    "     # Imprimimos el progreso\n",
    "    print('------------------------------------------------------------------------')\n",
    "    print(f'Entrenando, fold {fold_no}...')\n",
    "\n",
    "    # Definimos la arquitectura del modelo\n",
    "    model = create_model(num_filters = num_filters,\n",
    "                         kernel_size = kernel_size,\n",
    "                         vocab_size = vocab_size,\n",
    "                         embedding_dim = embedding_dim,\n",
    "                         maxlen = maxlen)\n",
    "\n",
    "        # Hacemos el fit\n",
    "    history = model.fit(X[train], y[train],\n",
    "                        epochs = epochs,\n",
    "                        verbose = verbose,\n",
    "                        validation_data = (X[validation], y[validation]),\n",
    "                        batch_size = batch_size)      \n",
    "\n",
    "    # Generamos la metrica de entrenamiento\n",
    "    scores_train = model.evaluate(X[train], y[train], verbose=0)\n",
    "    print(f'Puntaje de entrenamiento para el fold {fold_no}: {model.metrics_names[0]} de {scores_train[0]}; {model.metrics_names[1]} de {scores_train[1]*100}%')\n",
    "    acc_per_fold_train.append(scores_train[1] * 100)\n",
    "    loss_per_fold_train.append(scores_train[0])\n",
    "\n",
    "    # Generamos la metrica de test\n",
    "    scores_validation = model.evaluate(X[validation], y[validation], verbose=0)\n",
    "    print(f'Puntaje de validación para el fold {fold_no}: {model.metrics_names[0]} de {scores_validation[0]}; {model.metrics_names[1]} de {scores_validation[1]*100}%')\n",
    "    acc_per_fold_validation.append(scores_validation[1] * 100)\n",
    "    loss_per_fold_validation.append(scores_validation[0])\n",
    "\n",
    "    # Guardamos el modelo\n",
    "    save_model(model, model_path + str(fold_no) + '.h5', save_format='h5')\n",
    "\n",
    "    # Plotteamos el resultado final\n",
    "    plot_history(history)\n",
    "\n",
    "    # Incrementamos el fold\n",
    "    fold_no = fold_no + 1\n",
    "\n",
    "    \n",
    "print('\\n')\n",
    "print('Puntaje promedio de entrenamiendo, para todos los folds:')\n",
    "print(f'> Accuracy: {np.mean(acc_per_fold_train)} (+- {np.std(acc_per_fold_train)})')\n",
    "print(f'> Loss: {np.mean(loss_per_fold_train)}')\n",
    "print('\\n')\n",
    "print('Puntaje promedio de validación, para todos los folds:')\n",
    "print(f'> Accuracy: {np.mean(acc_per_fold_validation)} (+- {np.std(acc_per_fold_validation)})')\n",
    "print(f'> Loss: {np.mean(loss_per_fold_validation)}')\n",
    "print('------------------------------------------------------------------------')"
   ]
  },
  {
   "cell_type": "code",
   "execution_count": 30,
   "metadata": {},
   "outputs": [
    {
     "name": "stdout",
     "output_type": "stream",
     "text": [
      "Model: \"sequential_5\"\n",
      "_________________________________________________________________\n",
      "Layer (type)                 Output Shape              Param #   \n",
      "=================================================================\n",
      "embedding_5 (Embedding)      (None, 100, 200)          4274800   \n",
      "_________________________________________________________________\n",
      "conv1d_5 (Conv1D)            (None, 93, 32)            51232     \n",
      "_________________________________________________________________\n",
      "global_max_pooling1d_5 (Glob (None, 32)                0         \n",
      "_________________________________________________________________\n",
      "dense_10 (Dense)             (None, 10)                330       \n",
      "_________________________________________________________________\n",
      "dense_11 (Dense)             (None, 1)                 11        \n",
      "=================================================================\n",
      "Total params: 4,326,373\n",
      "Trainable params: 4,326,373\n",
      "Non-trainable params: 0\n",
      "_________________________________________________________________\n"
     ]
    }
   ],
   "source": [
    "# Cargamos el modelo con el mejor puntaje\n",
    "filepath = model_path + str((acc_per_fold_validation.index(max(acc_per_fold_validation)))+1) + '.h5'\n",
    "loaded_model = load_model(filepath, custom_objects=None, compile=True)\n",
    "\n",
    "# Imprimimos el detalle del modelo utilizado\n",
    "loaded_model.summary()"
   ]
  },
  {
   "cell_type": "code",
   "execution_count": 31,
   "metadata": {},
   "outputs": [],
   "source": [
    "# Prediccion en base al modelo entrenado\n",
    "y_predict = (loaded_model.predict(X_predict) > 0.5).astype('int32')"
   ]
  },
  {
   "cell_type": "code",
   "execution_count": 32,
   "metadata": {},
   "outputs": [
    {
     "data": {
      "text/html": [
       "<div>\n",
       "<style scoped>\n",
       "    .dataframe tbody tr th:only-of-type {\n",
       "        vertical-align: middle;\n",
       "    }\n",
       "\n",
       "    .dataframe tbody tr th {\n",
       "        vertical-align: top;\n",
       "    }\n",
       "\n",
       "    .dataframe thead th {\n",
       "        text-align: right;\n",
       "    }\n",
       "</style>\n",
       "<table border=\"1\" class=\"dataframe\">\n",
       "  <thead>\n",
       "    <tr style=\"text-align: right;\">\n",
       "      <th></th>\n",
       "      <th>id</th>\n",
       "      <th>target</th>\n",
       "    </tr>\n",
       "  </thead>\n",
       "  <tbody>\n",
       "    <tr>\n",
       "      <th>0</th>\n",
       "      <td>0</td>\n",
       "      <td>0</td>\n",
       "    </tr>\n",
       "    <tr>\n",
       "      <th>1</th>\n",
       "      <td>2</td>\n",
       "      <td>0</td>\n",
       "    </tr>\n",
       "    <tr>\n",
       "      <th>2</th>\n",
       "      <td>3</td>\n",
       "      <td>1</td>\n",
       "    </tr>\n",
       "    <tr>\n",
       "      <th>3</th>\n",
       "      <td>9</td>\n",
       "      <td>0</td>\n",
       "    </tr>\n",
       "    <tr>\n",
       "      <th>4</th>\n",
       "      <td>11</td>\n",
       "      <td>1</td>\n",
       "    </tr>\n",
       "  </tbody>\n",
       "</table>\n",
       "</div>"
      ],
      "text/plain": [
       "   id  target\n",
       "0   0       0\n",
       "1   2       0\n",
       "2   3       1\n",
       "3   9       0\n",
       "4  11       1"
      ]
     },
     "execution_count": 32,
     "metadata": {},
     "output_type": "execute_result"
    }
   ],
   "source": [
    "# Generacion del dataframe que generara el submit para la competencia\n",
    "kaggle_submission = pd.DataFrame(df_twitter_test,columns = ['id'])\n",
    "kaggle_submission['target'] = y_predict\n",
    "kaggle_submission.head()"
   ]
  },
  {
   "cell_type": "code",
   "execution_count": 33,
   "metadata": {},
   "outputs": [],
   "source": [
    "# Escritura del submit en formato CSV\n",
    "kaggle_submission.to_csv(submission_path, index=False)"
   ]
  },
  {
   "cell_type": "code",
   "execution_count": 33,
   "metadata": {},
   "outputs": [],
   "source": [
    "# ToDo:\n",
    "# Grid search, busqueda de hiper-parametros ideales"
   ]
  },
  {
   "cell_type": "code",
   "execution_count": null,
   "metadata": {},
   "outputs": [],
   "source": []
  }
 ],
 "metadata": {
  "kernelspec": {
   "display_name": "Python 3",
   "language": "python",
   "name": "python3"
  },
  "language_info": {
   "codemirror_mode": {
    "name": "ipython",
    "version": 3
   },
   "file_extension": ".py",
   "mimetype": "text/x-python",
   "name": "python",
   "nbconvert_exporter": "python",
   "pygments_lexer": "ipython3",
   "version": "3.7.6"
  }
 },
 "nbformat": 4,
 "nbformat_minor": 4
}
