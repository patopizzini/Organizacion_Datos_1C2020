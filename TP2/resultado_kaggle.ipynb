{
 "cells": [
  {
   "cell_type": "code",
   "execution_count": 1,
   "metadata": {},
   "outputs": [],
   "source": [
    "import pandas as pd\n",
    "import numpy as np\n",
    "import matplotlib.pyplot as plt"
   ]
  },
  {
   "cell_type": "code",
   "execution_count": 9,
   "metadata": {},
   "outputs": [],
   "source": [
    "entrega = pd.read_csv('data\\submits\\submission_54_20200801.csv')\n",
    "resultados = pd.read_csv('data\\submits\\submission_21_20200730.csv')"
   ]
  },
  {
   "cell_type": "code",
   "execution_count": 24,
   "metadata": {},
   "outputs": [
    {
     "name": "stdout",
     "output_type": "stream",
     "text": [
      "El resultado es:  0.935399673735726\n"
     ]
    }
   ],
   "source": [
    "total = entrega.merge(resultados, on = 'id')\n",
    "\n",
    "total.columns = ['id', 'target_entregado', 'target_real']\n",
    "\n",
    "total['resultado'] = total['target_entregado']-total['target_real']\n",
    "\n",
    "total['resultado'].replace(0, 'TP', inplace=True)\n",
    "total['resultado'].replace(1, 'FP', inplace=True)\n",
    "total['resultado'].replace(-1, 'FN', inplace=True)\n",
    "\n",
    "TP = precisiones['TP']\n",
    "FP = precisiones['FP']\n",
    "FN = precisiones['FN']\n",
    "\n",
    "def calcular_resultado(TP,FP,FN):\n",
    "    precision = ((TP) / (TP+FP))\n",
    "    recall = ((TP) / (TP+FN))\n",
    "    return 2 * ((precision*recall)/(precision+recall))\n",
    "\n",
    "\n",
    "print('El resultado es: ', calcular_resultado(TP, FP, FN))"
   ]
  },
  {
   "cell_type": "code",
   "execution_count": null,
   "metadata": {},
   "outputs": [],
   "source": []
  }
 ],
 "metadata": {
  "kernelspec": {
   "display_name": "Python 3",
   "language": "python",
   "name": "python3"
  },
  "language_info": {
   "codemirror_mode": {
    "name": "ipython",
    "version": 3
   },
   "file_extension": ".py",
   "mimetype": "text/x-python",
   "name": "python",
   "nbconvert_exporter": "python",
   "pygments_lexer": "ipython3",
   "version": "3.7.6"
  }
 },
 "nbformat": 4,
 "nbformat_minor": 4
}
