{
 "cells": [
  {
   "cell_type": "code",
   "execution_count": 1,
   "metadata": {
    "colab": {
     "base_uri": "https://localhost:8080/",
     "height": 263
    },
    "colab_type": "code",
    "id": "DOTP3-6aBwhS",
    "outputId": "78737a67-b7b0-4bae-fc65-7ad08600a718"
   },
   "outputs": [],
   "source": [
    "import pandas as pd\n",
    "from numpy import isnan\n",
    "import seaborn as sns\n",
    "import os\n",
    " \n",
    "# Credenciales aqui:\n",
    "os.environ['KAGGLE_USERNAME'] = \"pato.casla7@gmail.com\" #BORRAR CUANDO SE TERMINE DE USAR!!!\n",
    "os.environ['KAGGLE_KEY'] = \"Saraza730\" #BORRAR CUANDO SE TERMINE DE USAR!!!"
   ]
  },
  {
   "cell_type": "code",
   "execution_count": 2,
   "metadata": {
    "colab": {},
    "colab_type": "code",
    "id": "TeNUwDScVxW8"
   },
   "outputs": [],
   "source": [
    "sns.set(rc = {'figure.figsize':(20,5)})"
   ]
  },
  {
   "cell_type": "markdown",
   "metadata": {
    "colab_type": "text",
    "id": "gSVR9WnjEthT"
   },
   "source": [
    "# Aca podes subir al colab o usar tus credenciales arriba para cargar la data"
   ]
  },
  {
   "cell_type": "code",
   "execution_count": 3,
   "metadata": {
    "colab": {},
    "colab_type": "code",
    "id": "3ygRJ47TU_lk"
   },
   "outputs": [
    {
     "name": "stderr",
     "output_type": "stream",
     "text": [
      "\"kaggle\" no se reconoce como un comando interno o externo,\n",
      "programa o archivo por lotes ejecutable.\n",
      "\"unzip\" no se reconoce como un comando interno o externo,\n",
      "programa o archivo por lotes ejecutable.\n"
     ]
    },
    {
     "ename": "FileNotFoundError",
     "evalue": "[Errno 2] File leaderboard/nlp-getting-started-publicleaderboard.csv does not exist: 'leaderboard/nlp-getting-started-publicleaderboard.csv'",
     "output_type": "error",
     "traceback": [
      "\u001b[1;31m---------------------------------------------------------------------------\u001b[0m",
      "\u001b[1;31mFileNotFoundError\u001b[0m                         Traceback (most recent call last)",
      "\u001b[1;32m<ipython-input-3-2c9d5f61497c>\u001b[0m in \u001b[0;36m<module>\u001b[1;34m\u001b[0m\n\u001b[0;32m      3\u001b[0m \u001b[0mget_ipython\u001b[0m\u001b[1;33m(\u001b[0m\u001b[1;33m)\u001b[0m\u001b[1;33m.\u001b[0m\u001b[0msystem\u001b[0m\u001b[1;33m(\u001b[0m\u001b[1;34m'kaggle competitions leaderboard --download nlp-getting-started'\u001b[0m\u001b[1;33m)\u001b[0m\u001b[1;33m\u001b[0m\u001b[1;33m\u001b[0m\u001b[0m\n\u001b[0;32m      4\u001b[0m \u001b[0mget_ipython\u001b[0m\u001b[1;33m(\u001b[0m\u001b[1;33m)\u001b[0m\u001b[1;33m.\u001b[0m\u001b[0msystem\u001b[0m\u001b[1;33m(\u001b[0m\u001b[1;34m'unzip -o nlp-getting-started.zip -d leaderboard'\u001b[0m\u001b[1;33m)\u001b[0m\u001b[1;33m\u001b[0m\u001b[1;33m\u001b[0m\u001b[0m\n\u001b[1;32m----> 5\u001b[1;33m \u001b[0mleaderboard\u001b[0m \u001b[1;33m=\u001b[0m \u001b[0mpd\u001b[0m\u001b[1;33m.\u001b[0m\u001b[0mread_csv\u001b[0m\u001b[1;33m(\u001b[0m\u001b[1;34m\"leaderboard/nlp-getting-started-publicleaderboard.csv\"\u001b[0m\u001b[1;33m)\u001b[0m\u001b[1;33m\u001b[0m\u001b[1;33m\u001b[0m\u001b[0m\n\u001b[0m",
      "\u001b[1;32mC:\\ProgramData\\Anaconda3\\lib\\site-packages\\pandas\\io\\parsers.py\u001b[0m in \u001b[0;36mparser_f\u001b[1;34m(filepath_or_buffer, sep, delimiter, header, names, index_col, usecols, squeeze, prefix, mangle_dupe_cols, dtype, engine, converters, true_values, false_values, skipinitialspace, skiprows, skipfooter, nrows, na_values, keep_default_na, na_filter, verbose, skip_blank_lines, parse_dates, infer_datetime_format, keep_date_col, date_parser, dayfirst, cache_dates, iterator, chunksize, compression, thousands, decimal, lineterminator, quotechar, quoting, doublequote, escapechar, comment, encoding, dialect, error_bad_lines, warn_bad_lines, delim_whitespace, low_memory, memory_map, float_precision)\u001b[0m\n\u001b[0;32m    674\u001b[0m         )\n\u001b[0;32m    675\u001b[0m \u001b[1;33m\u001b[0m\u001b[0m\n\u001b[1;32m--> 676\u001b[1;33m         \u001b[1;32mreturn\u001b[0m \u001b[0m_read\u001b[0m\u001b[1;33m(\u001b[0m\u001b[0mfilepath_or_buffer\u001b[0m\u001b[1;33m,\u001b[0m \u001b[0mkwds\u001b[0m\u001b[1;33m)\u001b[0m\u001b[1;33m\u001b[0m\u001b[1;33m\u001b[0m\u001b[0m\n\u001b[0m\u001b[0;32m    677\u001b[0m \u001b[1;33m\u001b[0m\u001b[0m\n\u001b[0;32m    678\u001b[0m     \u001b[0mparser_f\u001b[0m\u001b[1;33m.\u001b[0m\u001b[0m__name__\u001b[0m \u001b[1;33m=\u001b[0m \u001b[0mname\u001b[0m\u001b[1;33m\u001b[0m\u001b[1;33m\u001b[0m\u001b[0m\n",
      "\u001b[1;32mC:\\ProgramData\\Anaconda3\\lib\\site-packages\\pandas\\io\\parsers.py\u001b[0m in \u001b[0;36m_read\u001b[1;34m(filepath_or_buffer, kwds)\u001b[0m\n\u001b[0;32m    446\u001b[0m \u001b[1;33m\u001b[0m\u001b[0m\n\u001b[0;32m    447\u001b[0m     \u001b[1;31m# Create the parser.\u001b[0m\u001b[1;33m\u001b[0m\u001b[1;33m\u001b[0m\u001b[1;33m\u001b[0m\u001b[0m\n\u001b[1;32m--> 448\u001b[1;33m     \u001b[0mparser\u001b[0m \u001b[1;33m=\u001b[0m \u001b[0mTextFileReader\u001b[0m\u001b[1;33m(\u001b[0m\u001b[0mfp_or_buf\u001b[0m\u001b[1;33m,\u001b[0m \u001b[1;33m**\u001b[0m\u001b[0mkwds\u001b[0m\u001b[1;33m)\u001b[0m\u001b[1;33m\u001b[0m\u001b[1;33m\u001b[0m\u001b[0m\n\u001b[0m\u001b[0;32m    449\u001b[0m \u001b[1;33m\u001b[0m\u001b[0m\n\u001b[0;32m    450\u001b[0m     \u001b[1;32mif\u001b[0m \u001b[0mchunksize\u001b[0m \u001b[1;32mor\u001b[0m \u001b[0miterator\u001b[0m\u001b[1;33m:\u001b[0m\u001b[1;33m\u001b[0m\u001b[1;33m\u001b[0m\u001b[0m\n",
      "\u001b[1;32mC:\\ProgramData\\Anaconda3\\lib\\site-packages\\pandas\\io\\parsers.py\u001b[0m in \u001b[0;36m__init__\u001b[1;34m(self, f, engine, **kwds)\u001b[0m\n\u001b[0;32m    878\u001b[0m             \u001b[0mself\u001b[0m\u001b[1;33m.\u001b[0m\u001b[0moptions\u001b[0m\u001b[1;33m[\u001b[0m\u001b[1;34m\"has_index_names\"\u001b[0m\u001b[1;33m]\u001b[0m \u001b[1;33m=\u001b[0m \u001b[0mkwds\u001b[0m\u001b[1;33m[\u001b[0m\u001b[1;34m\"has_index_names\"\u001b[0m\u001b[1;33m]\u001b[0m\u001b[1;33m\u001b[0m\u001b[1;33m\u001b[0m\u001b[0m\n\u001b[0;32m    879\u001b[0m \u001b[1;33m\u001b[0m\u001b[0m\n\u001b[1;32m--> 880\u001b[1;33m         \u001b[0mself\u001b[0m\u001b[1;33m.\u001b[0m\u001b[0m_make_engine\u001b[0m\u001b[1;33m(\u001b[0m\u001b[0mself\u001b[0m\u001b[1;33m.\u001b[0m\u001b[0mengine\u001b[0m\u001b[1;33m)\u001b[0m\u001b[1;33m\u001b[0m\u001b[1;33m\u001b[0m\u001b[0m\n\u001b[0m\u001b[0;32m    881\u001b[0m \u001b[1;33m\u001b[0m\u001b[0m\n\u001b[0;32m    882\u001b[0m     \u001b[1;32mdef\u001b[0m \u001b[0mclose\u001b[0m\u001b[1;33m(\u001b[0m\u001b[0mself\u001b[0m\u001b[1;33m)\u001b[0m\u001b[1;33m:\u001b[0m\u001b[1;33m\u001b[0m\u001b[1;33m\u001b[0m\u001b[0m\n",
      "\u001b[1;32mC:\\ProgramData\\Anaconda3\\lib\\site-packages\\pandas\\io\\parsers.py\u001b[0m in \u001b[0;36m_make_engine\u001b[1;34m(self, engine)\u001b[0m\n\u001b[0;32m   1112\u001b[0m     \u001b[1;32mdef\u001b[0m \u001b[0m_make_engine\u001b[0m\u001b[1;33m(\u001b[0m\u001b[0mself\u001b[0m\u001b[1;33m,\u001b[0m \u001b[0mengine\u001b[0m\u001b[1;33m=\u001b[0m\u001b[1;34m\"c\"\u001b[0m\u001b[1;33m)\u001b[0m\u001b[1;33m:\u001b[0m\u001b[1;33m\u001b[0m\u001b[1;33m\u001b[0m\u001b[0m\n\u001b[0;32m   1113\u001b[0m         \u001b[1;32mif\u001b[0m \u001b[0mengine\u001b[0m \u001b[1;33m==\u001b[0m \u001b[1;34m\"c\"\u001b[0m\u001b[1;33m:\u001b[0m\u001b[1;33m\u001b[0m\u001b[1;33m\u001b[0m\u001b[0m\n\u001b[1;32m-> 1114\u001b[1;33m             \u001b[0mself\u001b[0m\u001b[1;33m.\u001b[0m\u001b[0m_engine\u001b[0m \u001b[1;33m=\u001b[0m \u001b[0mCParserWrapper\u001b[0m\u001b[1;33m(\u001b[0m\u001b[0mself\u001b[0m\u001b[1;33m.\u001b[0m\u001b[0mf\u001b[0m\u001b[1;33m,\u001b[0m \u001b[1;33m**\u001b[0m\u001b[0mself\u001b[0m\u001b[1;33m.\u001b[0m\u001b[0moptions\u001b[0m\u001b[1;33m)\u001b[0m\u001b[1;33m\u001b[0m\u001b[1;33m\u001b[0m\u001b[0m\n\u001b[0m\u001b[0;32m   1115\u001b[0m         \u001b[1;32melse\u001b[0m\u001b[1;33m:\u001b[0m\u001b[1;33m\u001b[0m\u001b[1;33m\u001b[0m\u001b[0m\n\u001b[0;32m   1116\u001b[0m             \u001b[1;32mif\u001b[0m \u001b[0mengine\u001b[0m \u001b[1;33m==\u001b[0m \u001b[1;34m\"python\"\u001b[0m\u001b[1;33m:\u001b[0m\u001b[1;33m\u001b[0m\u001b[1;33m\u001b[0m\u001b[0m\n",
      "\u001b[1;32mC:\\ProgramData\\Anaconda3\\lib\\site-packages\\pandas\\io\\parsers.py\u001b[0m in \u001b[0;36m__init__\u001b[1;34m(self, src, **kwds)\u001b[0m\n\u001b[0;32m   1889\u001b[0m         \u001b[0mkwds\u001b[0m\u001b[1;33m[\u001b[0m\u001b[1;34m\"usecols\"\u001b[0m\u001b[1;33m]\u001b[0m \u001b[1;33m=\u001b[0m \u001b[0mself\u001b[0m\u001b[1;33m.\u001b[0m\u001b[0musecols\u001b[0m\u001b[1;33m\u001b[0m\u001b[1;33m\u001b[0m\u001b[0m\n\u001b[0;32m   1890\u001b[0m \u001b[1;33m\u001b[0m\u001b[0m\n\u001b[1;32m-> 1891\u001b[1;33m         \u001b[0mself\u001b[0m\u001b[1;33m.\u001b[0m\u001b[0m_reader\u001b[0m \u001b[1;33m=\u001b[0m \u001b[0mparsers\u001b[0m\u001b[1;33m.\u001b[0m\u001b[0mTextReader\u001b[0m\u001b[1;33m(\u001b[0m\u001b[0msrc\u001b[0m\u001b[1;33m,\u001b[0m \u001b[1;33m**\u001b[0m\u001b[0mkwds\u001b[0m\u001b[1;33m)\u001b[0m\u001b[1;33m\u001b[0m\u001b[1;33m\u001b[0m\u001b[0m\n\u001b[0m\u001b[0;32m   1892\u001b[0m         \u001b[0mself\u001b[0m\u001b[1;33m.\u001b[0m\u001b[0munnamed_cols\u001b[0m \u001b[1;33m=\u001b[0m \u001b[0mself\u001b[0m\u001b[1;33m.\u001b[0m\u001b[0m_reader\u001b[0m\u001b[1;33m.\u001b[0m\u001b[0munnamed_cols\u001b[0m\u001b[1;33m\u001b[0m\u001b[1;33m\u001b[0m\u001b[0m\n\u001b[0;32m   1893\u001b[0m \u001b[1;33m\u001b[0m\u001b[0m\n",
      "\u001b[1;32mpandas\\_libs\\parsers.pyx\u001b[0m in \u001b[0;36mpandas._libs.parsers.TextReader.__cinit__\u001b[1;34m()\u001b[0m\n",
      "\u001b[1;32mpandas\\_libs\\parsers.pyx\u001b[0m in \u001b[0;36mpandas._libs.parsers.TextReader._setup_parser_source\u001b[1;34m()\u001b[0m\n",
      "\u001b[1;31mFileNotFoundError\u001b[0m: [Errno 2] File leaderboard/nlp-getting-started-publicleaderboard.csv does not exist: 'leaderboard/nlp-getting-started-publicleaderboard.csv'"
     ]
    }
   ],
   "source": [
    "# OPCION CARGAR LA DATA DESDE KAGGLE PONIENDO CREDENCIALES (no olvidarse de quitarlas antes de irse)\n",
    "\n",
    "!kaggle competitions leaderboard --download nlp-getting-started\n",
    "!unzip -o nlp-getting-started.zip -d leaderboard\n",
    "leaderboard = pd.read_csv(\"leaderboard/nlp-getting-started-publicleaderboard.csv\")"
   ]
  },
  {
   "cell_type": "markdown",
   "metadata": {
    "colab_type": "text",
    "id": "XBzVh_yOdct0"
   },
   "source": [
    "# AGREGA TU NOMBRE DE GRUPO ACA (si queres)"
   ]
  },
  {
   "cell_type": "code",
   "execution_count": 27,
   "metadata": {
    "colab": {},
    "colab_type": "code",
    "id": "qji58hKVIQD5"
   },
   "outputs": [],
   "source": [
    "# En nombre_en_kaggle se agregan los grupos que no pudieron ser encontrados en piazza\n",
    "# y que a ojo se encontraron en kaggle\n",
    "\n",
    "nombre_en_kaggle = [\n",
    "    'COVIDATOS' ,\n",
    "    'fiuba_barros_gomez', \n",
    "    'Data Science Monsters',\n",
    "]"
   ]
  },
  {
   "cell_type": "code",
   "execution_count": 28,
   "metadata": {
    "colab": {},
    "colab_type": "code",
    "id": "ulggygd2Hbb0"
   },
   "outputs": [],
   "source": [
    "piazza = [\n",
    " 'King Data',\n",
    " 'How i met your data',\n",
    " 'Datavid-19',\n",
    " 'Coronapandas',\n",
    " 'El tío del marido de Pampita',\n",
    " 'El cuarteto imperial',\n",
    " 'Equipo Cloud',\n",
    " 'Superficial Intelligence',\n",
    " 'DataDevs',\n",
    " 'The Datalorian',\n",
    " 'Corona2',\n",
    " 'Les chiques super poderoses',\n",
    " 'CuarenData 2.0',\n",
    " 'Pyrañas',\n",
    " 'Grupo Phyton Fiuba',\n",
    " 'Grupo rosa',\n",
    " 'DATAVID-20',\n",
    " 'Grupo con barbijo',\n",
    " 'Grupo 13',\n",
    " 'AlphaZero',\n",
    " 'undefined',\n",
    " 'Barbijo De Uranio',\n",
    " 'COVIgData -19',\n",
    " 'ChocoTeam',\n",
    " 'El Cuarteto del Code',\n",
    " 'DatUs',\n",
    " 'covidatos',\n",
    " 'Grupo Orga Datos',\n",
    " 'DataSOS',\n",
    " 'DataTravellers',\n",
    " 'CoronaDatos',\n",
    " 'Data hunters',\n",
    " 'DTS: DaTa Science',\n",
    " 'Rest Driven Development',\n",
    " 'Unidos por los datos',\n",
    " 'Here we go again',\n",
    " 'Undefined',\n",
    " 'Los últimos',\n",
    " 'Team_Undav',\n",
    " 'DelLejanoOeste',\n",
    " 'Kung Fu Panda',\n",
    " 'Grupo - AVV',\n",
    " 'El Jabalí Salvaje',\n",
    " 'Oyentes en cuarentena 2020.',\n",
    " 'Los Oyentes 700',\n",
    " 'Oh La La, Data',\n",
    " 'Belu +3',\n",
    " 'Grupo Random',\n",
    " 'DATA',\n",
    " 'El gato de Turing',\n",
    " 'ECONOSDATA',\n",
    " 'marte',\n",
    " 'Los aprendices de Oogway',\n",
    " 'GMC',\n",
    " 'Zumba',\n",
    " 'Datos al alcance',\n",
    " 'Reykjavik',\n",
    " 'Reinventadas',\n",
    " '3Sigma',\n",
    " 'Grupo Rocket Cósmico',\n",
    " 'NameError',\n",
    " 'Daiana Vega']"
   ]
  },
  {
   "cell_type": "markdown",
   "metadata": {
    "colab_type": "text",
    "id": "cj2WjzuABwho"
   },
   "source": [
    "# Funciones"
   ]
  },
  {
   "cell_type": "code",
   "execution_count": 29,
   "metadata": {
    "colab": {},
    "colab_type": "code",
    "id": "flD-NKiDBwhp"
   },
   "outputs": [],
   "source": [
    "def seParecen(g,l,threshold):\n",
    "    \n",
    "    l = str(l)\n",
    "    g = str(g)\n",
    "    \n",
    "    if len(g) > len(l):\n",
    "        smaller = l\n",
    "        larger = g\n",
    "    else:\n",
    "        smaller = g\n",
    "        larger = l\n",
    "        \n",
    "    count = 0\n",
    "    for i in range(len(smaller)):\n",
    "        if g[i] == l[i]:\n",
    "            count += 1\n",
    "    \n",
    "    return count/len(larger) >= threshold or smaller in larger"
   ]
  },
  {
   "cell_type": "markdown",
   "metadata": {
    "colab_type": "text",
    "id": "20e5a-yzBwhw"
   },
   "source": [
    "# Encontrando grupos que tienen un nombre parecido en kaggle a los de piazza\n",
    "\n",
    "    Esto se podria comentar por completo si tenemos el nombre exacto de cada grupo. De ser ese el caso se podria solucionar facil el filtrado con un simple merge"
   ]
  },
  {
   "cell_type": "code",
   "execution_count": 30,
   "metadata": {
    "colab": {},
    "colab_type": "code",
    "id": "vN3j7lZFBwhw"
   },
   "outputs": [],
   "source": [
    "g_id = { g:i for i,g in enumerate(piazza)}\n",
    "l_id = { l:i for i,l in enumerate(leaderboard['TeamName'].values)}\n",
    "\n",
    "parecidos = {}\n",
    "asignados = {}\n",
    "for g in piazza:\n",
    "    for l in list(leaderboard['TeamName'].values):\n",
    "        \n",
    "        if not (type(g) == type('') and type(l) == type('')):\n",
    "            continue\n",
    "            \n",
    "        if seParecen(g,l,0.7):\n",
    "            if not l in asignados:\n",
    "                asignados[l] = g\n",
    "                parecidos[g] = l\n",
    "            \n",
    "fuera = []\n",
    "for g in g_id:\n",
    "    if not g in parecidos:\n",
    "        fuera.append(g)\n",
    "        \n",
    "for g in fuera:\n",
    "    for l in list(leaderboard['TeamName'].values):\n",
    "        \n",
    "        if not (type(g) == type('') and type(l) == type('')):\n",
    "            continue\n",
    "            \n",
    "        if seParecen(g,l,0.5):\n",
    "            if not l in asignados:\n",
    "                asignados[l] = g\n",
    "                parecidos[g] = l\n",
    "            \n",
    "fuera = []\n",
    "for g in g_id:\n",
    "    if not g in parecidos:\n",
    "        fuera.append(g)"
   ]
  },
  {
   "cell_type": "markdown",
   "metadata": {
    "colab_type": "text",
    "id": "EzZWotAdBwh3"
   },
   "source": [
    "# Filtrando"
   ]
  },
  {
   "cell_type": "code",
   "execution_count": 31,
   "metadata": {
    "colab": {},
    "colab_type": "code",
    "id": "qbMdox-oBwh4"
   },
   "outputs": [],
   "source": [
    "cross = leaderboard[leaderboard['TeamName'].isin(list(parecidos.values()) + piazza + nombre_en_kaggle)]"
   ]
  },
  {
   "cell_type": "markdown",
   "metadata": {
    "colab_type": "text",
    "id": "Rj8g3IKhBwh-"
   },
   "source": [
    "# Leaderboard Orga de Datos"
   ]
  },
  {
   "cell_type": "code",
   "execution_count": 32,
   "metadata": {
    "colab": {
     "base_uri": "https://localhost:8080/",
     "height": 896
    },
    "colab_type": "code",
    "id": "zDXbNi5BBwh_",
    "outputId": "6b02a033-0e09-4ac0-e440-4d11a007f8bd"
   },
   "outputs": [
    {
     "data": {
      "text/html": [
       "<div>\n",
       "<style scoped>\n",
       "    .dataframe tbody tr th:only-of-type {\n",
       "        vertical-align: middle;\n",
       "    }\n",
       "\n",
       "    .dataframe tbody tr th {\n",
       "        vertical-align: top;\n",
       "    }\n",
       "\n",
       "    .dataframe thead th {\n",
       "        text-align: right;\n",
       "    }\n",
       "</style>\n",
       "<table border=\"1\" class=\"dataframe\">\n",
       "  <thead>\n",
       "    <tr style=\"text-align: right;\">\n",
       "      <th></th>\n",
       "      <th>TeamName</th>\n",
       "      <th>Score</th>\n",
       "      <th>relative</th>\n",
       "    </tr>\n",
       "  </thead>\n",
       "  <tbody>\n",
       "    <tr>\n",
       "      <th>0</th>\n",
       "      <td>Grupo python fiuba</td>\n",
       "      <td>0.84646</td>\n",
       "      <td>3.218</td>\n",
       "    </tr>\n",
       "    <tr>\n",
       "      <th>1</th>\n",
       "      <td>Superficial Intelligence</td>\n",
       "      <td>0.84492</td>\n",
       "      <td>3.064</td>\n",
       "    </tr>\n",
       "    <tr>\n",
       "      <th>2</th>\n",
       "      <td>El Cuarteto Imperial</td>\n",
       "      <td>0.84339</td>\n",
       "      <td>2.911</td>\n",
       "    </tr>\n",
       "    <tr>\n",
       "      <th>3</th>\n",
       "      <td>marbel</td>\n",
       "      <td>0.83971</td>\n",
       "      <td>2.543</td>\n",
       "    </tr>\n",
       "    <tr>\n",
       "      <th>4</th>\n",
       "      <td>COVIgData-19</td>\n",
       "      <td>0.83879</td>\n",
       "      <td>2.451</td>\n",
       "    </tr>\n",
       "    <tr>\n",
       "      <th>5</th>\n",
       "      <td>Corona2</td>\n",
       "      <td>0.83604</td>\n",
       "      <td>2.176</td>\n",
       "    </tr>\n",
       "    <tr>\n",
       "      <th>6</th>\n",
       "      <td>DatUs</td>\n",
       "      <td>0.83420</td>\n",
       "      <td>1.992</td>\n",
       "    </tr>\n",
       "    <tr>\n",
       "      <th>7</th>\n",
       "      <td>How I Met Your Data</td>\n",
       "      <td>0.82899</td>\n",
       "      <td>1.471</td>\n",
       "    </tr>\n",
       "    <tr>\n",
       "      <th>8</th>\n",
       "      <td>COVIDATOS</td>\n",
       "      <td>0.82715</td>\n",
       "      <td>1.287</td>\n",
       "    </tr>\n",
       "    <tr>\n",
       "      <th>9</th>\n",
       "      <td>Grupo Orga Datos</td>\n",
       "      <td>0.82653</td>\n",
       "      <td>1.225</td>\n",
       "    </tr>\n",
       "    <tr>\n",
       "      <th>10</th>\n",
       "      <td>El tio del marido de Pampita</td>\n",
       "      <td>0.82562</td>\n",
       "      <td>1.134</td>\n",
       "    </tr>\n",
       "    <tr>\n",
       "      <th>11</th>\n",
       "      <td>Unidos por los datos</td>\n",
       "      <td>0.82470</td>\n",
       "      <td>1.042</td>\n",
       "    </tr>\n",
       "    <tr>\n",
       "      <th>12</th>\n",
       "      <td>Grupo 1 - King Data</td>\n",
       "      <td>0.82194</td>\n",
       "      <td>0.766</td>\n",
       "    </tr>\n",
       "    <tr>\n",
       "      <th>13</th>\n",
       "      <td>Grupo 13</td>\n",
       "      <td>0.81918</td>\n",
       "      <td>0.490</td>\n",
       "    </tr>\n",
       "    <tr>\n",
       "      <th>14</th>\n",
       "      <td>Grupo 33 - DataTravellers</td>\n",
       "      <td>0.81428</td>\n",
       "      <td>0.000</td>\n",
       "    </tr>\n",
       "    <tr>\n",
       "      <th>15</th>\n",
       "      <td>DataSOS</td>\n",
       "      <td>0.81274</td>\n",
       "      <td>-0.154</td>\n",
       "    </tr>\n",
       "    <tr>\n",
       "      <th>16</th>\n",
       "      <td>fiuba_barros_gomez</td>\n",
       "      <td>0.81213</td>\n",
       "      <td>-0.215</td>\n",
       "    </tr>\n",
       "    <tr>\n",
       "      <th>17</th>\n",
       "      <td>The Datalorian</td>\n",
       "      <td>0.80907</td>\n",
       "      <td>-0.521</td>\n",
       "    </tr>\n",
       "    <tr>\n",
       "      <th>18</th>\n",
       "      <td>Data Science Monsters</td>\n",
       "      <td>0.80661</td>\n",
       "      <td>-0.767</td>\n",
       "    </tr>\n",
       "    <tr>\n",
       "      <th>19</th>\n",
       "      <td>Grupo Rosa</td>\n",
       "      <td>0.80600</td>\n",
       "      <td>-0.828</td>\n",
       "    </tr>\n",
       "    <tr>\n",
       "      <th>20</th>\n",
       "      <td>Equipo Cloud</td>\n",
       "      <td>0.80570</td>\n",
       "      <td>-0.858</td>\n",
       "    </tr>\n",
       "    <tr>\n",
       "      <th>21</th>\n",
       "      <td>Barbijo de Uranio</td>\n",
       "      <td>0.80202</td>\n",
       "      <td>-1.226</td>\n",
       "    </tr>\n",
       "    <tr>\n",
       "      <th>22</th>\n",
       "      <td>Kung Fu Panda</td>\n",
       "      <td>0.80171</td>\n",
       "      <td>-1.257</td>\n",
       "    </tr>\n",
       "    <tr>\n",
       "      <th>23</th>\n",
       "      <td>ChocoTeam</td>\n",
       "      <td>0.79803</td>\n",
       "      <td>-1.625</td>\n",
       "    </tr>\n",
       "    <tr>\n",
       "      <th>24</th>\n",
       "      <td>Undefined</td>\n",
       "      <td>0.79711</td>\n",
       "      <td>-1.717</td>\n",
       "    </tr>\n",
       "    <tr>\n",
       "      <th>25</th>\n",
       "      <td>Mayank Desai</td>\n",
       "      <td>0.79589</td>\n",
       "      <td>-1.839</td>\n",
       "    </tr>\n",
       "    <tr>\n",
       "      <th>26</th>\n",
       "      <td>Team_Undav</td>\n",
       "      <td>0.79558</td>\n",
       "      <td>-1.870</td>\n",
       "    </tr>\n",
       "    <tr>\n",
       "      <th>27</th>\n",
       "      <td>El Cuarteto del Code</td>\n",
       "      <td>0.79497</td>\n",
       "      <td>-1.931</td>\n",
       "    </tr>\n",
       "    <tr>\n",
       "      <th>28</th>\n",
       "      <td>Datavid-19</td>\n",
       "      <td>0.79374</td>\n",
       "      <td>-2.054</td>\n",
       "    </tr>\n",
       "    <tr>\n",
       "      <th>29</th>\n",
       "      <td>CoronaDatos</td>\n",
       "      <td>0.79252</td>\n",
       "      <td>-2.176</td>\n",
       "    </tr>\n",
       "    <tr>\n",
       "      <th>30</th>\n",
       "      <td>Alpha Zero</td>\n",
       "      <td>0.79160</td>\n",
       "      <td>-2.268</td>\n",
       "    </tr>\n",
       "    <tr>\n",
       "      <th>31</th>\n",
       "      <td>Pyrañas</td>\n",
       "      <td>0.79037</td>\n",
       "      <td>-2.391</td>\n",
       "    </tr>\n",
       "    <tr>\n",
       "      <th>32</th>\n",
       "      <td>Oh La La Data</td>\n",
       "      <td>0.78669</td>\n",
       "      <td>-2.759</td>\n",
       "    </tr>\n",
       "    <tr>\n",
       "      <th>33</th>\n",
       "      <td>Rest Driven Development</td>\n",
       "      <td>0.77873</td>\n",
       "      <td>-3.555</td>\n",
       "    </tr>\n",
       "    <tr>\n",
       "      <th>34</th>\n",
       "      <td>undefined reference</td>\n",
       "      <td>0.77229</td>\n",
       "      <td>-4.199</td>\n",
       "    </tr>\n",
       "    <tr>\n",
       "      <th>35</th>\n",
       "      <td>Data Hunters</td>\n",
       "      <td>0.69904</td>\n",
       "      <td>-11.524</td>\n",
       "    </tr>\n",
       "    <tr>\n",
       "      <th>36</th>\n",
       "      <td>DataKuro</td>\n",
       "      <td>0.57033</td>\n",
       "      <td>-24.395</td>\n",
       "    </tr>\n",
       "  </tbody>\n",
       "</table>\n",
       "</div>"
      ],
      "text/plain": [
       "                        TeamName    Score  relative\n",
       "0             Grupo python fiuba  0.84646     3.218\n",
       "1       Superficial Intelligence  0.84492     3.064\n",
       "2           El Cuarteto Imperial  0.84339     2.911\n",
       "3                         marbel  0.83971     2.543\n",
       "4                   COVIgData-19  0.83879     2.451\n",
       "5                        Corona2  0.83604     2.176\n",
       "6                          DatUs  0.83420     1.992\n",
       "7            How I Met Your Data  0.82899     1.471\n",
       "8                      COVIDATOS  0.82715     1.287\n",
       "9               Grupo Orga Datos  0.82653     1.225\n",
       "10  El tio del marido de Pampita  0.82562     1.134\n",
       "11          Unidos por los datos  0.82470     1.042\n",
       "12           Grupo 1 - King Data  0.82194     0.766\n",
       "13                      Grupo 13  0.81918     0.490\n",
       "14     Grupo 33 - DataTravellers  0.81428     0.000\n",
       "15                       DataSOS  0.81274    -0.154\n",
       "16            fiuba_barros_gomez  0.81213    -0.215\n",
       "17                The Datalorian  0.80907    -0.521\n",
       "18         Data Science Monsters  0.80661    -0.767\n",
       "19                    Grupo Rosa  0.80600    -0.828\n",
       "20                  Equipo Cloud  0.80570    -0.858\n",
       "21             Barbijo de Uranio  0.80202    -1.226\n",
       "22                 Kung Fu Panda  0.80171    -1.257\n",
       "23                     ChocoTeam  0.79803    -1.625\n",
       "24                     Undefined  0.79711    -1.717\n",
       "25                  Mayank Desai  0.79589    -1.839\n",
       "26                    Team_Undav  0.79558    -1.870\n",
       "27          El Cuarteto del Code  0.79497    -1.931\n",
       "28                    Datavid-19  0.79374    -2.054\n",
       "29                   CoronaDatos  0.79252    -2.176\n",
       "30                    Alpha Zero  0.79160    -2.268\n",
       "31                       Pyrañas  0.79037    -2.391\n",
       "32                 Oh La La Data  0.78669    -2.759\n",
       "33       Rest Driven Development  0.77873    -3.555\n",
       "34           undefined reference  0.77229    -4.199\n",
       "35                  Data Hunters  0.69904   -11.524\n",
       "36                      DataKuro  0.57033   -24.395"
      ]
     },
     "execution_count": 32,
     "metadata": {},
     "output_type": "execute_result"
    }
   ],
   "source": [
    "datos_leaderboard = cross.groupby('TeamName')['SubmissionDate'].max().to_frame().merge(cross, on = 'SubmissionDate')\\\n",
    "    .sort_values('Score', ascending = False).reset_index()[['TeamName','Score']]\n",
    "\n",
    "teamName = 'Grupo 33 - DataTravellers' #pone tu grupo\n",
    "\n",
    "your_team_score = datos_leaderboard[datos_leaderboard['TeamName'] == teamName]['Score'].values[0]\n",
    "datos_leaderboard['relative'] = (datos_leaderboard['Score'] - your_team_score) * 100\n",
    "\n",
    "datos_leaderboard"
   ]
  },
  {
   "cell_type": "markdown",
   "metadata": {
    "colab_type": "text",
    "id": "y2EcoHSdBwiG"
   },
   "source": [
    "# Podes ver el progreso de el team que quieras"
   ]
  },
  {
   "cell_type": "code",
   "execution_count": 22,
   "metadata": {
    "colab": {
     "base_uri": "https://localhost:8080/",
     "height": 316
    },
    "colab_type": "code",
    "id": "_LDqxWBHBwiH",
    "outputId": "c1a8bcd2-3008-45cd-96fc-87b8065f4841"
   },
   "outputs": [
    {
     "data": {
      "image/png": "[encoded data removed]",
      "text/plain": [
       "<Figure size 1440x360 with 1 Axes>"
      ]
     },
     "metadata": {},
     "output_type": "display_data"
    }
   ],
   "source": [
    "teamName = 'Grupo 33 - DataTravellers' #pone tu grupo\n",
    "\n",
    "v = sns.barplot(x = 'SubmissionDate', y = 'Score', data = leaderboard[ leaderboard['TeamName'] == teamName ], palette = 'icefire')\n",
    "v.set(ylim=(0.5, datos_leaderboard['Score'].max()))\n",
    "for item in v.get_xticklabels():\n",
    "        item.set_rotation(45)"
   ]
  },
  {
   "cell_type": "markdown",
   "metadata": {
    "colab_type": "text",
    "id": "X1u7_WPsBwiL"
   },
   "source": [
    "# Cantidad de sumbits que significaron un nuevo record"
   ]
  },
  {
   "cell_type": "code",
   "execution_count": 23,
   "metadata": {
    "colab": {
     "base_uri": "https://localhost:8080/",
     "height": 521
    },
    "colab_type": "code",
    "id": "z9tRyEG1BwiN",
    "outputId": "5e6abf99-baa2-4ba9-e815-41ce0c1a46c1"
   },
   "outputs": [
    {
     "data": {
      "text/plain": [
       "TeamName\n",
       "DatUs                           24\n",
       "El Cuarteto Imperial            19\n",
       "Unidos por los datos            18\n",
       "The Datalorian                  18\n",
       "Superficial Intelligence        13\n",
       "Grupo 1 - King Data             13\n",
       "Grupo 33 - DataTravellers       12\n",
       "Grupo 13                        11\n",
       "Grupo Orga Datos                11\n",
       "El Cuarteto del Code            11\n",
       "Grupo python fiuba              10\n",
       "El tio del marido de Pampita     9\n",
       "Barbijo de Uranio                8\n",
       "COVIDATOS                        8\n",
       "COVIgData-19                     8\n",
       "Corona2                          8\n",
       "Alpha Zero                       8\n",
       "ChocoTeam                        7\n",
       "Datavid-19                       7\n",
       "Grupo Rosa                       6\n",
       "fiuba_barros_gomez               6\n",
       "Equipo Cloud                     6\n",
       "DataSOS                          5\n",
       "Data Hunters                     4\n",
       "Mayank Desai                     4\n",
       "Pyrañas                          4\n",
       "Team_Undav                       3\n",
       "Data Science Monsters            3\n",
       "marbel                           3\n",
       "Kung Fu Panda                    3\n",
       "How I Met Your Data              3\n",
       "undefined reference              3\n",
       "CoronaDatos                      2\n",
       "Rest Driven Development          2\n",
       "Undefined                        2\n",
       "DataKuro                         1\n",
       "Oh La La Data                    1\n",
       "Name: SubmissionDate, dtype: int64"
      ]
     },
     "execution_count": 23,
     "metadata": {},
     "output_type": "execute_result"
    }
   ],
   "source": [
    "cross.groupby('TeamName')['SubmissionDate'].count().sort_values(ascending = False)"
   ]
  },
  {
   "cell_type": "code",
   "execution_count": null,
   "metadata": {
    "colab": {},
    "colab_type": "code",
    "id": "fhCNIOKrBwiR"
   },
   "outputs": [],
   "source": []
  },
  {
   "cell_type": "code",
   "execution_count": null,
   "metadata": {},
   "outputs": [],
   "source": []
  },
  {
   "cell_type": "code",
   "execution_count": null,
   "metadata": {},
   "outputs": [],
   "source": []
  }
 ],
 "metadata": {
  "colab": {
   "collapsed_sections": [],
   "name": "leaderboard.ipynb",
   "provenance": []
  },
  "kernelspec": {
   "display_name": "Python 3",
   "language": "python",
   "name": "python3"
  },
  "language_info": {
   "codemirror_mode": {
    "name": "ipython",
    "version": 3
   },
   "file_extension": ".py",
   "mimetype": "text/x-python",
   "name": "python",
   "nbconvert_exporter": "python",
   "pygments_lexer": "ipython3",
   "version": "3.7.6"
  }
 },
 "nbformat": 4,
 "nbformat_minor": 4
}
