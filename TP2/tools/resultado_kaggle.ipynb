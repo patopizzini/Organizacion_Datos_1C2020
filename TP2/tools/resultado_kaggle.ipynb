{
 "cells": [
  {
   "cell_type": "code",
   "execution_count": 1,
   "metadata": {},
   "outputs": [],
   "source": [
    "import pandas as pd"
   ]
  },
  {
   "cell_type": "code",
   "execution_count": 2,
   "metadata": {},
   "outputs": [],
   "source": [
    "#Submit que queremos testear\n",
    "entrega = pd.read_csv('../data/submits/submission_09_20200730.csv')\n",
    "\n",
    "#Lectura de test y los resultados\n",
    "test_df = pd.read_csv('../data/test.csv')\n",
    "gt_df = pd.read_csv('../data/answers/socialmedia-disaster-tweets-DFE.csv')"
   ]
  },
  {
   "cell_type": "code",
   "execution_count": 3,
   "metadata": {},
   "outputs": [],
   "source": [
    "#Tomamos del df de respuestas los campos que necesitamos\n",
    "gt_df = gt_df[['choose_one', 'text']]\n",
    "gt_df['target'] = (gt_df['choose_one']=='Relevant').astype(int)\n",
    "gt_df['id'] = gt_df.index\n",
    "#gt_df"
   ]
  },
  {
   "cell_type": "code",
   "execution_count": 4,
   "metadata": {},
   "outputs": [],
   "source": [
    "#Lo unimos al df de test\n",
    "merged_df = pd.merge(test_df, gt_df, on='id')\n",
    "#merged_df"
   ]
  },
  {
   "cell_type": "code",
   "execution_count": 5,
   "metadata": {},
   "outputs": [],
   "source": [
    "#Calculamos el archivo de submit con los resultados correctos\n",
    "resultados = merged_df[['id', 'target']]\n",
    "#resultados"
   ]
  },
  {
   "cell_type": "code",
   "execution_count": 6,
   "metadata": {},
   "outputs": [],
   "source": [
    "#Armamos el DF para calcular el score\n",
    "total = entrega.merge(resultados, on = 'id')\n",
    "\n",
    "total.columns = ['id', 'target_entregado', 'target_real']\n",
    "#total"
   ]
  },
  {
   "cell_type": "code",
   "execution_count": 7,
   "metadata": {},
   "outputs": [
    {
     "name": "stdout",
     "output_type": "stream",
     "text": [
      "Cantidad de tweets predecidos correctamente: 2518\n",
      "Cantidad de tweets en total para test: 3263\n",
      "El resultado es: 0.7716825007661661\n"
     ]
    }
   ],
   "source": [
    "#Calculo del resultado del submit en Kaggle\n",
    "total['score'] = total['target_entregado'] == total['target_real']\n",
    "\n",
    "score_true = len(total[(total['score'] == True)].index)\n",
    "score_total = len(total['score'].index)\n",
    "\n",
    "print('Cantidad de tweets predecidos correctamente: ' + str(score_true))\n",
    "print('Cantidad de tweets en total para test: ' + str(score_total))\n",
    "print('El resultado es: ' + str(score_true/score_total))"
   ]
  },
  {
   "cell_type": "code",
   "execution_count": null,
   "metadata": {},
   "outputs": [],
   "source": []
  }
 ],
 "metadata": {
  "kernelspec": {
   "display_name": "Python 3",
   "language": "python",
   "name": "python3"
  },
  "language_info": {
   "codemirror_mode": {
    "name": "ipython",
    "version": 3
   },
   "file_extension": ".py",
   "mimetype": "text/x-python",
   "name": "python",
   "nbconvert_exporter": "python",
   "pygments_lexer": "ipython3",
   "version": "3.7.6"
  }
 },
 "nbformat": 4,
 "nbformat_minor": 4
}
