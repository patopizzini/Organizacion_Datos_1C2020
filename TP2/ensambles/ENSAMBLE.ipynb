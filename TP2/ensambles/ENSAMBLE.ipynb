{
 "cells": [
  {
   "cell_type": "code",
   "execution_count": 1,
   "metadata": {},
   "outputs": [],
   "source": [
    "\n",
    "# Importacion de librerias necesarias\n",
    "import re, string, random, datetime\n",
    "import warnings\n",
    "import pandas as pd\n",
    "import numpy as np\n",
    "import matplotlib.pyplot as plt\n",
    "from scipy.stats.mstats import mode"
   ]
  },
  {
   "cell_type": "code",
   "execution_count": 2,
   "metadata": {},
   "outputs": [],
   "source": [
    "BERT = pd.read_csv('data/submits/submission.2020.08.05T12.06.08.058975.csv')\n",
    "CNN = pd.read_csv('data/submits/submission.2020.08.04T11.52.05.274146.csv')\n",
    "MLP = pd.read_csv('data/submits/submission.MLP.2020.08.05T03.29.01.393377.csv')\n",
    "XGBOOST = pd.read_csv('data/submits/submission_XGB_12.csv')\n",
    "\n",
    "usar_CNN = 0.3 \n",
    "usar_XGBOOST = 0.2 \n",
    "usar_MLP = 0.2 \n",
    "usar_BERT = 0.3\n",
    "\n",
    "original_test = pd.read_csv('data/test.csv')"
   ]
  },
  {
   "cell_type": "code",
   "execution_count": 3,
   "metadata": {},
   "outputs": [],
   "source": [
    "#============================================\n",
    "# ENSAMBLE: MAX VOTING.\n",
    "#============================================"
   ]
  },
  {
   "cell_type": "code",
   "execution_count": 4,
   "metadata": {},
   "outputs": [],
   "source": [
    "y_pred_MV = np.array([])\n",
    "for i in range(0,len(original_test['id'])):\n",
    "    y_pred_MV = np.append(y_pred_MV, mode([ BERT[\"target\"][i] , XGBOOST[\"target\"][i] ])[0])"
   ]
  },
  {
   "cell_type": "code",
   "execution_count": 5,
   "metadata": {},
   "outputs": [
    {
     "name": "stdout",
     "output_type": "stream",
     "text": [
      "data/submits/ensambles/submission_MV_2020.08.05T21.17.48.792884.csv\n"
     ]
    }
   ],
   "source": [
    "pathmv = \"data/submits/ensambles/submission_MV_\" + datetime.datetime.now().isoformat() + \".csv\"\n",
    "pathmv = pathmv.replace('-','.').replace(':','.')\n",
    "\n",
    "\n",
    "submission_MV = pd.DataFrame(original_test,columns = ['id'])\n",
    "submission_MV[\"target\"] = y_pred_MV\n",
    "submission_MV.to_csv(pathmv, index=False)\n",
    "submission_MV[\"target\"].value_counts()\n",
    "print(pathmv)"
   ]
  },
  {
   "cell_type": "code",
   "execution_count": 6,
   "metadata": {},
   "outputs": [],
   "source": [
    "#============================================\n",
    "# ENSAMBLE: WEIGHTED AVERAGE. \n",
    "#============================================"
   ]
  },
  {
   "cell_type": "code",
   "execution_count": 7,
   "metadata": {},
   "outputs": [
    {
     "name": "stdout",
     "output_type": "stream",
     "text": [
      "data/submits/ensambles/submission_WA_2020.08.05T21.17.48.884913.csv\n"
     ]
    }
   ],
   "source": [
    "prediccion =( (usar_BERT*BERT[\"target\"]) + (usar_CNN*CNN[\"target\"]) + (usar_MLP*MLP[\"target\"]) + (usar_XGBOOST*XGBOOST[\"target\"]) )\n",
    "y_pred_WA = np.where(prediccion>0.5, 1, 0)    \n",
    "\n",
    "pathwa = \"data/submits/ensambles/submission_WA_\" + datetime.datetime.now().isoformat() + \".csv\"\n",
    "pathwa = pathwa.replace('-','.').replace(':','.')\n",
    "\n",
    "submission_WA = pd.DataFrame(original_test,columns = ['id'])\n",
    "submission_WA[\"target\"] = y_pred_WA\n",
    "submission_WA.to_csv(pathwa, index=False)\n",
    "submission_WA[\"target\"].value_counts()\n",
    "print(pathwa)"
   ]
  },
  {
   "cell_type": "code",
   "execution_count": 8,
   "metadata": {},
   "outputs": [],
   "source": [
    "#============================================\n",
    "# ENSAMBLE: MAX VOTING.\n",
    "#============================================\n",
    "# BERT + CNN + MLP + XGBOOST: El resultado es: 0.8161201348452345\n",
    "# BERT + CNN + MLP: El resultado es: 0.8228623965675759\n",
    "# BERT + CNN + XGBOOST: El resultado es: 0.8268464603125958\n",
    "# BERT + MLP + XGBOOST:El resultado es: 0.816426601287159\n",
    "# BERT + CNN: El resultado es: 0.816426601287159\n",
    "# BERT + MLP: El resultado es: 0.8081520073551947\n",
    "# BERT + XGBOOST: El resultado es: 0.7906834201654919"
   ]
  },
  {
   "cell_type": "code",
   "execution_count": 9,
   "metadata": {},
   "outputs": [],
   "source": [
    "#============================================\n",
    "# ENSAMBLE: WEIGHTED AVERAGE. \n",
    "#============================================\n",
    "#usar_CNN = 0.2 usar_XGBOOST = 0.1 usar_MLP = 0.1 usar_BERT = 0.6\n",
    "# El resultado es: 0.8299111247318418\n",
    "# usar_CNN = 0.3 usar_XGBOOST = 0.0 usar_MLP = 0.2 usar_BERT = 0.4\n",
    "# El resultado es: 0.8228623965675759      \n",
    "# usar_CNN = 0.3 usar_XGBOOST = 0.2 usar_MLP = 0.2 usar_BERT = 0.3\n",
    "# El resultado es: 0.821942997241802"
   ]
  },
  {
   "cell_type": "code",
   "execution_count": null,
   "metadata": {},
   "outputs": [],
   "source": []
  }
 ],
 "metadata": {
  "kernelspec": {
   "display_name": "Python 3",
   "language": "python",
   "name": "python3"
  },
  "language_info": {
   "codemirror_mode": {
    "name": "ipython",
    "version": 3
   },
   "file_extension": ".py",
   "mimetype": "text/x-python",
   "name": "python",
   "nbconvert_exporter": "python",
   "pygments_lexer": "ipython3",
   "version": "3.7.6"
  }
 },
 "nbformat": 4,
 "nbformat_minor": 4
}
