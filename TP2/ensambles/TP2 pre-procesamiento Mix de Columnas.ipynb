{
 "cells": [
  {
   "cell_type": "code",
   "execution_count": 90,
   "metadata": {},
   "outputs": [
    {
     "name": "stderr",
     "output_type": "stream",
     "text": [
      "[nltk_data] Downloading package punkt to /home/andres/nltk_data...\n",
      "[nltk_data]   Package punkt is already up-to-date!\n",
      "[nltk_data] Downloading package wordnet to /home/andres/nltk_data...\n",
      "[nltk_data]   Package wordnet is already up-to-date!\n",
      "[nltk_data] Downloading package stopwords to /home/andres/nltk_data...\n",
      "[nltk_data]   Package stopwords is already up-to-date!\n",
      "[nltk_data] Downloading package averaged_perceptron_tagger to\n",
      "[nltk_data]     /home/andres/nltk_data...\n",
      "[nltk_data]   Package averaged_perceptron_tagger is already up-to-\n",
      "[nltk_data]       date!\n"
     ]
    }
   ],
   "source": [
    "# 75.06 - 1C202 - TP2 \n",
    "# Competencia de Machine learning\n",
    "#\n",
    "# https://www.kaggle.com/c/nlp-getting-started/overview\n",
    "#\n",
    "# Fuentes:\n",
    "# https://realpython.com/python-keras-text-classification/\n",
    "# https://towardsdatascience.com/data-augmentation-in-nlp-2801a34dfc28\n",
    "\n",
    "# Importacion de librerias necesarias\n",
    "import re, string, random, datetime\n",
    "import warnings\n",
    "import pandas as pd\n",
    "import numpy as np\n",
    "import matplotlib.pyplot as plt\n",
    "\n",
    "# NLTK\n",
    "# https://www.nltk.org\n",
    "import nltk\n",
    "nltk.download('punkt')\n",
    "nltk.download('wordnet')\n",
    "nltk.download('stopwords')\n",
    "nltk.download('averaged_perceptron_tagger')\n",
    "\n",
    "from nltk.tokenize import TweetTokenizer\n",
    "from nltk.probability import FreqDist\n",
    "from nltk.corpus import stopwords\n",
    "from nltk.corpus import wordnet\n",
    "from nltk.stem.wordnet import WordNetLemmatizer\n",
    "from nltk.stem import PorterStemmer \n",
    "\n",
    "# NLPAUG\n",
    "# https://github.com/makcedward/nlpaug\n",
    "import nlpaug.augmenter.char as nac\n",
    "import nlpaug.augmenter.word as naw\n",
    "import nlpaug.augmenter.sentence as nas\n",
    "import nlpaug.flow as nafc\n",
    "\n",
    "from nlpaug.util import Action\n",
    "\n",
    "# Split y K-Fold \n",
    "from sklearn.model_selection import train_test_split\n",
    "from sklearn.model_selection import KFold\n",
    "\n",
    "# Importacion de Keras\n",
    "# https://keras.io\n",
    "from keras.models import Sequential, save_model, load_model\n",
    "from keras import layers\n",
    "from keras.preprocessing.text import Tokenizer\n",
    "from keras.preprocessing.sequence import pad_sequences\n",
    "\n",
    "#Configuracion general\n",
    "plt.style.use('ggplot')\n",
    "warnings.filterwarnings('ignore')"
   ]
  },
  {
   "cell_type": "code",
   "execution_count": 91,
   "metadata": {},
   "outputs": [],
   "source": [
    "# Seccion de CONFIGURACION\n",
    "\n",
    "# Path de entrada\n",
    "train_path = 'data/train.csv'\n",
    "test_path = 'data/test.csv'\n",
    "\n",
    "# Variables de control\n",
    "append_keywords = False\n",
    "lowercase_text = True\n",
    "remove_noise = True\n",
    "remove_stopwords = False\n",
    "perform_lemmatization = False\n",
    "augument_dataset = False\n",
    "final_check = True\n",
    "\n",
    "# Variables para usar con MLP.\n",
    "sin_keywords = False\n",
    "sin_location = False\n",
    "con_longitud = True\n",
    "con_total_palabras = True"
   ]
  },
  {
   "cell_type": "code",
   "execution_count": 92,
   "metadata": {},
   "outputs": [],
   "source": [
    "# Funciones AUXILIARES\n",
    "punc = list(string.punctuation)\n",
    "punc.remove('\\'')\n",
    "\n",
    "# Pasa un texto a lowercase\n",
    "def f_lowercase_text(text):\n",
    "    return str(text).lower()\n",
    "\n",
    "# Limpia los datos, mediante el uso de expresiones regulares\n",
    "def f_remove_noise(text):\n",
    "    text = re.sub('\\[.*?\\]', '', text)\n",
    "    text = re.sub('https?://\\S+|www\\.\\S+', '', text)\n",
    "    text = re.sub('<.*?>+', '', text)\n",
    "    text = re.sub('[%s]' % re.escape(string.punctuation), '', text)\n",
    "    text = re.sub('\\n', '', text)\n",
    "    text = re.sub('\\w*\\d\\w*', '', text)\n",
    "    text = re.sub(r'[^\\x00-\\x7F]+','', text)\n",
    "    return text"
   ]
  },
  {
   "cell_type": "code",
   "execution_count": 93,
   "metadata": {},
   "outputs": [],
   "source": [
    "# Set de train y test : carga, descarte de columnas no utilizadas y limpieza de los textos\n",
    "# Carga de los archivos\n",
    "df_twitter_train = pd.read_csv(train_path, sep=',')\n",
    "df_twitter_test = pd.read_csv(test_path, sep=',')\n",
    "\n",
    "# Completamos los NaN de keyword\n",
    "df_twitter_train.fillna('empty', inplace = True)\n",
    "df_twitter_test.fillna('empty', inplace = True)"
   ]
  },
  {
   "cell_type": "code",
   "execution_count": 94,
   "metadata": {},
   "outputs": [],
   "source": [
    "# Limpieza basica de los textos\n",
    "# Pasar a minusculas\n",
    "if (lowercase_text):\n",
    "    df_twitter_train['text'] = df_twitter_train['text'].apply(lambda x: f_lowercase_text(x))\n",
    "    df_twitter_test['text'] = df_twitter_test['text'].apply(lambda x: f_lowercase_text(x))\n",
    "    df_twitter_train['keyword'] = df_twitter_train['keyword'].apply(lambda x: f_lowercase_text(x))\n",
    "    df_twitter_test['keyword'] = df_twitter_test['keyword'].apply(lambda x: f_lowercase_text(x))\n",
    "    df_twitter_train['location'] = df_twitter_train['location'].apply(lambda x: f_lowercase_text(x))\n",
    "    df_twitter_test['location'] = df_twitter_test['location'].apply(lambda x: f_lowercase_text(x))\n",
    "    \n",
    "# Filtrar caracteres no deseados\n",
    "if (remove_noise):\n",
    "    df_twitter_train['keyword'] = df_twitter_train.apply(lambda x: x['keyword'] if str(x['keyword']) is 'empty' else x['keyword'].replace('%20', ' '), axis = 1)\n",
    "    df_twitter_test['keyword'] = df_twitter_test.apply(lambda x: x['keyword'] if str(x['keyword']) is 'empty' else x['keyword'].replace('%20', ' '), axis = 1)\n",
    "    df_twitter_train['text'] = df_twitter_train['text'].apply(lambda x: f_remove_noise(x))\n",
    "    df_twitter_test['text'] = df_twitter_test['text'].apply(lambda x: f_remove_noise(x))\n",
    "\n",
    "# Sumamos los keywords al text\n",
    "if (append_keywords):\n",
    "    df_twitter_train['text'] = df_twitter_train.apply(lambda x: x['text'] if (str(x['keyword']) is 'empty') else (x['text'] + ' ' + x['keyword']), axis = 1)\n",
    "    df_twitter_test['text'] = df_twitter_test.apply(lambda x: x['text'] if (str(x['keyword']) is 'empty') else (x['text'] + ' ' + x['keyword']), axis = 1)\n",
    "    \n",
    "# Tratamiento con NLTK\n",
    "# Quitamos stop-words\n",
    "if (remove_stopwords):\n",
    "    stop_words = set(stopwords.words('english'))\n",
    "    df_twitter_train['text'] =  df_twitter_train['text'].apply(lambda x: ' '.join([word for word in x.split() if word not in (stop_words)]))\n",
    "    df_twitter_test['text'] =  df_twitter_test['text'].apply(lambda x: ' '.join([word for word in x.split() if word not in (stop_words)]))\n",
    "\n",
    "# Lematizacion\n",
    "if (perform_lemmatization):\n",
    "    lem = WordNetLemmatizer()\n",
    "    df_twitter_train['text'] =  df_twitter_train['text'].apply(lambda x: ' '.join([lem.lemmatize(word,\"v\") for word in x.split()]))\n",
    "    df_twitter_test['text'] =  df_twitter_test['text'].apply(lambda x: ' '.join([lem.lemmatize(word,\"v\") for word in x.split()]))"
   ]
  },
  {
   "cell_type": "code",
   "execution_count": 95,
   "metadata": {},
   "outputs": [],
   "source": [
    "# Tratamiento del set de train con nlpaug\n",
    "# Aumentamos el tamaño de nuestro set para mejorar los resultados de la prediccion\n",
    "if (augument_dataset):\n",
    "    # Creamos un nuevo dataframe para trabajar\n",
    "    df_twitter_train_aug = pd.DataFrame(df_twitter_train)\n",
    "\n",
    "    # Reemplazamos una palabra del tweet con un sinonimo tomado de WordNet\n",
    "    aug_syn = naw.SynonymAug(aug_src='wordnet')\n",
    "    # Intercambiamos una palabra random por otra en el tweet\n",
    "    aug_swp = naw.RandomWordAug(action=\"swap\")\n",
    "\n",
    "    # Usmos las 2 opciones\n",
    "    df_twitter_train_aug['text'] = df_twitter_train_aug['text'].apply(lambda x: aug_syn.augment(x))\n",
    "    df_twitter_train_aug['text'] = df_twitter_train_aug['text'].apply(lambda x: aug_swp.augment(x))\n",
    "\n",
    "    # Unimos los 2 dataframes\n",
    "    df_twitter_train = pd.concat([df_twitter_train, df_twitter_train_aug])"
   ]
  },
  {
   "cell_type": "code",
   "execution_count": 96,
   "metadata": {},
   "outputs": [],
   "source": [
    "# Completamos los NaN de keyword y text, por si alguno quedo en blanco luego de limpiar\n",
    "if(final_check):\n",
    "    df_twitter_train['text'] = df_twitter_train['text'].apply(lambda x: x if x != '' else '0')\n",
    "    df_twitter_test['text'] = df_twitter_test['text'].apply(lambda x: x if x != '' else '0')"
   ]
  },
  {
   "cell_type": "code",
   "execution_count": 97,
   "metadata": {},
   "outputs": [],
   "source": [
    "#=================================================================================================\n",
    "# COLUMNA NUMÉRICAS Y CATEGÓRICAS A SER AGREGADAS PARA USAR EN LA RED NEURONAL.\n",
    "#================================================================================================="
   ]
  },
  {
   "cell_type": "code",
   "execution_count": 98,
   "metadata": {},
   "outputs": [],
   "source": [
    "# Corroboramos si usamos la columna categórica de location.\n",
    "if (sin_location):\n",
    "    df_twitter_train.drop('location', axis=1, inplace=True)\n",
    "    df_twitter_test.drop('location', axis=1, inplace=True)\n",
    "    \n",
    "# Corroboramos si usamos la columna categórica de keyword.\n",
    "if (sin_keywords):\n",
    "    df_twitter_train.drop('keyword', axis=1, inplace=True)\n",
    "    df_twitter_test.drop('keyword', axis=1, inplace=True)\n",
    "\n",
    "# Agregamos una columna numérica con la longitud del tweet.\n",
    "if (con_longitud):\n",
    "    df_twitter_train['length'] = df_twitter_train['text'].str.len()\n",
    "    df_twitter_test['length'] = df_twitter_test['text'].str.len()\n",
    "\n",
    "# Agregamos una columna numérica con la cantidad de palabras.\n",
    "if (con_total_palabras):\n",
    "    df_twitter_train['totalwords'] = df_twitter_train['text'].str.split().str.len()\n",
    "    df_twitter_test['totalwords'] = df_twitter_test['text'].str.split().str.len()"
   ]
  },
  {
   "cell_type": "code",
   "execution_count": 99,
   "metadata": {},
   "outputs": [],
   "source": [
    "#=================================================================================================\n",
    "# RESGUARDO FINAL DE LOS DATOS LUEGO DE LA LIMPIEZA Y PROCESAMIENTO DEL TEXTO.\n",
    "#================================================================================================="
   ]
  },
  {
   "cell_type": "code",
   "execution_count": 100,
   "metadata": {},
   "outputs": [
    {
     "name": "stdout",
     "output_type": "stream",
     "text": [
      "Operación finalizada!\n",
      "\n",
      "Pasaje a minúsculas:       True\n",
      "Limpieza básica:           True\n",
      "Agregado de keywords:      False\n",
      "Remoción de stopwords:     False\n",
      "Lematización:              False\n",
      "Aumento del set:           False\n",
      "SIN columnas location:     False\n",
      "SIN columnas keyword:      False\n",
      "CON longitudt:             True\n",
      "CON cantidad de palabras:  True\n",
      "Chequeo final:         True\n",
      "\n",
      "Generado train: 'data/processed/train.2020.08.03T16.57.04.289197.csv' - (7613) registros.\n",
      "Generado test:  'data/processed/test.2020.08.03T16.57.04.289197.csv' - (3263) registros.\n"
     ]
    }
   ],
   "source": [
    "# Escribimos los archivos de salida\n",
    "# Path de salida para el archivo de train y test\n",
    "now = datetime.datetime.now().isoformat()\n",
    "train_clean_path = 'data/processed/train.' + now + '.csv'\n",
    "test_clean_path = 'data/processed/test.' + now + '.csv'\n",
    "train_clean_path = train_clean_path.replace('-','.').replace(':','.')\n",
    "test_clean_path = test_clean_path.replace('-','.').replace(':','.')\n",
    "\n",
    "df_twitter_train.to_csv(train_clean_path, index=False)\n",
    "df_twitter_test.to_csv(test_clean_path, index=False)\n",
    "\n",
    "# Imprimimos un resumen de la operacion\n",
    "print('Operación finalizada!\\n')\n",
    "print('Pasaje a minúsculas:       ' + str(lowercase_text))\n",
    "print('Limpieza básica:           ' + str(remove_noise))\n",
    "print('Agregado de keywords:      ' + str(append_keywords))\n",
    "print('Remoción de stopwords:     ' + str(remove_stopwords))\n",
    "print('Lematización:              ' + str(perform_lemmatization))\n",
    "print('Aumento del set:           ' + str(augument_dataset))\n",
    "print('SIN columnas location:     ' + str(sin_location))\n",
    "print('SIN columnas keyword:      ' + str(sin_keywords))\n",
    "print('CON longitudt:             ' + str(con_longitud))\n",
    "print('CON cantidad de palabras:  ' + str(con_total_palabras))\n",
    "print('Chequeo final:         ' + str(final_check) + '\\n')\n",
    "print('Generado train: \\'' + train_clean_path + '\\' - (' + str(len(df_twitter_train['text'].index)) + ') registros.')\n",
    "print('Generado test:  \\'' + test_clean_path + '\\' - (' + str(len(df_twitter_test['text'].index)) + ') registros.')"
   ]
  },
  {
   "cell_type": "code",
   "execution_count": 101,
   "metadata": {},
   "outputs": [
    {
     "name": "stdout",
     "output_type": "stream",
     "text": [
      "<class 'pandas.core.frame.DataFrame'>\n",
      "RangeIndex: 7613 entries, 0 to 7612\n",
      "Data columns (total 7 columns):\n",
      " #   Column      Non-Null Count  Dtype \n",
      "---  ------      --------------  ----- \n",
      " 0   id          7613 non-null   int64 \n",
      " 1   keyword     7613 non-null   object\n",
      " 2   location    7613 non-null   object\n",
      " 3   text        7613 non-null   object\n",
      " 4   target      7613 non-null   int64 \n",
      " 5   length      7613 non-null   int64 \n",
      " 6   totalwords  7613 non-null   int64 \n",
      "dtypes: int64(4), object(3)\n",
      "memory usage: 416.5+ KB\n"
     ]
    }
   ],
   "source": [
    "df_twitter_train.info()"
   ]
  },
  {
   "cell_type": "code",
   "execution_count": 102,
   "metadata": {},
   "outputs": [
    {
     "name": "stdout",
     "output_type": "stream",
     "text": [
      "<class 'pandas.core.frame.DataFrame'>\n",
      "RangeIndex: 3263 entries, 0 to 3262\n",
      "Data columns (total 6 columns):\n",
      " #   Column      Non-Null Count  Dtype \n",
      "---  ------      --------------  ----- \n",
      " 0   id          3263 non-null   int64 \n",
      " 1   keyword     3263 non-null   object\n",
      " 2   location    3263 non-null   object\n",
      " 3   text        3263 non-null   object\n",
      " 4   length      3263 non-null   int64 \n",
      " 5   totalwords  3263 non-null   int64 \n",
      "dtypes: int64(3), object(3)\n",
      "memory usage: 153.1+ KB\n"
     ]
    }
   ],
   "source": [
    "df_twitter_test.info()"
   ]
  },
  {
   "cell_type": "code",
   "execution_count": null,
   "metadata": {},
   "outputs": [],
   "source": []
  }
 ],
 "metadata": {
  "kernelspec": {
   "display_name": "Python 3",
   "language": "python",
   "name": "python3"
  },
  "language_info": {
   "codemirror_mode": {
    "name": "ipython",
    "version": 3
   },
   "file_extension": ".py",
   "mimetype": "text/x-python",
   "name": "python",
   "nbconvert_exporter": "python",
   "pygments_lexer": "ipython3",
   "version": "3.7.6"
  }
 },
 "nbformat": 4,
 "nbformat_minor": 4
}
