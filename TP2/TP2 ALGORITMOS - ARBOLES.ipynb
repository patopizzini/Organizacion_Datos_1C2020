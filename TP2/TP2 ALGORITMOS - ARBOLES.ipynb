{
 "cells": [
  {
   "cell_type": "code",
   "execution_count": 103,
   "metadata": {},
   "outputs": [],
   "source": [
    "## IMPORTACIÓN GENERAL DE LIBRERIAS.\n",
    "import re \n",
    "import sys\n",
    "import json\n",
    "import nltk\n",
    "import geocoder\n",
    "import requests\n",
    "import warnings\n",
    "import descartes\n",
    "\n",
    "import numpy as np\n",
    "import pandas as pd\n",
    "import seaborn as sns\n",
    "import networkx as nx\n",
    "import datetime as DT\n",
    "\n",
    "\n",
    "from sklearn.metrics import confusion_matrix\n",
    "from termcolor import colored\n",
    "\n",
    "\n",
    "#import geopandas as gpd\n",
    "import matplotlib.pyplot as plt\n",
    "\n",
    "# SKLEARN.\n",
    "from sklearn.metrics import accuracy_score\n",
    "from sklearn.metrics import mean_squared_error\n",
    "from sklearn.model_selection import KFold\n",
    "from sklearn.model_selection import cross_val_score\n",
    "from sklearn.model_selection import train_test_split\n",
    "\n",
    "# RANDOM FOREST.\n",
    "from urllib.request import urlopen\n",
    "from shapely.geometry import Point, Polygon\n",
    "from sklearn.ensemble import RandomForestClassifier\n",
    "\n",
    "# XGBOOST.\n",
    "from xgboost import XGBClassifier\n",
    "import xgboost as xgb"
   ]
  },
  {
   "cell_type": "code",
   "execution_count": 104,
   "metadata": {},
   "outputs": [],
   "source": [
    "#NLTK: https://www.nltk.org\n",
    "from langdetect import detect\n",
    "from nltk.corpus import stopwords\n",
    "from nltk.probability import FreqDist\n",
    "from nltk.tokenize import TweetTokenizer\n",
    "from nltk.stem.wordnet import WordNetLemmatizer\n",
    "\n",
    "#WORDCLOUD\n",
    "from PIL import Image\n",
    "from wordcloud import WordCloud\n",
    "\n",
    "# CONFIGURACIÓN.\n",
    "%matplotlib inline\n",
    "plt.style.use('default')\n",
    "pd.options.display.float_format = '{:20,.2f}'.format\n",
    "warnings.filterwarnings('ignore')\n",
    "sns.set(style=\"whitegrid\") \n",
    "plt.rcParams['figure.figsize'] = (15, 10)\n",
    "np.set_printoptions(threshold=sys.maxsize)"
   ]
  },
  {
   "cell_type": "markdown",
   "metadata": {},
   "source": [
    "### =====================================================================\n",
    "### RANDOM FOREST.\n",
    "### ====================================================================="
   ]
  },
  {
   "cell_type": "code",
   "execution_count": 105,
   "metadata": {},
   "outputs": [],
   "source": [
    "#OBTENEMOS LOS CSVs YA PROCESADOS EN LA PRIMER ETAPA.\n",
    "original_train = pd.read_csv('data/processed/original_train.csv')\n",
    "original_test = pd.read_csv('data/processed/original_test.csv')\n",
    "original_sample_submission = pd.read_csv('data/sample_submission.csv')\n",
    "\n",
    "original_train = original_train.fillna(0)\n",
    "original_test = original_test.fillna(0)\n",
    "\n",
    "#MARCAMOS EL TAGET/LABEL A TRABAJAR EN TRAIN.\n",
    "original_train_label = np.array(original_train['target'])\n",
    "original_train_features = original_train.drop('target', axis = 1)\n",
    "original_train_features = original_train_features.drop('id', axis = 1)"
   ]
  },
  {
   "cell_type": "code",
   "execution_count": 106,
   "metadata": {},
   "outputs": [
    {
     "name": "stdout",
     "output_type": "stream",
     "text": [
      "<class 'pandas.core.frame.DataFrame'>\n",
      "RangeIndex: 7613 entries, 0 to 7612\n",
      "Columns: 245 entries, length to Positive\n",
      "dtypes: float64(3), int64(242)\n",
      "memory usage: 14.2 MB\n"
     ]
    }
   ],
   "source": [
    "original_train_features.info()"
   ]
  },
  {
   "cell_type": "code",
   "execution_count": 107,
   "metadata": {},
   "outputs": [],
   "source": [
    "\n",
    "#original_test.drop('mean_words_length', 1, inplace = True)\n",
    "#original_train.drop('mean_words_length', 1, inplace = True)"
   ]
  },
  {
   "cell_type": "code",
   "execution_count": 108,
   "metadata": {},
   "outputs": [],
   "source": [
    "X_train, X_test, Y_train, Y_test = train_test_split(original_train_features,original_train_label,test_size=0.2,random_state=123)"
   ]
  },
  {
   "cell_type": "code",
   "execution_count": 109,
   "metadata": {},
   "outputs": [
    {
     "name": "stdout",
     "output_type": "stream",
     "text": [
      "RMSE: 0.527634\n"
     ]
    }
   ],
   "source": [
    "rf_model = RandomForestClassifier(random_state=1)\n",
    "rf_model.fit(X_train,Y_train)\n",
    "preds = rf_model.predict(X_test)\n",
    "rmse = np.sqrt(mean_squared_error(Y_test,preds))\n",
    "print('RMSE: %f' % (rmse))"
   ]
  },
  {
   "cell_type": "code",
   "execution_count": 110,
   "metadata": {},
   "outputs": [
    {
     "name": "stdout",
     "output_type": "stream",
     "text": [
      "RMSE: 0.567215\n"
     ]
    }
   ],
   "source": [
    "rf_model = RandomForestClassifier(random_state=1,n_estimators=5)\n",
    "rf_model.fit(X_train,Y_train)\n",
    "preds = rf_model.predict(X_test)\n",
    "rmse = np.sqrt(mean_squared_error(Y_test,preds))\n",
    "print('RMSE: %f' % (rmse))"
   ]
  },
  {
   "cell_type": "code",
   "execution_count": 111,
   "metadata": {},
   "outputs": [
    {
     "name": "stdout",
     "output_type": "stream",
     "text": [
      "RMSE: 0.525140\n"
     ]
    }
   ],
   "source": [
    "rf_model = RandomForestClassifier(random_state=1,max_features=10)\n",
    "rf_model.fit(X_train,Y_train)\n",
    "preds = rf_model.predict(X_test)\n",
    "rmse = np.sqrt(mean_squared_error(Y_test,preds))\n",
    "print('RMSE: %f' % (rmse))"
   ]
  },
  {
   "cell_type": "code",
   "execution_count": 112,
   "metadata": {},
   "outputs": [
    {
     "name": "stdout",
     "output_type": "stream",
     "text": [
      "RMSE: 0.564314\n"
     ]
    }
   ],
   "source": [
    "rf_model = RandomForestClassifier(random_state=1,n_estimators=5,max_features=10)\n",
    "rf_model.fit(X_train,Y_train)\n",
    "preds = rf_model.predict(X_test)\n",
    "rmse = np.sqrt(mean_squared_error(Y_test,preds))\n",
    "print('RMSE: %f' % (rmse))"
   ]
  },
  {
   "cell_type": "code",
   "execution_count": 113,
   "metadata": {},
   "outputs": [
    {
     "name": "stdout",
     "output_type": "stream",
     "text": [
      "RMSE: 0.521375\n"
     ]
    }
   ],
   "source": [
    "rf_model = RandomForestClassifier(random_state=1,max_features=10,max_depth=50)\n",
    "rf_model.fit(X_train,Y_train)\n",
    "preds = rf_model.predict(X_test)\n",
    "rmse = np.sqrt(mean_squared_error(Y_test,preds))\n",
    "print('RMSE: %f' % (rmse))"
   ]
  },
  {
   "cell_type": "code",
   "execution_count": 114,
   "metadata": {},
   "outputs": [
    {
     "name": "stdout",
     "output_type": "stream",
     "text": [
      "RMSE: 0.515040\n"
     ]
    }
   ],
   "source": [
    "rf_model = RandomForestClassifier(n_jobs=2,random_state=1,max_features=5,max_depth=35, min_samples_split=2)\n",
    "rf_model.fit(X_train,Y_train)\n",
    "preds = rf_model.predict(X_test)\n",
    "rmse = np.sqrt(mean_squared_error(Y_test,preds))\n",
    "print('RMSE: %f' % (rmse))"
   ]
  },
  {
   "cell_type": "code",
   "execution_count": 115,
   "metadata": {},
   "outputs": [],
   "source": [
    "#OBTENEMOS LOS CSVs YA PROCESADOS EN LA PRIMER ETAPA.\n",
    "original_train = pd.read_csv('data/processed/original_train.csv')\n",
    "original_test = pd.read_csv('data/processed/original_test.csv')\n",
    "original_sample_submission = pd.read_csv('data/sample_submission.csv')\n",
    "#MARCAMOS EL TAGET/LABEL A TRABAJAR EN TRAIN.\n",
    "original_train_label = np.array(original_train['target'])\n",
    "original_train_features = original_train.drop('target', axis = 1)\n",
    "original_train_features = original_train_features.drop('id', axis = 1)\n",
    "original_test = original_test.drop('id', axis = 1)"
   ]
  },
  {
   "cell_type": "code",
   "execution_count": 116,
   "metadata": {},
   "outputs": [],
   "source": [
    "rf_model = RandomForestClassifier(n_jobs=2,random_state=1,max_features=5,max_depth=35, min_samples_split=2)\n",
    "rf_model.fit(original_train_features,original_train_label)\n",
    "preds = rf_model.predict(original_test)"
   ]
  },
  {
   "cell_type": "code",
   "execution_count": 117,
   "metadata": {},
   "outputs": [
    {
     "data": {
      "text/plain": [
       "array([0.04712753, 0.03773264, 0.079315  , 0.02101875, 0.02021939,\n",
       "       0.011536  , 0.00288516, 0.04740802, 0.02998734, 0.04885494,\n",
       "       0.03849676, 0.05902727, 0.03169587, 0.0237774 , 0.        ,\n",
       "       0.        , 0.04219795, 0.04304509, 0.0028862 , 0.03741282,\n",
       "       0.02669751, 0.00061959, 0.00190773, 0.00278825, 0.0024669 ,\n",
       "       0.00099968, 0.00111403, 0.00122627, 0.00092013, 0.00190569,\n",
       "       0.00115772, 0.0009924 , 0.00091216, 0.00170224, 0.00232044,\n",
       "       0.00136964, 0.00056473, 0.00075569, 0.00130965, 0.00098138,\n",
       "       0.00134693, 0.00106423, 0.00098648, 0.00178135, 0.00150331,\n",
       "       0.00176408, 0.00134793, 0.00114781, 0.00282128, 0.00106015,\n",
       "       0.00268362, 0.00122099, 0.00139628, 0.002928  , 0.00154637,\n",
       "       0.00174025, 0.0027346 , 0.00073669, 0.00121795, 0.00182101,\n",
       "       0.00177736, 0.00196693, 0.00082064, 0.00138408, 0.00169346,\n",
       "       0.00079827, 0.00098684, 0.00115585, 0.00095387, 0.00183761,\n",
       "       0.00110856, 0.00208435, 0.00093877, 0.00107561, 0.00119252,\n",
       "       0.00123111, 0.00120799, 0.00084974, 0.00116403, 0.00108503,\n",
       "       0.00077397, 0.00138435, 0.00148385, 0.00385442, 0.00184349,\n",
       "       0.00077438, 0.00109055, 0.00064786, 0.00105862, 0.00102176,\n",
       "       0.00270312, 0.00486784, 0.00089596, 0.00127677, 0.00110021,\n",
       "       0.00103988, 0.00124751, 0.00061291, 0.00089447, 0.00075087,\n",
       "       0.00194755, 0.00088581, 0.00144901, 0.00281704, 0.00088462,\n",
       "       0.00098283, 0.00092377, 0.00240012, 0.00250716, 0.00174735,\n",
       "       0.00099131, 0.00127536, 0.00140074, 0.00126041, 0.00101544,\n",
       "       0.00028758, 0.00193091, 0.00283164, 0.00160141, 0.00156493,\n",
       "       0.00085403, 0.00115807, 0.00093882, 0.00226314, 0.00125646,\n",
       "       0.00150868, 0.00091312, 0.00124166, 0.00157906, 0.0015207 ,\n",
       "       0.00063469, 0.00101056, 0.00112289, 0.00117051, 0.00165716,\n",
       "       0.00178822, 0.00150578, 0.0026488 , 0.00119287, 0.00235737,\n",
       "       0.00117478, 0.00136578, 0.00188151, 0.00202394, 0.00112077,\n",
       "       0.00089763, 0.0010711 , 0.00103156, 0.00063052, 0.00122455,\n",
       "       0.00217649, 0.00113873, 0.00101162, 0.00129766, 0.00099644,\n",
       "       0.00023294, 0.00087363, 0.00082579, 0.0010605 , 0.00057195,\n",
       "       0.00315048, 0.00143166, 0.00154416, 0.00123248, 0.00109949,\n",
       "       0.00114921, 0.00086041, 0.00145066, 0.00323194, 0.00114871,\n",
       "       0.00108939, 0.00093667, 0.00124159, 0.00504273, 0.0039854 ,\n",
       "       0.00116272, 0.0014096 , 0.00100432, 0.00129454, 0.00129269,\n",
       "       0.00073229, 0.00024722, 0.00100563, 0.0025201 , 0.00142319,\n",
       "       0.00056863, 0.00179944, 0.00366246, 0.001254  , 0.00180372,\n",
       "       0.00061045, 0.00130124, 0.00242458, 0.00144397, 0.00135838,\n",
       "       0.00122956, 0.00085051, 0.00208263, 0.00092469, 0.00174725,\n",
       "       0.00092416, 0.00096389, 0.0009175 , 0.00175614, 0.0014261 ,\n",
       "       0.0012783 , 0.00228789, 0.00340963, 0.00366472, 0.00099767,\n",
       "       0.00116869, 0.00091466, 0.00157048, 0.00120238, 0.00193014,\n",
       "       0.00017335, 0.00159419, 0.00194613, 0.00109605, 0.00129419,\n",
       "       0.00105663, 0.00075329, 0.00142779, 0.0009139 , 0.00083907,\n",
       "       0.0020238 , 0.00374513, 0.0020045 , 0.00319109, 0.00159559,\n",
       "       0.00141631, 0.00087422, 0.00106673, 0.00129322, 0.00143759,\n",
       "       0.00278076, 0.00291727, 0.00122909, 0.00105863, 0.00061551,\n",
       "       0.00159455, 0.00635143, 0.00161237, 0.00820354, 0.00927681])"
      ]
     },
     "execution_count": 117,
     "metadata": {},
     "output_type": "execute_result"
    }
   ],
   "source": [
    "rf_model.feature_importances_"
   ]
  },
  {
   "cell_type": "code",
   "execution_count": 118,
   "metadata": {},
   "outputs": [
    {
     "data": {
      "text/plain": [
       "<matplotlib.axes._subplots.AxesSubplot at 0x7f350567eb20>"
      ]
     },
     "execution_count": 118,
     "metadata": {},
     "output_type": "execute_result"
    },
    {
     "data": {
      "image/png": "[encoded data removed]",
      "text/plain": [
       "<Figure size 1500x1000 with 1 Axes>"
      ]
     },
     "metadata": {},
     "output_type": "display_data"
    }
   ],
   "source": [
    "feat_importances = pd.Series(rf_model.feature_importances_, index=original_train_features.columns)\n",
    "feat_importances.nlargest(10).plot(kind='barh')"
   ]
  },
  {
   "cell_type": "code",
   "execution_count": 119,
   "metadata": {},
   "outputs": [
    {
     "data": {
      "text/plain": [
       "array([0, 1, 1, 1, 1, 0, 1, 0, 0, 0, 0, 0, 0, 0, 0, 1, 0, 1, 0, 0, 0, 0,\n",
       "       0, 1, 0, 0, 0, 1, 1, 1, 0, 0, 1, 0, 0, 1, 1, 0, 0, 1, 0, 1, 0, 0,\n",
       "       0, 0, 0, 0, 0, 0, 0, 0, 0, 0, 0, 0, 0, 0, 0, 0, 0, 0, 1, 0, 1, 1,\n",
       "       0, 1, 0, 0, 0, 1, 1, 1, 1, 1, 0, 0, 0, 1, 0, 1, 0, 0, 1, 0, 0, 1,\n",
       "       1, 1, 0, 0, 0, 0, 0, 0, 0, 0, 1, 0, 0, 0, 0, 0, 0, 0, 0, 0, 0, 0,\n",
       "       0, 0, 1, 0, 0, 0, 0, 0, 0, 0, 0, 0, 0, 0, 0, 0, 0, 0, 0, 0, 0, 0,\n",
       "       0, 0, 0, 0, 1, 1, 0, 0, 0, 0, 0, 0, 0, 0, 0, 0, 0, 0, 0, 0, 0, 0,\n",
       "       0, 0, 0, 1, 0, 0, 0, 0, 0, 0, 0, 0, 1, 1, 1, 1, 1, 1, 1, 0, 1, 1,\n",
       "       1, 0, 1, 0, 1, 1, 0, 1, 0, 1, 0, 0, 1, 1, 0, 1, 1, 0, 0, 0, 1, 0,\n",
       "       0, 1, 1, 0, 1, 0, 1, 0, 1, 1, 1, 0, 0, 1, 1, 1, 1, 1, 1, 1, 1, 1,\n",
       "       1, 1, 0, 1, 0, 1, 0, 1, 0, 0, 1, 0, 0, 0, 0, 0, 0, 0, 0, 0, 0, 0,\n",
       "       1, 0, 0, 0, 0, 1, 0, 1, 0, 0, 1, 0, 0, 0, 0, 1, 1, 1, 1, 1, 1, 1,\n",
       "       0, 1, 0, 1, 1, 1, 1, 1, 1, 1, 1, 0, 1, 1, 0, 1, 0, 1, 0, 1, 1, 0,\n",
       "       0, 0, 0, 0, 0, 0, 0, 1, 0, 0, 0, 0, 1, 0, 0, 0, 0, 0, 0, 0, 0, 0,\n",
       "       0, 0, 1, 0, 1, 0, 0, 0, 1, 0, 0, 0, 0, 0, 0, 0, 0, 0, 0, 0, 0, 0,\n",
       "       0, 0, 0, 0, 0, 0, 0, 0, 0, 0, 0, 0, 0, 0, 0, 0, 0, 0, 0, 0, 0, 0,\n",
       "       1, 0, 0, 0, 0, 0, 0, 0, 0, 0, 0, 0, 1, 0, 0, 0, 0, 0, 0, 0, 0, 0,\n",
       "       1, 0, 0, 0, 0, 0, 0, 0, 0, 0, 0, 0, 0, 0, 0, 0, 0, 0, 0, 0, 0, 0,\n",
       "       0, 0, 0, 0, 0, 0, 0, 0, 0, 0, 0, 0, 0, 0, 0, 0, 0, 0, 0, 0, 0, 0,\n",
       "       0, 0, 0, 0, 0, 0, 0, 0, 0, 0, 0, 0, 0, 0, 0, 0, 0, 0, 0, 0, 0, 0,\n",
       "       0, 0, 0, 0, 0, 0, 0, 0, 0, 0, 0, 0, 0, 0, 0, 0, 0, 0, 0, 0, 0, 0,\n",
       "       0, 0, 0, 0, 0, 0, 0, 0, 0, 1, 0, 0, 0, 0, 0, 0, 1, 0, 0, 0, 0, 1,\n",
       "       0, 0, 1, 0, 0, 1, 0, 0, 1, 0, 0, 1, 0, 0, 0, 0, 1, 1, 1, 1, 1, 1,\n",
       "       1, 1, 1, 1, 1, 1, 1, 1, 1, 1, 1, 1, 1, 0, 0, 1, 1, 1, 1, 1, 0, 0,\n",
       "       0, 1, 0, 0, 0, 0, 0, 1, 1, 1, 1, 1, 0, 1, 1, 0, 0, 1, 0, 0, 1, 1,\n",
       "       1, 1, 0, 1, 1, 0, 1, 1, 1, 0, 0, 0, 1, 0, 1, 1, 0, 0, 0, 0, 0, 0,\n",
       "       0, 0, 0, 1, 0, 1, 0, 0, 0, 0, 0, 0, 0, 0, 0, 0, 0, 0, 1, 0, 1, 0,\n",
       "       1, 0, 0, 0, 1, 0, 0, 1, 0, 0, 1, 1, 0, 1, 1, 0, 1, 0, 1, 0, 0, 1,\n",
       "       1, 0, 0, 1, 0, 1, 1, 1, 0, 1, 1, 0, 1, 1, 0, 1, 0, 1, 0, 0, 0, 0,\n",
       "       0, 0, 0, 0, 1, 0, 0, 0, 0, 0, 0, 0, 0, 0, 0, 0, 0, 0, 0, 0, 0, 0,\n",
       "       1, 0, 0, 1, 0, 1, 0, 1, 1, 0, 0, 0, 0, 0, 0, 0, 0, 0, 0, 1, 0, 0,\n",
       "       0, 1, 0, 0, 0, 0, 1, 0, 0, 0, 1, 1, 0, 1, 0, 0, 0, 0, 1, 0, 0, 0,\n",
       "       0, 0, 0, 0, 0, 1, 0, 1, 0, 0, 0, 0, 0, 0, 0, 0, 0, 0, 1, 1, 0, 0,\n",
       "       0, 0, 0, 0, 0, 1, 1, 1, 0, 0, 0, 1, 0, 0, 0, 0, 0, 0, 0, 0, 0, 0,\n",
       "       0, 0, 0, 0, 0, 0, 0, 0, 0, 0, 0, 0, 0, 1, 1, 0, 0, 0, 1, 1, 1, 1,\n",
       "       0, 0, 1, 0, 0, 0, 1, 1, 0, 0, 0, 0, 1, 0, 1, 0, 0, 1, 0, 1, 1, 0,\n",
       "       0, 0, 0, 0, 0, 0, 1, 0, 0, 1, 1, 0, 1, 1, 1, 0, 0, 0, 0, 0, 0, 0,\n",
       "       0, 0, 0, 0, 0, 0, 0, 0, 0, 0, 0, 0, 0, 0, 0, 0, 0, 0, 0, 0, 0, 0,\n",
       "       0, 0, 0, 0, 0, 1, 0, 0, 0, 0, 0, 0, 0, 0, 0, 0, 0, 0, 0, 0, 1, 0,\n",
       "       0, 1, 0, 0, 1, 0, 0, 1, 1, 1, 1, 1, 1, 0, 0, 1, 0, 0, 0, 0, 0, 0,\n",
       "       0, 0, 0, 0, 0, 0, 0, 0, 0, 0, 0, 0, 0, 0, 0, 0, 0, 0, 0, 0, 0, 0,\n",
       "       0, 0, 0, 0, 0, 0, 1, 0, 0, 0, 0, 0, 0, 0, 0, 1, 0, 0, 0, 1, 0, 0,\n",
       "       1, 0, 0, 0, 0, 0, 0, 0, 1, 0, 0, 0, 1, 0, 0, 0, 0, 1, 1, 1, 1, 1,\n",
       "       1, 1, 0, 1, 1, 1, 1, 0, 0, 0, 0, 0, 0, 0, 0, 0, 0, 1, 0, 0, 1, 0,\n",
       "       0, 0, 0, 0, 0, 0, 0, 0, 0, 0, 0, 0, 0, 1, 1, 0, 0, 1, 1, 0, 0, 0,\n",
       "       0, 0, 0, 0, 0, 0, 0, 0, 0, 0, 0, 1, 0, 0, 0, 0, 0, 0, 1, 0, 0, 0,\n",
       "       1, 0, 0, 0, 0, 0, 0, 0, 0, 0, 0, 0, 1, 0, 0, 1, 0, 0, 1, 0, 1, 0,\n",
       "       0, 0, 1, 0, 0, 0, 0, 1, 0, 0, 1, 0, 0, 0, 1, 1, 0, 1, 1, 1, 1, 0,\n",
       "       1, 1, 1, 1, 0, 1, 1, 1, 1, 1, 1, 1, 1, 1, 1, 1, 1, 0, 1, 0, 0, 0,\n",
       "       0, 0, 0, 1, 0, 0, 0, 0, 0, 0, 0, 0, 0, 0, 0, 0, 0, 0, 0, 0, 0, 0,\n",
       "       1, 0, 0, 1, 0, 0, 1, 0, 0, 0, 0, 0, 0, 0, 1, 0, 0, 0, 0, 1, 1, 0,\n",
       "       0, 0, 1, 0, 0, 0, 1, 1, 0, 0, 0, 0, 0, 0, 0, 1, 0, 0, 0, 0, 0, 0,\n",
       "       0, 0, 1, 1, 0, 0, 0, 0, 0, 0, 0, 0, 0, 0, 0, 0, 0, 0, 0, 0, 0, 1,\n",
       "       0, 0, 0, 0, 0, 0, 0, 0, 0, 0, 0, 0, 0, 0, 0, 0, 0, 0, 1, 0, 0, 1,\n",
       "       0, 1, 0, 1, 0, 0, 0, 1, 0, 0, 0, 0, 0, 0, 0, 0, 1, 1, 0, 1, 0, 1,\n",
       "       0, 0, 0, 1, 1, 1, 1, 0, 0, 0, 0, 0, 0, 0, 0, 0, 0, 0, 1, 1, 0, 1,\n",
       "       1, 1, 1, 1, 1, 1, 0, 0, 0, 1, 0, 1, 1, 0, 1, 0, 0, 1, 1, 0, 1, 1,\n",
       "       0, 0, 1, 1, 1, 1, 0, 0, 0, 0, 0, 0, 0, 0, 0, 0, 0, 0, 0, 0, 0, 0,\n",
       "       0, 0, 0, 1, 1, 1, 1, 0, 1, 0, 0, 0, 1, 0, 0, 0, 0, 1, 0, 0, 0, 0,\n",
       "       0, 0, 0, 0, 0, 0, 0, 0, 1, 1, 1, 0, 0, 1, 0, 0, 0, 1, 1, 1, 1, 0,\n",
       "       0, 1, 0, 0, 1, 1, 1, 1, 1, 1, 1, 0, 0, 0, 0, 0, 0, 0, 0, 0, 0, 0,\n",
       "       0, 0, 0, 0, 1, 0, 0, 0, 0, 0, 1, 0, 0, 1, 0, 0, 0, 0, 0, 0, 0, 1,\n",
       "       0, 0, 1, 1, 0, 0, 0, 0, 1, 1, 0, 0, 0, 0, 0, 0, 1, 0, 1, 1, 0, 1,\n",
       "       0, 0, 0, 1, 1, 1, 1, 1, 0, 0, 0, 0, 0, 1, 0, 0, 0, 1, 0, 0, 1, 0,\n",
       "       0, 0, 0, 0, 0, 0, 0, 1, 0, 0, 0, 0, 0, 0, 1, 1, 0, 0, 0, 1, 0, 1,\n",
       "       0, 1, 1, 0, 0, 1, 0, 0, 1, 1, 1, 1, 1, 1, 1, 1, 1, 0, 1, 1, 0, 0,\n",
       "       1, 1, 1, 0, 0, 1, 1, 1, 1, 0, 1, 1, 0, 0, 0, 1, 0, 0, 0, 0, 0, 0,\n",
       "       0, 0, 0, 0, 1, 0, 1, 0, 0, 0, 1, 1, 0, 0, 0, 0, 0, 0, 0, 1, 1, 0,\n",
       "       0, 0, 1, 0, 0, 1, 0, 1, 0, 1, 0, 1, 0, 0, 0, 0, 0, 0, 0, 1, 1, 0,\n",
       "       0, 1, 0, 0, 1, 1, 1, 1, 1, 0, 0, 0, 0, 1, 1, 1, 1, 0, 1, 1, 1, 0,\n",
       "       0, 0, 1, 1, 1, 0, 0, 1, 1, 0, 0, 1, 0, 0, 0, 0, 1, 1, 0, 0, 1, 0,\n",
       "       0, 0, 0, 1, 0, 0, 0, 0, 1, 0, 0, 0, 0, 0, 0, 0, 1, 0, 0, 0, 0, 0,\n",
       "       0, 1, 1, 0, 1, 0, 1, 1, 0, 0, 0, 1, 0, 1, 1, 0, 1, 0, 0, 0, 0, 0,\n",
       "       0, 0, 1, 0, 1, 1, 0, 0, 0, 1, 0, 1, 0, 0, 0, 1, 1, 0, 0, 0, 0, 0,\n",
       "       0, 0, 0, 0, 0, 0, 0, 0, 0, 0, 0, 0, 0, 0, 0, 0, 0, 0, 0, 0, 0, 0,\n",
       "       0, 0, 0, 1, 1, 0, 0, 0, 0, 0, 0, 1, 0, 0, 0, 0, 1, 0, 0, 0, 0, 0,\n",
       "       0, 1, 0, 1, 0, 1, 1, 1, 0, 0, 0, 1, 1, 1, 1, 0, 1, 0, 1, 1, 0, 1,\n",
       "       1, 0, 1, 0, 1, 0, 1, 0, 0, 0, 1, 1, 1, 1, 0, 1, 1, 0, 1, 1, 0, 0,\n",
       "       1, 0, 0, 1, 1, 0, 0, 1, 1, 0, 0, 1, 0, 0, 1, 1, 0, 0, 0, 0, 1, 1,\n",
       "       1, 1, 0, 1, 1, 1, 0, 1, 0, 0, 0, 0, 0, 0, 0, 0, 0, 0, 0, 0, 0, 0,\n",
       "       0, 1, 0, 0, 0, 0, 0, 1, 0, 0, 0, 0, 1, 0, 1, 1, 1, 1, 1, 0, 0, 1,\n",
       "       0, 0, 1, 1, 0, 1, 0, 0, 0, 0, 0, 1, 1, 0, 1, 1, 0, 0, 0, 0, 1, 0,\n",
       "       0, 0, 0, 0, 0, 1, 0, 0, 0, 0, 0, 0, 1, 0, 0, 1, 1, 1, 0, 0, 0, 0,\n",
       "       0, 0, 0, 0, 0, 0, 0, 0, 1, 0, 0, 0, 0, 0, 1, 1, 1, 1, 0, 0, 1, 1,\n",
       "       1, 0, 0, 0, 0, 0, 1, 1, 0, 0, 0, 0, 0, 0, 0, 0, 0, 0, 1, 0, 1, 0,\n",
       "       1, 1, 1, 1, 0, 1, 0, 0, 0, 0, 0, 0, 1, 0, 1, 1, 1, 0, 1, 1, 0, 1,\n",
       "       1, 1, 0, 1, 1, 0, 0, 0, 0, 0, 1, 0, 0, 0, 0, 0, 1, 0, 1, 0, 1, 0,\n",
       "       1, 1, 0, 1, 1, 0, 1, 1, 1, 0, 0, 0, 0, 0, 0, 0, 0, 1, 1, 0, 0, 1,\n",
       "       0, 0, 1, 0, 0, 1, 1, 0, 0, 0, 0, 0, 0, 1, 0, 0, 0, 1, 0, 0, 0, 0,\n",
       "       0, 0, 0, 0, 1, 0, 0, 1, 0, 1, 0, 1, 0, 0, 0, 1, 0, 0, 1, 0, 1, 0,\n",
       "       0, 0, 0, 0, 0, 0, 1, 0, 0, 0, 0, 0, 0, 0, 0, 0, 0, 0, 1, 0, 0, 0,\n",
       "       1, 0, 1, 1, 1, 1, 0, 0, 0, 0, 1, 1, 0, 0, 1, 1, 0, 1, 1, 0, 0, 0,\n",
       "       0, 0, 0, 0, 0, 0, 0, 0, 0, 0, 0, 1, 0, 1, 0, 0, 0, 0, 1, 1, 0, 1,\n",
       "       0, 1, 1, 1, 1, 0, 0, 0, 1, 0, 1, 0, 0, 0, 0, 0, 0, 0, 0, 0, 0, 0,\n",
       "       1, 1, 0, 1, 0, 1, 1, 0, 1, 0, 1, 0, 1, 0, 0, 0, 0, 0, 0, 1, 0, 0,\n",
       "       0, 0, 0, 0, 0, 0, 0, 0, 0, 0, 0, 0, 0, 0, 0, 1, 0, 0, 0, 0, 0, 0,\n",
       "       0, 0, 0, 0, 0, 0, 0, 0, 0, 0, 0, 0, 0, 0, 0, 0, 0, 0, 0, 0, 0, 1,\n",
       "       0, 0, 0, 0, 0, 0, 1, 0, 0, 0, 0, 0, 0, 0, 1, 1, 1, 1, 0, 0, 1, 0,\n",
       "       1, 0, 0, 0, 0, 1, 0, 1, 1, 1, 1, 1, 1, 1, 1, 1, 1, 1, 1, 1, 1, 1,\n",
       "       1, 0, 1, 0, 0, 0, 1, 1, 1, 0, 0, 0, 1, 0, 0, 1, 0, 0, 0, 0, 0, 0,\n",
       "       0, 0, 1, 0, 0, 0, 0, 0, 0, 0, 0, 1, 0, 0, 0, 0, 0, 0, 0, 0, 0, 0,\n",
       "       0, 0, 0, 1, 0, 0, 0, 1, 0, 0, 0, 0, 1, 0, 0, 0, 0, 0, 1, 0, 0, 0,\n",
       "       0, 0, 0, 0, 0, 0, 0, 1, 0, 1, 1, 1, 1, 0, 0, 1, 1, 0, 1, 1, 1, 1,\n",
       "       1, 1, 1, 1, 1, 1, 1, 1, 1, 0, 0, 1, 0, 1, 0, 1, 0, 0, 1, 1, 0, 0,\n",
       "       0, 1, 0, 1, 0, 0, 0, 0, 0, 0, 0, 0, 0, 1, 0, 0, 0, 1, 0, 0, 1, 0,\n",
       "       0, 0, 0, 0, 0, 0, 0, 0, 1, 0, 1, 1, 0, 0, 1, 1, 0, 1, 1, 0, 0, 0,\n",
       "       0, 0, 0, 0, 0, 0, 0, 0, 1, 0, 0, 0, 0, 0, 0, 1, 1, 1, 0, 0, 0, 0,\n",
       "       1, 0, 0, 0, 1, 0, 0, 1, 1, 1, 0, 0, 0, 0, 1, 1, 0, 1, 1, 1, 0, 0,\n",
       "       1, 0, 0, 0, 0, 1, 1, 0, 0, 1, 0, 1, 1, 1, 1, 1, 0, 1, 1, 1, 1, 0,\n",
       "       0, 0, 0, 0, 1, 0, 1, 1, 0, 1, 1, 0, 0, 1, 0, 0, 0, 1, 0, 0, 0, 0,\n",
       "       1, 0, 0, 1, 0, 0, 1, 0, 1, 1, 1, 1, 1, 0, 1, 0, 1, 1, 1, 1, 0, 0,\n",
       "       1, 1, 1, 1, 1, 1, 1, 0, 1, 0, 0, 0, 0, 0, 0, 0, 0, 0, 0, 0, 0, 0,\n",
       "       0, 1, 1, 0, 1, 0, 1, 0, 1, 0, 1, 0, 0, 0, 0, 0, 0, 0, 0, 0, 0, 0,\n",
       "       1, 0, 0, 0, 0, 0, 0, 0, 0, 0, 0, 0, 1, 0, 1, 1, 0, 0, 0, 0, 0, 0,\n",
       "       0, 0, 0, 0, 0, 0, 0, 0, 0, 1, 1, 0, 1, 1, 1, 1, 0, 1, 1, 1, 1, 0,\n",
       "       0, 0, 0, 0, 0, 0, 0, 0, 0, 0, 0, 0, 0, 0, 0, 0, 1, 0, 0, 0, 0, 0,\n",
       "       0, 0, 0, 0, 0, 0, 0, 0, 0, 0, 0, 0, 0, 0, 0, 0, 0, 0, 0, 0, 0, 0,\n",
       "       0, 0, 0, 1, 0, 0, 0, 0, 0, 0, 1, 0, 0, 0, 0, 1, 1, 0, 0, 0, 1, 1,\n",
       "       1, 1, 1, 1, 0, 1, 0, 1, 1, 0, 1, 0, 0, 0, 0, 0, 0, 0, 0, 0, 0, 0,\n",
       "       0, 0, 0, 0, 0, 0, 0, 0, 0, 0, 0, 1, 0, 0, 0, 0, 0, 0, 0, 0, 0, 0,\n",
       "       0, 0, 0, 0, 0, 0, 0, 0, 0, 0, 0, 0, 0, 0, 0, 0, 0, 0, 0, 0, 0, 0,\n",
       "       0, 0, 0, 1, 0, 1, 1, 0, 1, 0, 1, 0, 0, 0, 1, 1, 1, 0, 0, 0, 0, 0,\n",
       "       0, 0, 0, 0, 1, 0, 0, 0, 0, 1, 0, 0, 0, 0, 0, 0, 0, 0, 0, 1, 0, 0,\n",
       "       0, 0, 0, 0, 1, 0, 0, 1, 1, 0, 1, 1, 1, 1, 1, 0, 0, 1, 1, 0, 1, 0,\n",
       "       0, 1, 0, 1, 1, 1, 1, 1, 1, 1, 1, 1, 1, 1, 1, 1, 1, 1, 1, 1, 1, 1,\n",
       "       1, 1, 1, 1, 1, 0, 1, 1, 1, 1, 1, 1, 1, 1, 1, 0, 0, 1, 1, 1, 1, 1,\n",
       "       1, 1, 1, 1, 1, 1, 1, 1, 1, 1, 0, 0, 1, 0, 0, 0, 0, 0, 0, 0, 0, 0,\n",
       "       0, 0, 1, 0, 0, 0, 1, 0, 0, 0, 0, 0, 0, 1, 0, 0, 0, 1, 0, 0, 1, 0,\n",
       "       0, 0, 0, 0, 1, 0, 0, 0, 0, 0, 0, 1, 0, 0, 1, 0, 0, 0, 1, 0, 1, 0,\n",
       "       0, 0, 1, 0, 1, 0, 0, 0, 1, 0, 1, 0, 1, 0, 0, 1, 0, 1, 0, 0, 1, 0,\n",
       "       1, 0, 1, 1, 1, 1, 1, 1, 0, 1, 1, 0, 1, 0, 0, 1, 1, 1, 0, 1, 1, 0,\n",
       "       1, 0, 1, 0, 1, 0, 0, 0, 0, 0, 0, 0, 0, 0, 0, 0, 0, 0, 1, 1, 1, 1,\n",
       "       1, 0, 1, 1, 0, 1, 1, 1, 1, 0, 1, 1, 1, 0, 1, 0, 0, 1, 1, 0, 1, 0,\n",
       "       0, 0, 0, 0, 0, 0, 1, 0, 1, 1, 0, 0, 0, 0, 1, 1, 0, 1, 0, 1, 0, 0,\n",
       "       0, 0, 0, 0, 0, 0, 0, 0, 0, 1, 1, 0, 0, 0, 0, 0, 0, 0, 1, 0, 1, 0,\n",
       "       1, 1, 1, 0, 0, 0, 1, 0, 1, 1, 1, 1, 1, 0, 0, 0, 1, 0, 0, 0, 0, 0,\n",
       "       0, 0, 1, 0, 0, 0, 0, 0, 0, 0, 0, 0, 0, 0, 0, 0, 0, 0, 0, 0, 0, 0,\n",
       "       0, 0, 0, 0, 0, 0, 1, 1, 0, 0, 0, 0, 0, 1, 0, 0, 1, 0, 0, 0, 0, 0,\n",
       "       0, 0, 0, 0, 0, 1, 1, 1, 1, 1, 1, 1, 1, 1, 1, 1, 1, 0, 0, 0, 0, 0,\n",
       "       0, 0, 0, 0, 0, 0, 1, 1, 1, 0, 1, 1, 1, 0, 1, 0, 1, 1, 0, 0, 1, 1,\n",
       "       1, 1, 0, 1, 1, 0, 0, 1, 0, 0, 1, 1, 0, 1, 0, 0, 0, 0, 0, 0, 0, 0,\n",
       "       0, 0, 1, 0, 0, 0, 0, 0, 0, 0, 0, 0, 0, 1, 1, 0, 0, 0, 0, 0, 0, 0,\n",
       "       0, 0, 0, 0, 1, 1, 0, 0, 0, 1, 1, 0, 0, 1, 0, 1, 0, 1, 0, 0, 0, 0,\n",
       "       1, 1, 1, 0, 1, 0, 0, 0, 1, 0, 0, 0, 1, 1, 1, 1, 1, 0, 0, 1, 0, 1,\n",
       "       1, 0, 1, 1, 1, 1, 1, 1, 1, 1, 0, 0, 0, 0, 0, 0, 0, 1, 0, 1, 1, 1,\n",
       "       0, 1, 1, 0, 0, 1, 0, 1, 0, 1, 0, 0, 0, 1, 0, 1, 0, 0, 1, 1, 0, 1,\n",
       "       0, 0, 0, 0, 0, 0, 0, 0, 0, 0, 0, 1, 0, 0, 0, 0, 0, 0, 1, 1, 1, 1,\n",
       "       1, 1, 1, 1, 1, 1, 1, 0, 0, 0, 0, 0, 0, 0, 0, 0, 0, 0, 1, 1, 1, 1,\n",
       "       0, 1, 1, 1, 0, 1, 1])"
      ]
     },
     "execution_count": 119,
     "metadata": {},
     "output_type": "execute_result"
    }
   ],
   "source": [
    "preds"
   ]
  },
  {
   "cell_type": "code",
   "execution_count": 120,
   "metadata": {},
   "outputs": [
    {
     "data": {
      "text/html": [
       "<div>\n",
       "<style scoped>\n",
       "    .dataframe tbody tr th:only-of-type {\n",
       "        vertical-align: middle;\n",
       "    }\n",
       "\n",
       "    .dataframe tbody tr th {\n",
       "        vertical-align: top;\n",
       "    }\n",
       "\n",
       "    .dataframe thead th {\n",
       "        text-align: right;\n",
       "    }\n",
       "</style>\n",
       "<table border=\"1\" class=\"dataframe\">\n",
       "  <thead>\n",
       "    <tr style=\"text-align: right;\">\n",
       "      <th></th>\n",
       "      <th>id</th>\n",
       "      <th>target</th>\n",
       "    </tr>\n",
       "  </thead>\n",
       "  <tbody>\n",
       "    <tr>\n",
       "      <th>0</th>\n",
       "      <td>0</td>\n",
       "      <td>0</td>\n",
       "    </tr>\n",
       "    <tr>\n",
       "      <th>1</th>\n",
       "      <td>2</td>\n",
       "      <td>1</td>\n",
       "    </tr>\n",
       "    <tr>\n",
       "      <th>2</th>\n",
       "      <td>3</td>\n",
       "      <td>1</td>\n",
       "    </tr>\n",
       "    <tr>\n",
       "      <th>3</th>\n",
       "      <td>9</td>\n",
       "      <td>1</td>\n",
       "    </tr>\n",
       "    <tr>\n",
       "      <th>4</th>\n",
       "      <td>11</td>\n",
       "      <td>1</td>\n",
       "    </tr>\n",
       "    <tr>\n",
       "      <th>...</th>\n",
       "      <td>...</td>\n",
       "      <td>...</td>\n",
       "    </tr>\n",
       "    <tr>\n",
       "      <th>3258</th>\n",
       "      <td>10861</td>\n",
       "      <td>1</td>\n",
       "    </tr>\n",
       "    <tr>\n",
       "      <th>3259</th>\n",
       "      <td>10865</td>\n",
       "      <td>1</td>\n",
       "    </tr>\n",
       "    <tr>\n",
       "      <th>3260</th>\n",
       "      <td>10868</td>\n",
       "      <td>0</td>\n",
       "    </tr>\n",
       "    <tr>\n",
       "      <th>3261</th>\n",
       "      <td>10874</td>\n",
       "      <td>1</td>\n",
       "    </tr>\n",
       "    <tr>\n",
       "      <th>3262</th>\n",
       "      <td>10875</td>\n",
       "      <td>1</td>\n",
       "    </tr>\n",
       "  </tbody>\n",
       "</table>\n",
       "<p>3263 rows × 2 columns</p>\n",
       "</div>"
      ],
      "text/plain": [
       "         id  target\n",
       "0         0       0\n",
       "1         2       1\n",
       "2         3       1\n",
       "3         9       1\n",
       "4        11       1\n",
       "...     ...     ...\n",
       "3258  10861       1\n",
       "3259  10865       1\n",
       "3260  10868       0\n",
       "3261  10874       1\n",
       "3262  10875       1\n",
       "\n",
       "[3263 rows x 2 columns]"
      ]
     },
     "execution_count": 120,
     "metadata": {},
     "output_type": "execute_result"
    }
   ],
   "source": [
    "\n",
    "original_test = pd.read_csv('data/processed/original_test.csv')\n",
    "kaggle_submission = pd.DataFrame(original_test,columns = ['id'])\n",
    "kaggle_submission[\"target\"] = preds\n",
    "kaggle_submission"
   ]
  },
  {
   "cell_type": "code",
   "execution_count": 121,
   "metadata": {},
   "outputs": [],
   "source": [
    "kaggle_submission.to_csv('data/submits/submission_RF_12.csv',index=False) \n",
    "#RESULTADO: 0.74"
   ]
  },
  {
   "cell_type": "code",
   "execution_count": 122,
   "metadata": {},
   "outputs": [],
   "source": [
    "#==============================================================================\n",
    "#=========== GRID SEARCH HYPER PARÁMETROS.\n",
    "#==============================================================================\n",
    "\n",
    "#OBTENEMOS LOS CSVs YA PROCESADOS EN LA PRIMER ETAPA.\n",
    "#original_train = pd.read_csv('data/processed/original_train.csv')\n",
    "#original_test = pd.read_csv('data/processed/original_test.csv')\n",
    "#original_sample_submission = pd.read_csv('data/sample_submission.csv')\n",
    "#MARCAMOS EL TAGET/LABEL A TRABAJAR EN TRAIN.\n",
    "#original_train_label = np.array(original_train['target'])\n",
    "#original_train_features = original_train.drop('target', axis = 1)\n",
    "#original_train_features = original_train_features.drop('id', axis = 1)\n",
    "#original_test = original_test.drop('id', axis = 1)"
   ]
  },
  {
   "cell_type": "code",
   "execution_count": 123,
   "metadata": {},
   "outputs": [],
   "source": [
    "#from sklearn.model_selection import GridSearchCV\n",
    "# Create the parameter grid based on the results of random search \n",
    "#param_grid = {\n",
    "#    'bootstrap': [True],\n",
    "#    'max_depth': [80, 90, 100, 110],\n",
    "#    'max_features': [2, 3],\n",
    "#    'min_samples_leaf': [3, 4, 5],\n",
    "#    'min_samples_split': [8, 10, 12],\n",
    "#    'n_estimators': [100, 200, 300, 1000]\n",
    "#}# Create a based model\n",
    "#rf = RandomForestClassifier() # Instantiate the grid search model\n",
    "#grid_search = GridSearchCV(estimator = rf, param_grid = param_grid, cv = 3, n_jobs = -1, verbose = 2)\n",
    "# Fit the grid search to the data\n",
    "#grid_search.fit(original_train_features, original_train_label)\n",
    "#best_grid = grid_search.best_estimator_\n",
    "#grid_accuracy = evaluate(best_grid, test_features, test_labels)\n",
    "\n",
    "#==============================================================\n",
    "# TIEMPO APROXIMADO 1 HORA.\n",
    "#=============================================================="
   ]
  },
  {
   "cell_type": "code",
   "execution_count": 124,
   "metadata": {},
   "outputs": [],
   "source": [
    "#================================================================\n",
    "#================ RESULTADO DE LA BÚSQUEDA.\n",
    "#================================================================\n",
    "#grid_search.best_params_"
   ]
  },
  {
   "cell_type": "markdown",
   "metadata": {},
   "source": [
    "### =====================================================================\n",
    "### FIN DEL RANDOM FOREST.\n",
    "### ====================================================================="
   ]
  },
  {
   "cell_type": "code",
   "execution_count": 125,
   "metadata": {},
   "outputs": [],
   "source": [
    "original_train = ''\n",
    "original_test = ''\n",
    "original_sample_submission = ''"
   ]
  },
  {
   "cell_type": "markdown",
   "metadata": {},
   "source": [
    "### =====================================================================\n",
    "### XGBOOST.\n",
    "### ====================================================================="
   ]
  },
  {
   "cell_type": "code",
   "execution_count": 126,
   "metadata": {},
   "outputs": [],
   "source": [
    "#OBTENEMOS LOS CSVs YA PROCESADOS EN LA PRIMER ETAPA.\n",
    "original_train = pd.read_csv('data/processed/original_train.csv')\n",
    "original_test = pd.read_csv('data/processed/original_test.csv')\n",
    "original_sample_submission = pd.read_csv('data/sample_submission.csv')"
   ]
  },
  {
   "cell_type": "code",
   "execution_count": 127,
   "metadata": {},
   "outputs": [],
   "source": [
    "# Resto de los labels.\n",
    "Y = np.array(original_train['target'])\n",
    "X = original_train.drop('target', axis = 1)\n",
    "X = X.drop('id', axis = 1)\n",
    "original_test = original_test.drop('id', axis = 1)"
   ]
  },
  {
   "cell_type": "code",
   "execution_count": 128,
   "metadata": {},
   "outputs": [],
   "source": [
    "#===================================================================\n",
    "#======================== GRID RANDOM SEARCH.\n",
    "#===================================================================\n",
    "#model = XGBClassifier()\n",
    "\n",
    "#param_grid = {\n",
    "#        'max_depth': [3, 4, 5, 6, 7, 8, 9, 10, 11, 12],\n",
    "#        'min_child_weight': np.arange(0.0001, 0.5, 0.001),\n",
    "#        'gamma': np.arange(0.0,40.0,0.005),\n",
    "#        'learning_rate': np.arange(0.0005,0.3,0.0005),\n",
    "#        'subsample': np.arange(0.01,1.0,0.01),\n",
    "#        'colsample_bylevel': np.round(np.arange(0.1,1.0,0.01)),\n",
    "#        'colsample_bytree': np.arange(0.1,1.0,0.01)\n",
    "#}\n",
    "\n",
    "#kfold = KFold(n_splits=10, shuffle=True, random_state=10)\n",
    "#grid_search = RandomizedSearchCV(model, param_grid, scoring=\"accuracy\", n_iter = 500, cv=kfold)\n",
    "#grid_result = grid_search.fit(X,Y)\n",
    "\n",
    "# summarize results\n",
    "#print(\"Best: %f using %s\" % (grid_result.best_score_, grid_result.best_params_))\n",
    "#means = grid_result.cv_results_[ 'mean_test_score' ]\n",
    "#stds = grid_result.cv_results_[ 'std_test_score' ]\n",
    "#params = grid_result.cv_results_[ 'params' ]\n",
    "\n",
    "#==============================================================\n",
    "# TIEMPO APROXIMADO 4 HORAS.\n",
    "#=============================================================="
   ]
  },
  {
   "cell_type": "code",
   "execution_count": 129,
   "metadata": {},
   "outputs": [],
   "source": [
    "#==============================================================\n",
    "#================= RESULTADO DE LA BÚSQUEDA.\n",
    "#==============================================================\n",
    "# grid_result.best_params_"
   ]
  },
  {
   "cell_type": "code",
   "execution_count": 130,
   "metadata": {},
   "outputs": [],
   "source": [
    "## MODELO ENSAMBLE 1.\n",
    "trainX_M1, testX_M1, trainY_M1, testY_M1 = train_test_split(X, Y, test_size=0.2, random_state=45)\n",
    "data_dmatrix_inst = xgb.DMatrix(data=trainX_M1,label=trainY_M1)\n",
    "model1 = xgb.XGBClassifier(objective = 'binary:logistic', \n",
    "                          n_estimators = 500,\n",
    "                          min_child_weight = 5,\n",
    "                          learning_rate = 0.05017181127931773,\n",
    "                          gamma = 10,\n",
    "                          reg_lambda = 3,\n",
    "                          max_depth = 9,\n",
    "                          colsample_bytree = 0.7585033814547916, \n",
    "                          subsample = 0.9779760690574663)\n",
    "model1.fit(trainX_M1,trainY_M1)\n",
    "pred_M1 = model1.predict(testX_M1)"
   ]
  },
  {
   "cell_type": "code",
   "execution_count": 131,
   "metadata": {},
   "outputs": [
    {
     "name": "stdout",
     "output_type": "stream",
     "text": [
      "\u001b[31mThe Confusion Matrix is: \u001b[0m \n",
      " [[765 111]\n",
      " [308 339]]\n",
      "\u001b[34mThe Accuracy on Test Set is: \u001b[0m \u001b[34m0.7248850952068286\u001b[0m\n"
     ]
    }
   ],
   "source": [
    "# Making the Confusion Matrix\n",
    "cm = confusion_matrix(testY_M1, (pred_M1>0.5))\n",
    "print(colored('The Confusion Matrix is: ', 'red'),'\\n', cm)\n",
    "# Calculate the accuracy on test set\n",
    "predict_accuracy_on_test_set = (cm[0,0] + cm[1,1])/(cm[0,0] + cm[1,1]+cm[1,0] + cm[0,1])\n",
    "print(colored('The Accuracy on Test Set is: ', 'blue'), colored(predict_accuracy_on_test_set, 'blue'))"
   ]
  },
  {
   "cell_type": "code",
   "execution_count": 132,
   "metadata": {},
   "outputs": [],
   "source": [
    "# MODELO ENSAMBLE 2.\n",
    "trainX_M2, testX_M2, trainY_M2, testY_M2 = train_test_split(X, Y, test_size=0.2, random_state=40)\n",
    "data_dmatrix_inst = xgb.DMatrix(data=trainX_M2,label=trainY_M2)\n",
    "model2 = xgb.XGBClassifier(objective = 'binary:logistic', \n",
    "                          n_estimators = 500,\n",
    "                          min_child_weight = 5,\n",
    "                          learning_rate = 0.1,\n",
    "                          gamma = 9,\n",
    "                          reg_lambda = 2,\n",
    "                          max_depth = 7,\n",
    "                          colsample_bytree = 0.6, \n",
    "                          subsample = 0.8)\n",
    "model2.fit(trainX_M2,trainY_M2)\n",
    "pred_M2 = model2.predict(testX_M2)"
   ]
  },
  {
   "cell_type": "code",
   "execution_count": 133,
   "metadata": {},
   "outputs": [
    {
     "name": "stdout",
     "output_type": "stream",
     "text": [
      "\u001b[31mThe Confusion Matrix is: \u001b[0m \n",
      " [[723 129]\n",
      " [286 385]]\n",
      "\u001b[34mThe Accuracy on Test Set is: \u001b[0m \u001b[34m0.7275114904793172\u001b[0m\n"
     ]
    }
   ],
   "source": [
    "# Making the Confusion Matrix\n",
    "cm = confusion_matrix(testY_M2, (pred_M2>0.5))\n",
    "print(colored('The Confusion Matrix is: ', 'red'),'\\n', cm)\n",
    "# Calculate the accuracy on test set\n",
    "predict_accuracy_on_test_set = (cm[0,0] + cm[1,1])/(cm[0,0] + cm[1,1]+cm[1,0] + cm[0,1])\n",
    "print(colored('The Accuracy on Test Set is: ', 'blue'), colored(predict_accuracy_on_test_set, 'blue'))"
   ]
  },
  {
   "cell_type": "code",
   "execution_count": 134,
   "metadata": {},
   "outputs": [],
   "source": [
    "#=======================================\n",
    "# MODELO ENSAMBLE 3.\n",
    "#=======================================\n",
    "# CON HIPER PARÁMETROS DE LA BÚSQUEDA.\n",
    "#=======================================\n",
    "\n",
    "trainX_M3, testX_M3, trainY_M3, testY_M3 = train_test_split(X, Y, test_size=0.2, random_state=123)\n",
    "data_dmatrix_inst = xgb.DMatrix(data=trainX_M3,label=trainY_M3)\n",
    "model3 = xgb.XGBClassifier(objective = 'binary:logistic', \n",
    "                          n_estimators = 500,\n",
    "                          min_child_weight = 0.67,\n",
    "                          learning_rate = 0.1,\n",
    "                          max_depth = 10,\n",
    "                          colsample_bytree = 0.6699999999999997, \n",
    "                          colsample_bylevel = 1.0,\n",
    "                          subsample = 1.0)\n",
    "model3.fit(trainX_M3,trainY_M3)\n",
    "pred_M3 = model3.predict(testX_M3)"
   ]
  },
  {
   "cell_type": "code",
   "execution_count": 135,
   "metadata": {},
   "outputs": [
    {
     "name": "stdout",
     "output_type": "stream",
     "text": [
      "\u001b[31mThe Confusion Matrix is: \u001b[0m \n",
      " [[747 132]\n",
      " [232 412]]\n",
      "\u001b[34mThe Accuracy on Test Set is: \u001b[0m \u001b[34m0.7609980302035456\u001b[0m\n"
     ]
    }
   ],
   "source": [
    "# Making the Confusion Matrix\n",
    "cm = confusion_matrix(testY_M3, (pred_M3>0.5))\n",
    "print(colored('The Confusion Matrix is: ', 'red'),'\\n', cm)\n",
    "# Calculate the accuracy on test set\n",
    "predict_accuracy_on_test_set = (cm[0,0] + cm[1,1])/(cm[0,0] + cm[1,1]+cm[1,0] + cm[0,1])\n",
    "print(colored('The Accuracy on Test Set is: ', 'blue'), colored(predict_accuracy_on_test_set, 'blue'))"
   ]
  },
  {
   "cell_type": "code",
   "execution_count": 136,
   "metadata": {},
   "outputs": [],
   "source": [
    "# MODELO ENSAMBLE 4. RANDOM FOREST.\n",
    "#trainX_M4, testX_M4, trainY_M4, testY_M4 = train_test_split(X, Y, test_size=0.3, random_state=321)\n",
    "#data_dmatrix_inst = xgb.DMatrix(data=trainX_M4,label=trainY_M4)\n",
    "#model4 =  RandomForestRegressor(n_estimators = 200, random_state = 100)\n",
    "#model4.fit(trainX_M4,trainY_M4)\n",
    "#pred_M4 = model4.predict(testX_M4)"
   ]
  },
  {
   "cell_type": "code",
   "execution_count": 137,
   "metadata": {},
   "outputs": [],
   "source": [
    "trainX_M4, testX_M4, trainY_M4, testY_M4 = train_test_split(X, Y, test_size=0.2, random_state=8)\n",
    "model4 = RandomForestClassifier(bootstrap=True,max_depth=110,max_features=2,min_samples_leaf=5,min_samples_split=10,n_estimators=200)\n",
    "model4.fit(trainX_M4,trainY_M4)\n",
    "pred_M4 = model4.predict(testX_M4)"
   ]
  },
  {
   "cell_type": "code",
   "execution_count": 138,
   "metadata": {},
   "outputs": [
    {
     "name": "stdout",
     "output_type": "stream",
     "text": [
      "\u001b[31mThe Confusion Matrix is: \u001b[0m \n",
      " [[803  57]\n",
      " [384 279]]\n",
      "\u001b[34mThe Accuracy on Test Set is: \u001b[0m \u001b[34m0.7104399212081418\u001b[0m\n"
     ]
    }
   ],
   "source": [
    "# Making the Confusion Matrix\n",
    "cm = confusion_matrix(testY_M4, (pred_M4>0.5))\n",
    "print(colored('The Confusion Matrix is: ', 'red'),'\\n', cm)\n",
    "# Calculate the accuracy on test set\n",
    "predict_accuracy_on_test_set = (cm[0,0] + cm[1,1])/(cm[0,0] + cm[1,1]+cm[1,0] + cm[0,1])\n",
    "print(colored('The Accuracy on Test Set is: ', 'blue'), colored(predict_accuracy_on_test_set, 'blue'))"
   ]
  },
  {
   "cell_type": "code",
   "execution_count": 139,
   "metadata": {},
   "outputs": [],
   "source": [
    "trainX_M6, testX_M6, trainY_M6, testY_M6 = train_test_split(X, Y, test_size=0.2, random_state=8)\n",
    "model6 = RandomForestClassifier(n_jobs=2,random_state=1,max_features=5,max_depth=35, min_samples_split=2)\n",
    "model6.fit(trainX_M6,trainY_M6)\n",
    "pred_M6 = model4.predict(testX_M6)"
   ]
  },
  {
   "cell_type": "code",
   "execution_count": 140,
   "metadata": {},
   "outputs": [
    {
     "name": "stdout",
     "output_type": "stream",
     "text": [
      "\u001b[31mThe Confusion Matrix is: \u001b[0m \n",
      " [[803  57]\n",
      " [384 279]]\n",
      "\u001b[34mThe Accuracy on Test Set is: \u001b[0m \u001b[34m0.7104399212081418\u001b[0m\n"
     ]
    }
   ],
   "source": [
    "# Making the Confusion Matrix\n",
    "cm = confusion_matrix(testY_M6, (pred_M6>0.5))\n",
    "print(colored('The Confusion Matrix is: ', 'red'),'\\n', cm)\n",
    "# Calculate the accuracy on test set\n",
    "predict_accuracy_on_test_set = (cm[0,0] + cm[1,1])/(cm[0,0] + cm[1,1]+cm[1,0] + cm[0,1])\n",
    "print(colored('The Accuracy on Test Set is: ', 'blue'), colored(predict_accuracy_on_test_set, 'blue'))"
   ]
  },
  {
   "cell_type": "code",
   "execution_count": 141,
   "metadata": {},
   "outputs": [],
   "source": [
    "# MODELO ENSAMBLE 5.\n",
    "trainX_M5, testX_M5, trainY_M5, testY_M5 = train_test_split(X, Y, test_size=0.2, random_state=8)\n",
    "data_dmatrix_inst = xgb.DMatrix(data=trainX_M5,label=trainY_M5)\n",
    "model5 = xgb.XGBClassifier(objective = 'binary:logistic', \n",
    "                          n_estimators = 500,\n",
    "                          min_child_weight = 5,\n",
    "                          learning_rate = 0.05017181127931773,\n",
    "                          gamma = 9,\n",
    "                          reg_lambda = 2,\n",
    "                          max_depth = 6,\n",
    "                          colsample_bytree = 0.7585033814547916, \n",
    "                          subsample = 0.9779760690574663)\n",
    "model5.fit(trainX_M5,trainY_M5)\n",
    "pred_M5 = model5.predict(testX_M5)"
   ]
  },
  {
   "cell_type": "code",
   "execution_count": 142,
   "metadata": {},
   "outputs": [
    {
     "name": "stdout",
     "output_type": "stream",
     "text": [
      "\u001b[31mThe Confusion Matrix is: \u001b[0m \n",
      " [[748 112]\n",
      " [329 334]]\n",
      "\u001b[34mThe Accuracy on Test Set is: \u001b[0m \u001b[34m0.7104399212081418\u001b[0m\n"
     ]
    }
   ],
   "source": [
    "# Making the Confusion Matrix\n",
    "cm = confusion_matrix(testY_M5, (pred_M5>0.5))\n",
    "print(colored('The Confusion Matrix is: ', 'red'),'\\n', cm)\n",
    "# Calculate the accuracy on test set\n",
    "predict_accuracy_on_test_set = (cm[0,0] + cm[1,1])/(cm[0,0] + cm[1,1]+cm[1,0] + cm[0,1])\n",
    "print(colored('The Accuracy on Test Set is: ', 'blue'), colored(predict_accuracy_on_test_set, 'blue'))"
   ]
  },
  {
   "cell_type": "code",
   "execution_count": 159,
   "metadata": {},
   "outputs": [],
   "source": [
    "y_pred=(pred_M1+pred_M2+pred_M3+pred_M5)/4\n",
    "\n",
    "\n",
    "#x1 = list(pred_M1) + list(pred_M2) + list(pred_M3) + list(pred_M5)\n",
    "\n",
    "#Put it back into a numpy array\n",
    "#x1 = np.array(x1)\n",
    "\n",
    "testY = (testY_M1+testY_M2+testY_M3+testY_M5)/4"
   ]
  },
  {
   "cell_type": "code",
   "execution_count": 160,
   "metadata": {},
   "outputs": [],
   "source": [
    "y_pred_ENS = np.where(y_pred>0.5, 1, 0)\n",
    "testY_ENS = np.where(testY>0.5, 1, 0)"
   ]
  },
  {
   "cell_type": "code",
   "execution_count": 162,
   "metadata": {},
   "outputs": [
    {
     "name": "stdout",
     "output_type": "stream",
     "text": [
      "\u001b[31mThe Confusion Matrix is: \u001b[0m \n",
      " [[1127   65]\n",
      " [ 231  100]]\n",
      "\u001b[34mThe Accuracy on Test Set is: \u001b[0m \u001b[34m0.8056467498358503\u001b[0m\n"
     ]
    }
   ],
   "source": [
    "# Making the Confusion Matrix\n",
    "cm = confusion_matrix(testY_ENS, (y_pred_ENS>0.5))\n",
    "print(colored('The Confusion Matrix is: ', 'red'),'\\n', cm)\n",
    "# Calculate the accuracy on test set\n",
    "predict_accuracy_on_test_set = (cm[0,0] + cm[1,1])/(cm[0,0] + cm[1,1]+cm[1,0] + cm[0,1])\n",
    "print(colored('The Accuracy on Test Set is: ', 'blue'), colored(predict_accuracy_on_test_set, 'blue'))"
   ]
  },
  {
   "cell_type": "code",
   "execution_count": 166,
   "metadata": {},
   "outputs": [],
   "source": [
    "#=====================================================\n",
    "# AHORA LO HACEMOS COMPLETO:\n",
    "#=====================================================\n",
    "#model3.fit(X,Y)\n",
    "#prediccion = model3.predict(original_test)\n",
    "\n",
    "#======================================================\n",
    "\n",
    "pred_M1_f = model1.predict(original_test)\n",
    "pred_M2_f = model2.predict(original_test)\n",
    "pred_M3_f = model3.predict(original_test)\n",
    "pred_M5_f = model5.predict(original_test)\n",
    "\n",
    "ediccion =(pred_M1_f+pred_M2_f+pred_M3_f+pred_M5_f)/4\n",
    "\n",
    "y_pred_ENS = np.where(ediccion>0.5, 1, 0)"
   ]
  },
  {
   "cell_type": "code",
   "execution_count": 167,
   "metadata": {},
   "outputs": [
    {
     "data": {
      "text/html": [
       "<div>\n",
       "<style scoped>\n",
       "    .dataframe tbody tr th:only-of-type {\n",
       "        vertical-align: middle;\n",
       "    }\n",
       "\n",
       "    .dataframe tbody tr th {\n",
       "        vertical-align: top;\n",
       "    }\n",
       "\n",
       "    .dataframe thead th {\n",
       "        text-align: right;\n",
       "    }\n",
       "</style>\n",
       "<table border=\"1\" class=\"dataframe\">\n",
       "  <thead>\n",
       "    <tr style=\"text-align: right;\">\n",
       "      <th></th>\n",
       "      <th>id</th>\n",
       "      <th>target</th>\n",
       "    </tr>\n",
       "  </thead>\n",
       "  <tbody>\n",
       "    <tr>\n",
       "      <th>0</th>\n",
       "      <td>0</td>\n",
       "      <td>0</td>\n",
       "    </tr>\n",
       "    <tr>\n",
       "      <th>1</th>\n",
       "      <td>2</td>\n",
       "      <td>1</td>\n",
       "    </tr>\n",
       "    <tr>\n",
       "      <th>2</th>\n",
       "      <td>3</td>\n",
       "      <td>0</td>\n",
       "    </tr>\n",
       "    <tr>\n",
       "      <th>3</th>\n",
       "      <td>9</td>\n",
       "      <td>1</td>\n",
       "    </tr>\n",
       "    <tr>\n",
       "      <th>4</th>\n",
       "      <td>11</td>\n",
       "      <td>1</td>\n",
       "    </tr>\n",
       "    <tr>\n",
       "      <th>...</th>\n",
       "      <td>...</td>\n",
       "      <td>...</td>\n",
       "    </tr>\n",
       "    <tr>\n",
       "      <th>3258</th>\n",
       "      <td>10861</td>\n",
       "      <td>1</td>\n",
       "    </tr>\n",
       "    <tr>\n",
       "      <th>3259</th>\n",
       "      <td>10865</td>\n",
       "      <td>1</td>\n",
       "    </tr>\n",
       "    <tr>\n",
       "      <th>3260</th>\n",
       "      <td>10868</td>\n",
       "      <td>1</td>\n",
       "    </tr>\n",
       "    <tr>\n",
       "      <th>3261</th>\n",
       "      <td>10874</td>\n",
       "      <td>1</td>\n",
       "    </tr>\n",
       "    <tr>\n",
       "      <th>3262</th>\n",
       "      <td>10875</td>\n",
       "      <td>1</td>\n",
       "    </tr>\n",
       "  </tbody>\n",
       "</table>\n",
       "<p>3263 rows × 2 columns</p>\n",
       "</div>"
      ],
      "text/plain": [
       "         id  target\n",
       "0         0       0\n",
       "1         2       1\n",
       "2         3       0\n",
       "3         9       1\n",
       "4        11       1\n",
       "...     ...     ...\n",
       "3258  10861       1\n",
       "3259  10865       1\n",
       "3260  10868       1\n",
       "3261  10874       1\n",
       "3262  10875       1\n",
       "\n",
       "[3263 rows x 2 columns]"
      ]
     },
     "execution_count": 167,
     "metadata": {},
     "output_type": "execute_result"
    }
   ],
   "source": [
    "original_test = pd.read_csv('data/processed/original_test.csv')\n",
    "kaggle_submission = pd.DataFrame(original_test,columns = ['id'])\n",
    "kaggle_submission[\"target\"] = y_pred_ENS\n",
    "kaggle_submission"
   ]
  },
  {
   "cell_type": "code",
   "execution_count": 168,
   "metadata": {},
   "outputs": [],
   "source": [
    "kaggle_submission.to_csv(\"data/submits/submission_XGB_13_ENSAMBLE.csv\", index=False)"
   ]
  },
  {
   "cell_type": "markdown",
   "metadata": {},
   "source": [
    "### =====================================================================\n",
    "### FIN DEL XGBOOST.\n",
    "### ====================================================================="
   ]
  },
  {
   "cell_type": "code",
   "execution_count": null,
   "metadata": {},
   "outputs": [],
   "source": []
  },
  {
   "cell_type": "code",
   "execution_count": null,
   "metadata": {},
   "outputs": [],
   "source": []
  }
 ],
 "metadata": {
  "kernelspec": {
   "display_name": "Python 3",
   "language": "python",
   "name": "python3"
  },
  "language_info": {
   "codemirror_mode": {
    "name": "ipython",
    "version": 3
   },
   "file_extension": ".py",
   "mimetype": "text/x-python",
   "name": "python",
   "nbconvert_exporter": "python",
   "pygments_lexer": "ipython3",
   "version": "3.8.2"
  }
 },
 "nbformat": 4,
 "nbformat_minor": 4
}
