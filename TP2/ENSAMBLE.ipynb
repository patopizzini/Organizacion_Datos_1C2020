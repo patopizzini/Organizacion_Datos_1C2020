{
 "cells": [
  {
   "cell_type": "code",
   "execution_count": 55,
   "metadata": {},
   "outputs": [],
   "source": [
    "\n",
    "# Importacion de librerias necesarias\n",
    "import re, string, random, datetime\n",
    "import warnings\n",
    "import pandas as pd\n",
    "import numpy as np\n",
    "import matplotlib.pyplot as plt\n",
    "from scipy.stats.mstats import mode"
   ]
  },
  {
   "cell_type": "code",
   "execution_count": 66,
   "metadata": {},
   "outputs": [],
   "source": [
    "CNN = pd.read_csv('data/submits/submission.2020.08.04T11.52.05.274146.csv')\n",
    "XGBOOST = pd.read_csv('data/submits/submission_XGB_12.csv')\n",
    "MLP = pd.read_csv('data/submits/submission_MLP_08.csv')\n",
    "original_test = pd.read_csv('data/test.csv')"
   ]
  },
  {
   "cell_type": "code",
   "execution_count": 67,
   "metadata": {},
   "outputs": [],
   "source": [
    "#============================================\n",
    "# ENSAMBLE: MAX VOTING.\n",
    "#============================================"
   ]
  },
  {
   "cell_type": "code",
   "execution_count": 68,
   "metadata": {},
   "outputs": [],
   "source": [
    "y_pred_MV = np.array([])\n",
    "for i in range(0,len(original_test['id'])):\n",
    "    y_pred_MV = np.append(y_pred_MV, mode([CNN[\"target\"][i], XGBOOST[\"target\"][i], MLP[\"target\"][i]])[0])"
   ]
  },
  {
   "cell_type": "code",
   "execution_count": 69,
   "metadata": {},
   "outputs": [
    {
     "name": "stdout",
     "output_type": "stream",
     "text": [
      "data/submits/ensambles/submission_MV_2020-08-04T12:23:00.865155.csv\n"
     ]
    }
   ],
   "source": [
    "pathmv = \"data/submits/ensambles/submission_MV_\" + datetime.datetime.now().isoformat() + \".csv\"\n",
    "\n",
    "submission_MV = pd.DataFrame(original_test,columns = ['id'])\n",
    "submission_MV[\"target\"] = y_pred_MV\n",
    "submission_MV.to_csv(pathmv, index=False)\n",
    "submission_MV[\"target\"].value_counts()\n",
    "print(pathmv)"
   ]
  },
  {
   "cell_type": "code",
   "execution_count": 70,
   "metadata": {},
   "outputs": [],
   "source": [
    "#============================================\n",
    "# ENSAMBLE: WEIGHTED AVERAGE. \n",
    "#============================================"
   ]
  },
  {
   "cell_type": "code",
   "execution_count": 73,
   "metadata": {},
   "outputs": [
    {
     "name": "stdout",
     "output_type": "stream",
     "text": [
      "data/submits/ensambles/submission_WA_2020-08-04T12:25:07.359083.csv\n"
     ]
    }
   ],
   "source": [
    "prediccion =( (0.40*CNN[\"target\"]) + (0.40*XGBOOST[\"target\"]) + (0.20*MLP[\"target\"]) )\n",
    "y_pred_WA = np.where(prediccion>0.5, 1, 0)    \n",
    "\n",
    "pathwa = \"data/submits/ensambles/submission_WA_\" + datetime.datetime.now().isoformat() + \".csv\"\n",
    "\n",
    "submission_WA = pd.DataFrame(original_test,columns = ['id'])\n",
    "submission_WA[\"target\"] = y_pred_WA\n",
    "submission_WA.to_csv(pathwa, index=False)\n",
    "submission_WA[\"target\"].value_counts()\n",
    "print(pathwa)"
   ]
  },
  {
   "cell_type": "code",
   "execution_count": null,
   "metadata": {},
   "outputs": [],
   "source": []
  }
 ],
 "metadata": {
  "kernelspec": {
   "display_name": "Python 3",
   "language": "python",
   "name": "python3"
  },
  "language_info": {
   "codemirror_mode": {
    "name": "ipython",
    "version": 3
   },
   "file_extension": ".py",
   "mimetype": "text/x-python",
   "name": "python",
   "nbconvert_exporter": "python",
   "pygments_lexer": "ipython3",
   "version": "3.8.2"
  }
 },
 "nbformat": 4,
 "nbformat_minor": 4
}
